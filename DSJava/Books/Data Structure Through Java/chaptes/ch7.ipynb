{
 "cells": [
  {
   "cell_type": "markdown",
   "metadata": {},
   "source": [
    "# Chapter Seven: Stack"
   ]
  },
  {
   "cell_type": "markdown",
   "metadata": {},
   "source": [
    "## Introduction"
   ]
  },
  {
   "cell_type": "markdown",
   "metadata": {},
   "source": [
    "**Stack** is a linear data structure in which the insertion and deletion operations are performed at only one end which is known as \"top\". A new element is inserted on top of the stack and an element is deleted from the top of the stack these operations are also called push operation . In stack, the insertion and deletion operations are performed based on LIFO (Last In First Out) principle."
   ]
  },
  {
   "cell_type": "markdown",
   "metadata": {},
   "source": [
    "Stack is a linear data structure in which the operations are performed based on LIFO principle.\n",
    "\n",
    "\"A Collection of similar data items in which both insertion and deletion operations are performed based on LIFO principle\".\n",
    "\n",
    "1. Push (To insert an element on to the stack)\n",
    "2. Pop (To delete an element from the stack)\n",
    "3. Display (To display elements of the stack)"
   ]
  },
  {
   "cell_type": "markdown",
   "metadata": {},
   "source": [
    "## Stack Through Array Implementation"
   ]
  },
  {
   "cell_type": "markdown",
   "metadata": {},
   "source": [
    "### Stack Properties and Its Operations"
   ]
  },
  {
   "cell_type": "markdown",
   "metadata": {},
   "source": [
    "![Stack UML Diagram](../../../image/StackUML.jpeg \"Stack UML Diagram\")"
   ]
  },
  {
   "cell_type": "markdown",
   "metadata": {},
   "source": [
    "### Stack Class"
   ]
  },
  {
   "cell_type": "code",
   "execution_count": 2,
   "metadata": {},
   "outputs": [],
   "source": [
    "public class Stack {\n",
    "\n",
    "int arr[];\n",
    "final int SIZE;\n",
    "int TOP;\n",
    "\n",
    "public Stack(int size) {\n",
    "    this.SIZE = size;\n",
    "    TOP=-1;\n",
    "    arr=new int[size];\n",
    "}\n",
    "\n",
    "/*\n",
    " * method to print elements of the stack\n",
    " */\n",
    "public void display() {\n",
    "\n",
    "}\n",
    "\n",
    "/*\n",
    " * method to add element on top of Stack\n",
    " */\n",
    "public void push(int data) {\n",
    "\n",
    "}\n",
    "\n",
    "/*\n",
    " * method to delete an element from top of Stack\n",
    " */\n",
    "public int pop() {\n",
    "\n",
    "    return -1;\n",
    "}\n",
    "\n",
    "/*\n",
    " * method to see the top element on the Stack\n",
    " */\n",
    "public int peek() {\n",
    "\n",
    "    return -1;\n",
    "}\n",
    "\n",
    "/*\n",
    " * method to check whether Stack is Empty\n",
    " */\n",
    "public boolean isEmpty() {\n",
    "\n",
    "    return false;\n",
    "}\n",
    "\n",
    "/*\n",
    " * method to check whether Stack is Full\n",
    " */\n",
    "public boolean isFull() {\n",
    "\n",
    "    return false;\n",
    "}\n",
    "\n",
    "}"
   ]
  },
  {
   "cell_type": "markdown",
   "metadata": {},
   "source": [
    "### Checking Stack Underflow Case"
   ]
  },
  {
   "cell_type": "code",
   "execution_count": 1,
   "metadata": {},
   "outputs": [],
   "source": [
    "//method to check Underflow Case or Not\n",
    "public boolean isEmpty(){\n",
    "    if(TOP==-1)\n",
    "        //Underflow Case\n",
    "        return true;\n",
    "    return false;\n",
    "}"
   ]
  },
  {
   "cell_type": "markdown",
   "metadata": {},
   "source": [
    "### Checking Stack Overflow Case"
   ]
  },
  {
   "cell_type": "code",
   "execution_count": 2,
   "metadata": {},
   "outputs": [],
   "source": [
    "//method to check Overflow Case or Not\n",
    "public boolean isFull(){\n",
    "    if(TOP==SIZE-1)\n",
    "        //Overflow Case\n",
    "        return true;\n",
    "    return false;\n",
    "}"
   ]
  },
  {
   "cell_type": "markdown",
   "metadata": {},
   "source": [
    "### push() Operation"
   ]
  },
  {
   "cell_type": "markdown",
   "metadata": {},
   "source": [
    "#### Algorith push(data)\n",
    "Begin\n",
    "\n",
    "   //Check for stack **Underflow** case, if yes print **\"Stack Underflow\"** and return back to calling method.\n",
    "    "
   ]
  },
  {
   "cell_type": "markdown",
   "metadata": {},
   "source": []
  },
  {
   "cell_type": "code",
   "execution_count": null,
   "metadata": {},
   "outputs": [],
   "source": [
    "/*\n",
    " * method to add element on top of Stack\n",
    " */\n",
    "public void push(int data) {\n",
    "    if(isFull()==true) {\n",
    "        System.out.println(\"Stack Overflow!!!\");\n",
    "        return;\n",
    "    }\n",
    "    TOP++;\n",
    "    arr[TOP]=data;\n",
    "    System.out.println(data +\" is pushed\");\n",
    "}"
   ]
  },
  {
   "cell_type": "markdown",
   "metadata": {},
   "source": [
    "### pop() Operation"
   ]
  },
  {
   "cell_type": "code",
   "execution_count": null,
   "metadata": {},
   "outputs": [],
   "source": [
    "/*\n",
    " * method to delete an element from top of Stack\n",
    " */\n",
    "public int pop() {\n",
    "    if(isEmpty()==true) {\n",
    "        System.out.println(\"Stack Undeflow!!!\");\n",
    "        return -1;\n",
    "    }\n",
    "    int data = arr[TOP];\n",
    "    TOP--;\n",
    "    return data;\n",
    "}"
   ]
  },
  {
   "cell_type": "markdown",
   "metadata": {},
   "source": [
    "### peek() Operation"
   ]
  },
  {
   "cell_type": "code",
   "execution_count": null,
   "metadata": {},
   "outputs": [],
   "source": [
    "/*\n",
    " * method to see the top element on the Stack\n",
    " */\n",
    "public int peek() {\n",
    "    if(isEmpty()==true) {\n",
    "        System.out.println(\"Stack Underflow!!!\");\n",
    "        return -1;\n",
    "    }\n",
    "\n",
    "    return arr[TOP];\n",
    "}"
   ]
  },
  {
   "cell_type": "markdown",
   "metadata": {},
   "source": [
    "### display() Operation"
   ]
  },
  {
   "cell_type": "code",
   "execution_count": null,
   "metadata": {},
   "outputs": [],
   "source": [
    "/*\n",
    " * method to print elements of the stack\n",
    " */\n",
    "public void display() {\n",
    "    if(isEmpty()==true) {\n",
    "        System.out.println(\"Stack Underflow!!!\");\n",
    "        return;\n",
    "    }\n",
    "    System.out.print(\"STACK: \");\n",
    "    for(int i=0; i<=TOP; i++)\n",
    "        System.out.print(arr[i]+\" \");\n",
    "    System.out.println();\n",
    "}"
   ]
  },
  {
   "cell_type": "markdown",
   "metadata": {},
   "source": [
    "## Stack Through Linked List Implementation"
   ]
  },
  {
   "cell_type": "markdown",
   "metadata": {},
   "source": [
    "### Stack Properties and Its Operations"
   ]
  },
  {
   "cell_type": "code",
   "execution_count": 3,
   "metadata": {},
   "outputs": [],
   "source": [
    "public class Node{\n",
    "    int data;\n",
    "    Node next;\n",
    "}"
   ]
  },
  {
   "cell_type": "code",
   "execution_count": null,
   "metadata": {},
   "outputs": [],
   "source": [
    "//TOP is used to keep the reference of top node\n",
    "Node TOP;"
   ]
  },
  {
   "cell_type": "markdown",
   "metadata": {},
   "source": [
    "### Checking Stack Underflow Case"
   ]
  },
  {
   "cell_type": "code",
   "execution_count": null,
   "metadata": {},
   "outputs": [],
   "source": [
    "/*\n",
    " * method to check Underflow case\n",
    " */\n",
    "public boolean isEmpty() {\n",
    "    if(this.TOP==null)\n",
    "        return true;\n",
    "    return false;\n",
    "}"
   ]
  },
  {
   "cell_type": "markdown",
   "metadata": {},
   "source": [
    "### Checking Stack Overflow Case"
   ]
  },
  {
   "cell_type": "markdown",
   "metadata": {},
   "source": [
    "In Stack using Linked List we do not have provision to check for **Overflow** as far as system does have enough memory to allocate for Node creation. If new Node is not create due to memory scarcity that as is called Overflow."
   ]
  },
  {
   "cell_type": "markdown",
   "metadata": {},
   "source": [
    "### push() Operation"
   ]
  },
  {
   "cell_type": "code",
   "execution_count": 1,
   "metadata": {},
   "outputs": [],
   "source": [
    " /*\n",
    "  * method to insert a given node at the beginning\n",
    "  */\n",
    "public void push(Node node) {\n",
    "    //check of empty case\n",
    "    if(this.isEmpty()==true) {\n",
    "        TOP=node;\n",
    "        return;\n",
    "    }\n",
    "\n",
    "        node.next=TOP;\n",
    "        TOP=node;\n",
    "}"
   ]
  },
  {
   "cell_type": "markdown",
   "metadata": {},
   "source": [
    "### pop() Operation"
   ]
  },
  {
   "cell_type": "code",
   "execution_count": 2,
   "metadata": {},
   "outputs": [],
   "source": [
    "/*\n",
    " *method to delete a node from the beginning \n",
    " */\n",
    "public Node pop() {\n",
    "    if(this.isEmpty()==true) {\n",
    "        System.out.println(\"List is Empty...Deletion is not Possible!!!\");\n",
    "        return null;\n",
    "    }\n",
    "    Node temp=TOP;\n",
    "    TOP=TOP.next;\n",
    "    temp.next=null;\n",
    "    return temp;\n",
    "}"
   ]
  },
  {
   "cell_type": "markdown",
   "metadata": {},
   "source": [
    "### peek() Operation"
   ]
  },
  {
   "cell_type": "code",
   "execution_count": 3,
   "metadata": {},
   "outputs": [],
   "source": [
    "/*\n",
    " * method to see top node\n",
    " */\n",
    "public Node peek() {\n",
    "    if(isEmpty()==true) {\n",
    "        System.out.println(\"Stack Underflow!!!\");\n",
    "        return null;\n",
    "    }\n",
    "    return TOP;\n",
    "}"
   ]
  },
  {
   "cell_type": "markdown",
   "metadata": {},
   "source": [
    "### display() Operation"
   ]
  },
  {
   "cell_type": "code",
   "execution_count": 4,
   "metadata": {},
   "outputs": [],
   "source": [
    "/*\n",
    " * method to traverse all the nodes in the list\n",
    " */\n",
    "public void display() {\n",
    "    if(isEmpty()==true) {\n",
    "        System.out.println(\"Stack Underflow!!!\");\n",
    "        return;\n",
    "    }\n",
    "    else {\n",
    "        Node temp=this.TOP;\n",
    "        System.out.print(\"Stack: \");\n",
    "        while(temp!=null) {\n",
    "            System.out.print(temp.data+\" \");\n",
    "            temp=temp.next;\n",
    "        }\n",
    "        System.out.println();\n",
    "    }\n",
    "}"
   ]
  },
  {
   "cell_type": "markdown",
   "metadata": {},
   "source": [
    "## Stack Applications"
   ]
  },
  {
   "cell_type": "markdown",
   "metadata": {},
   "source": [
    "### Bracket Balance Checking"
   ]
  },
  {
   "cell_type": "code",
   "execution_count": null,
   "metadata": {},
   "outputs": [],
   "source": [
    "public class BracketBalencing {\n",
    "\n",
    "public static void main(String[] args) {\n",
    "    //Create a stack object\n",
    "    String exp = \"{(1+5)*5}\";\n",
    "    StackChar stack = new StackChar(exp.length());\n",
    "    char arr[]=exp.toCharArray();\n",
    "\n",
    "    boolean  balence=true;\n",
    "    for(int i=0; i<arr.length; i++) {\n",
    "        if(isOpenningBracket(arr[i])==true) {\n",
    "            stack.push(arr[i]);\n",
    "        }\n",
    "\n",
    "\n",
    "        if(isClosingBracket(arr[i])==true) {\n",
    "            char a = stack.pop();\n",
    "            if(!isBalence(a, arr[i])) {\n",
    "                balence=false;\n",
    "                break;\n",
    "            }\n",
    "\n",
    "        }\n",
    "\n",
    "\n",
    "    }\n",
    "\n",
    "    if(stack.count()>0)\n",
    "        System.out.println(\"Not Balence!!!\");\n",
    "    else if(!balence)\n",
    "        System.out.println(\"Not Balence!!!\");\n",
    "    else\n",
    "        System.out.println(\"Balence!!!\");\n",
    "\n",
    "}\n",
    "\n",
    "public static boolean isOpenningBracket(char ch) {\n",
    "    if(ch=='(' || ch=='{' || ch=='[')\n",
    "        return true;\n",
    "    return false;\n",
    "}\n",
    "\n",
    "public static boolean isClosingBracket(char ch) {\n",
    "    if(ch==')' || ch=='}' || ch==']')\n",
    "        return true;\n",
    "    return false;\n",
    "}\n",
    "\n",
    "public static boolean isBalence(char openning, char closing) {\n",
    "    if(openning=='(' && closing==')')\n",
    "        return true;\n",
    "    if(openning=='{' && closing=='}')\n",
    "        return true;\n",
    "    if(openning=='[' && closing==']')\n",
    "        return true;\n",
    "    return false;\n",
    "}\n",
    "}"
   ]
  },
  {
   "cell_type": "markdown",
   "metadata": {},
   "source": [
    "### Reverse the String"
   ]
  },
  {
   "cell_type": "code",
   "execution_count": null,
   "metadata": {},
   "outputs": [],
   "source": [
    "public class StringReverse {\n",
    "\n",
    "public static void main(String[] args) {\n",
    "    String str = \"I am Student\";\n",
    "\n",
    "    System.out.println(reverse(str));\n",
    "}\n",
    "\n",
    "public static String reverse(String str) {\n",
    "    //Create an Empty stack of char type\n",
    "    StackChar stack = new StackChar(str.length());\n",
    "\n",
    "    //Convert the given String str to char array\n",
    "    char arr[] = str.toCharArray();\n",
    "\n",
    "    //push elements of arr[] into the stack\n",
    "    for(int i=0; i<arr.length; i++)\n",
    "        stack.push(arr[i]);\n",
    "\n",
    "    //pop each element and assign the popped elements to the same array starting from index zero\n",
    "    for(int i=0; i<arr.length; i++)\n",
    "        arr[i]=stack.pop();\n",
    "\n",
    "    //Convert the arr back to string representation\n",
    "    String str1 = String.copyValueOf(arr);\n",
    "\n",
    "    //return the str1\n",
    "    return str1;\n",
    "}"
   ]
  },
  {
   "cell_type": "markdown",
   "metadata": {},
   "source": [
    "### Polish Notation"
   ]
  },
  {
   "cell_type": "code",
   "execution_count": null,
   "metadata": {},
   "outputs": [],
   "source": [
    "public class PolishNotation {\n",
    "String exp;\n",
    "\n",
    "public static void main(String args[]) {\n",
    "    PolishNotation expression1 = new PolishNotation(\"X^Y/(5*Z)+2\");\n",
    "    PolishNotation expression2 = new PolishNotation(\"A*B+C/D\");\n",
    "    PolishNotation expression3 = new PolishNotation(\"(A-B/C)*(A/K-L)\");\n",
    "\n",
    "    //print postfix\n",
    "    System.out.println(\"Postfix: \"+expression1.infixToPostfix());\n",
    "    System.out.println(\"Postfix: \"+expression2.infixToPostfix());\n",
    "    System.out.println(\"Postfix: \"+expression3.infixToPostfix());\n",
    "\n",
    "    //print print prefix \n",
    "    System.out.println(\"Prefix: \"+expression1.infixToPrefix());\n",
    "    System.out.println(\"Prefix: \"+expression2.infixToPrefix());\n",
    "    System.out.println(\"Prefix: \"+expression3.infixToPrefix());\n",
    "\n",
    "    //create infix object\n",
    "    PolishNotation infix = new PolishNotation(\"1*(2+3)\");\n",
    "\n",
    "    //find postfix\n",
    "    System.out.println(infix.infixToPostfix());\n",
    "\n",
    "    //find postfix and evaluate together of infix\n",
    "    System.out.println(evaluate(infix.infixToPostfix()));\n",
    "}\n",
    "\n",
    "//Constructor\n",
    "public PolishNotation(String str){\n",
    "    this.exp = str;\n",
    "}\n",
    "\n",
    "/*\n",
    " * method to return postfix expression of a given infix expression\n",
    " */\n",
    "public String infixToPostfix() {\n",
    "    //Create Stack object of type char\n",
    "    StackChar stack = new StackChar(exp.length());\n",
    "\n",
    "    //Create postfix array with length of str\n",
    "    char postfix[] = new char[exp.length()];\n",
    "\n",
    "    //Convert the exp to toCharArray\n",
    "    char infix[] =  exp.toCharArray();\n",
    "    int postIndex=-1;\n",
    "    for(int i=0; i<infix.length; i++) {\n",
    "\n",
    "        //Check whether infix element is Alphanumeric\n",
    "        if(isAlphanumeric(infix[i])==true)\n",
    "            postfix[++postIndex]=infix[i];\n",
    "\n",
    "        //Check whether infix element is '(' Opening Bracket\n",
    "        else if(isOpenningBracket(infix[i])==true)\n",
    "            stack.push(infix[i]);\n",
    "\n",
    "        //Check whether infix element is ')' Closing Bracket\n",
    "        else if(isClosingBracket(infix[i])==true) \n",
    "            {\n",
    "                //pop all operator from stack and add to the postfix till '(' \n",
    "                while(!stack.isEmpty() && stack.peek()!='(')\n",
    "                    postfix[++postIndex]=stack.pop();\n",
    "\n",
    "                //pop '(' opening bracket also and ignore it\n",
    "                stack.pop();\n",
    "            }\n",
    "\n",
    "        else {\n",
    "                //Check precedence of infix element if greater than stack operator then push to top\n",
    "                if(getPrecedence(infix[i])> getPrecedence(stack.peek()))\n",
    "                    stack.push(infix[i]);\n",
    "                else {\n",
    "                    //Otherwise, Check the precedence of infix element with stack operator element, if lesser or equal pop and add to postfix\n",
    "                    while(!stack.isEmpty() && getPrecedence(infix[i])<=getPrecedence(stack.peek()))\n",
    "                        postfix[++postIndex]=stack.pop();\n",
    "\n",
    "                    //if not any of the above cases then push the element to stack\n",
    "                    stack.push(infix[i]);\n",
    "                }\n",
    "\n",
    "            }\n",
    "\n",
    "    }\n",
    "\n",
    "    //pop all the remaining elements from stack one-by-one and add to postfix\n",
    "    while(!stack.isEmpty()==true)\n",
    "        postfix[++postIndex]=stack.pop();\n",
    "\n",
    "    //Convert the char array postfix to string and return\n",
    "    return String.copyValueOf(postfix);\n",
    "}\n",
    "\n",
    "/*\n",
    " * method to find prefix expression of a given infix expression\n",
    " */\n",
    "public String infixToPrefix() {\n",
    "    PolishNotation revExp = new PolishNotation(reverse());\n",
    "    revExp.exp = revExp.infixToPostfix();\n",
    "    return revExp.reverse();\n",
    "}\n",
    "\n",
    "/*\n",
    " * method to check whether a character is operator\n",
    " */\n",
    "public static boolean isOperator(char ch) {\n",
    "    if(ch=='-' || ch=='+' || ch=='*' || ch=='/' || ch=='^')\n",
    "        return true;\n",
    "    return false;\n",
    "}\n",
    "\n",
    "/*\n",
    " * method to check whether a character is alphanumeric\n",
    " */\n",
    "public static boolean isAlphanumeric(char ch) {\n",
    "    if((ch>='A' && ch<='Z') || (ch>='a' && ch<='z') || (ch>='0' && ch<='9'))\n",
    "        return true;\n",
    "    return false;\n",
    "}\n",
    "\n",
    "/*\n",
    " * method to check whether a character is numeric\n",
    " */\n",
    "public static boolean isNumeric(char ch) {\n",
    "    if(ch>='0' && ch<='9')\n",
    "        return true;\n",
    "    return false;\n",
    "}\n",
    "/*\n",
    " * method to get the precedence of the operator\n",
    " */\n",
    "public static int getPrecedence(char operator) {\n",
    "    if(operator=='-' || operator=='+')\n",
    "        return 1;\n",
    "    else if(operator=='*' || operator=='/')\n",
    "        return 2;\n",
    "    else if(operator=='^')\n",
    "        return 3;\n",
    "    return 0;\n",
    "}\n",
    "\n",
    "/*\n",
    " * method to check whether a character ch is Opening bracket\n",
    " */\n",
    "public static boolean isOpenningBracket(char ch) {\n",
    "    if(ch=='(')\n",
    "        return true;\n",
    "    return false;\n",
    "}\n",
    "\n",
    "/*\n",
    " * method to check whether a character ch is closing braket\n",
    " */\n",
    "public static boolean isClosingBracket(char ch) {\n",
    "    if(ch==')')\n",
    "        return true;\n",
    "    return false;\n",
    "}\n",
    "\n",
    "public String reverse() {\n",
    "    //Create an Empty stack of char type\n",
    "    StackChar stack = new StackChar(exp.length());\n",
    "\n",
    "    //Convert the String exp to char array\n",
    "    char arr[] = exp.toCharArray();\n",
    "\n",
    "    //push elements of arr[] into the stack\n",
    "    for(int i=0; i<arr.length; i++)\n",
    "        stack.push(arr[i]);\n",
    "\n",
    "    //pop each element and assign the popped elements to the same array starting from index zero\n",
    "    for(int i=0; i<arr.length; i++) {\n",
    "        if(stack.peek()=='(') {\n",
    "            arr[i]=')';\n",
    "            stack.pop();\n",
    "        }\n",
    "\n",
    "        else if(stack.peek()==')') {\n",
    "            arr[i]='(';\n",
    "            stack.pop();\n",
    "        }\n",
    "        else\n",
    "            arr[i]=stack.pop();\n",
    "    }\n",
    "\n",
    "\n",
    "    //Convert the arr back to string representation\n",
    "    String str1 = String.copyValueOf(arr);\n",
    "\n",
    "    //return the str1\n",
    "    return str1;\n",
    "}\n",
    "\n",
    "/*\n",
    " * method for postfix expression evaluation\n",
    " */\n",
    "public static int evaluate(String str) {\n",
    "    Stack stack = new Stack(str.length());\n",
    "    char postfix[]=str.toCharArray();\n",
    "    for(int i=0; i<postfix.length; i++) {\n",
    "        if(isNumeric(postfix[i])==true)\n",
    "            stack.push(postfix[i]-'0');\n",
    "        else if (isOperator(postfix[i])){\n",
    "            int num2 = stack.pop();\n",
    "            int num1 = stack.pop();\n",
    "\n",
    "            switch(postfix[i]) {\n",
    "            case '+': stack.push(num1+num2); break;\n",
    "            case '-': stack.push(num1-num2); break;\n",
    "            case '*': stack.push(num1*num2); break;\n",
    "            case '/': stack.push(num1/num2); break;\n",
    "            case '^': stack.push(num1^num2); break;\n",
    "            }\n",
    "\n",
    "        }\n",
    "    }\n",
    "\n",
    "    return stack.peek();\n",
    "}\n",
    "}\n"
   ]
  },
  {
   "cell_type": "markdown",
   "metadata": {},
   "source": [
    "### Infix To Postifix"
   ]
  },
  {
   "cell_type": "code",
   "execution_count": null,
   "metadata": {},
   "outputs": [],
   "source": [
    "/*\n",
    " * method to return postfix expression of a given infix expression\n",
    " */\n",
    "public String infixToPostfix() {\n",
    "    //Create Stack object of type char\n",
    "    StackChar stack = new StackChar(exp.length());\n",
    "\n",
    "    //Create postfix array with length of str\n",
    "    char postfix[] = new char[exp.length()];\n",
    "\n",
    "    //Convert the exp to toCharArray\n",
    "    char infix[] =  exp.toCharArray();\n",
    "    int postIndex=-1;\n",
    "    for(int i=0; i<infix.length; i++) {\n",
    "\n",
    "        //Check whether infix element is Alphanumeric\n",
    "        if(isAlphanumeric(infix[i])==true)\n",
    "            postfix[++postIndex]=infix[i];\n",
    "\n",
    "        //Check whether infix element is '(' Opening Bracket\n",
    "        else if(isOpenningBracket(infix[i])==true)\n",
    "            stack.push(infix[i]);\n",
    "\n",
    "        //Check whether infix element is ')' Closing Bracket\n",
    "        else if(isClosingBracket(infix[i])==true) \n",
    "            {\n",
    "                //pop all operator from stack and add to the postfix till '(' \n",
    "                while(!stack.isEmpty() && stack.peek()!='(')\n",
    "                    postfix[++postIndex]=stack.pop();\n",
    "\n",
    "                //pop '(' opening bracket also and ignore it\n",
    "                stack.pop();\n",
    "            }\n",
    "\n",
    "        else {\n",
    "                //Check precedence of infix element if greater than stack operator then push to top\n",
    "                if(getPrecedence(infix[i])> getPrecedence(stack.peek()))\n",
    "                    stack.push(infix[i]);\n",
    "                else {\n",
    "                    //Otherwise, Check the precedence of infix element with stack operator element, if lesser or equal pop and add to postfix\n",
    "                    while(!stack.isEmpty() && getPrecedence(infix[i])<=getPrecedence(stack.peek()))\n",
    "                        postfix[++postIndex]=stack.pop();\n",
    "\n",
    "                    //if not any of the above cases then push the element to stack\n",
    "                    stack.push(infix[i]);\n",
    "                }\n",
    "\n",
    "            }\n",
    "\n",
    "    }\n",
    "\n",
    "    //pop all the remaining elements from stack one-by-one and add to postfix\n",
    "    while(!stack.isEmpty()==true)\n",
    "        postfix[++postIndex]=stack.pop();\n",
    "\n",
    "    //Convert the char array postfix to string and return\n",
    "    return String.copyValueOf(postfix);\n",
    "}"
   ]
  },
  {
   "cell_type": "markdown",
   "metadata": {},
   "source": [
    "### Infix To Prefix"
   ]
  },
  {
   "cell_type": "code",
   "execution_count": null,
   "metadata": {},
   "outputs": [],
   "source": [
    "/*\n",
    " * method to find prefix expression of a given infix expression\n",
    " */\n",
    "public String infixToPrefix() {\n",
    "    PolishNotation revExp = new PolishNotation(reverse());\n",
    "    revExp.exp = revExp.infixToPostfix();\n",
    "    return revExp.reverse();\n",
    "}"
   ]
  },
  {
   "cell_type": "markdown",
   "metadata": {},
   "source": [
    "### Expression Evaluation"
   ]
  },
  {
   "cell_type": "code",
   "execution_count": null,
   "metadata": {},
   "outputs": [],
   "source": [
    "/*\n",
    " * method for postfix expression evaluation\n",
    " */\n",
    "public static int evaluate(String str) {\n",
    "    Stack stack = new Stack(str.length());\n",
    "    char postfix[]=str.toCharArray();\n",
    "    for(int i=0; i<postfix.length; i++) {\n",
    "        if(isNumeric(postfix[i])==true)\n",
    "            stack.push(postfix[i]-'0');\n",
    "        else if (isOperator(postfix[i])){\n",
    "            int num2 = stack.pop();\n",
    "            int num1 = stack.pop();\n",
    "\n",
    "            switch(postfix[i]) {\n",
    "            case '+': stack.push(num1+num2); break;\n",
    "            case '-': stack.push(num1-num2); break;\n",
    "            case '*': stack.push(num1*num2); break;\n",
    "            case '/': stack.push(num1/num2); break;\n",
    "            case '^': stack.push(num1^num2); break;\n",
    "            }\n",
    "\n",
    "        }\n",
    "    }\n",
    "\n",
    "    return stack.peek();\n",
    "}\n",
    "}"
   ]
  },
  {
   "cell_type": "markdown",
   "metadata": {},
   "source": [
    "### Supporting Methods"
   ]
  },
  {
   "cell_type": "code",
   "execution_count": null,
   "metadata": {},
   "outputs": [],
   "source": [
    "/*\n",
    " * method to check whether a character is operator\n",
    " */\n",
    "public static boolean isOperator(char ch) {\n",
    "    if(ch=='-' || ch=='+' || ch=='*' || ch=='/' || ch=='^')\n",
    "        return true;\n",
    "    return false;\n",
    "}"
   ]
  },
  {
   "cell_type": "code",
   "execution_count": null,
   "metadata": {},
   "outputs": [],
   "source": [
    "/*\n",
    " * method to check whether a character is alphanumeric\n",
    " */\n",
    "public static boolean isAlphanumeric(char ch) {\n",
    "    if((ch>='A' && ch<='Z') || (ch>='a' && ch<='z') || (ch>='0' && ch<='9'))\n",
    "        return true;\n",
    "    return false;\n",
    "}"
   ]
  },
  {
   "cell_type": "code",
   "execution_count": null,
   "metadata": {},
   "outputs": [],
   "source": [
    "/*\n",
    " * method to check whether a character is numeric\n",
    " */\n",
    "public static boolean isNumeric(char ch) {\n",
    "    if(ch>='0' && ch<='9')\n",
    "        return true;\n",
    "    return false;\n",
    "}"
   ]
  },
  {
   "cell_type": "code",
   "execution_count": null,
   "metadata": {},
   "outputs": [],
   "source": [
    "/*\n",
    " * method to get the precedence of the operator\n",
    " */\n",
    "public static int getPrecedence(char operator) {\n",
    "    if(operator=='-' || operator=='+')\n",
    "        return 1;\n",
    "    else if(operator=='*' || operator=='/')\n",
    "        return 2;\n",
    "    else if(operator=='^')\n",
    "        return 3;\n",
    "    return 0;\n",
    "}"
   ]
  },
  {
   "cell_type": "code",
   "execution_count": null,
   "metadata": {},
   "outputs": [],
   "source": [
    "/*\n",
    " * method to check whether a character ch is Opening bracket\n",
    " */\n",
    "public static boolean isOpenningBracket(char ch) {\n",
    "    if(ch=='(')\n",
    "        return true;\n",
    "    return false;\n",
    "}"
   ]
  },
  {
   "cell_type": "code",
   "execution_count": null,
   "metadata": {},
   "outputs": [],
   "source": [
    "/*\n",
    " * method to check whether a character ch is closing braket\n",
    " */\n",
    "public static boolean isClosingBracket(char ch) {\n",
    "    if(ch==')')\n",
    "        return true;\n",
    "    return false;\n",
    "}"
   ]
  },
  {
   "cell_type": "code",
   "execution_count": null,
   "metadata": {},
   "outputs": [],
   "source": [
    "public String reverse() {\n",
    "    //Create an Empty stack of char type\n",
    "    StackChar stack = new StackChar(exp.length());\n",
    "\n",
    "    //Convert the String exp to char array\n",
    "    char arr[] = exp.toCharArray();\n",
    "\n",
    "    //push elements of arr[] into the stack\n",
    "    for(int i=0; i<arr.length; i++)\n",
    "        stack.push(arr[i]);\n",
    "\n",
    "    //pop each element and assign the popped elements to the same array starting from index zero\n",
    "    for(int i=0; i<arr.length; i++) {\n",
    "        if(stack.peek()=='(') {\n",
    "            arr[i]=')';\n",
    "            stack.pop();\n",
    "        }\n",
    "\n",
    "        else if(stack.peek()==')') {\n",
    "            arr[i]='(';\n",
    "            stack.pop();\n",
    "        }\n",
    "        else\n",
    "            arr[i]=stack.pop();\n",
    "    }\n",
    "\n",
    "\n",
    "    //Convert the arr back to string representation\n",
    "    String str1 = String.copyValueOf(arr);\n",
    "\n",
    "    //return the str1\n",
    "    return str1;\n",
    "}\n"
   ]
  }
 ],
 "metadata": {
  "kernelspec": {
   "display_name": "Java",
   "language": "java",
   "name": "java"
  },
  "language_info": {
   "codemirror_mode": "java",
   "file_extension": ".jshell",
   "mimetype": "text/x-java-source",
   "name": "Java",
   "pygments_lexer": "java",
   "version": "13.0.2+8"
  }
 },
 "nbformat": 4,
 "nbformat_minor": 4
}
