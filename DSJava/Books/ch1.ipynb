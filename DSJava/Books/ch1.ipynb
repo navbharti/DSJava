{
 "cells": [
  {
   "cell_type": "markdown",
   "metadata": {},
   "source": [
    "# State Wise Covid19 Status"
   ]
  },
  {
   "cell_type": "markdown",
   "metadata": {},
   "source": [
    "> Date is teken from MOHFW website update on 29.03.2020\n",
    "\n",
    "* Green Colour: Totoal Active Cases Reproted\n",
    "\n",
    "* Blue Colour: Total Cured Cases\n",
    "\n",
    "* Red Colour: Total Death"
   ]
  },
  {
   "cell_type": "markdown",
   "metadata": {},
   "source": [
    "![covid19](image/State%20wise%20Covid19%20status%20as%20on%2029.03.2020.png \"covid19\")"
   ]
  },
  {
   "cell_type": "markdown",
   "metadata": {},
   "source": [
    "![Covid19](image/State%20wise%20Covid19%20status%20as%20on%2029.03.2020.svg \"covid19\")"
   ]
  },
  {
   "cell_type": "markdown",
   "metadata": {},
   "source": [
    "![](image/Treemap%20State%20wise%20Covid19%20status%20as%20on%2029.03.2020.png)"
   ]
  },
  {
   "cell_type": "markdown",
   "metadata": {},
   "source": [
    "![](image/Treemap%20State%20wise%20Covid19%20status%20as%20on%2029.03.2020.png)"
   ]
  },
  {
   "cell_type": "markdown",
   "metadata": {},
   "source": [
    "![](image/Circle%20Packing%20India%20Covid19.png)"
   ]
  },
  {
   "cell_type": "markdown",
   "metadata": {},
   "source": [
    "![](image/Circle%20Packing%20India%20Covid19.svg)"
   ]
  },
  {
   "cell_type": "markdown",
   "metadata": {},
   "source": [
    "<iframe title=\"State/District wise details of Positive cases of Covid19\" aria-label=\"India districts (2019) Symbol map\" id=\"datawrapper-chart-Um8SW\" src=\"//datawrapper.dwcdn.net/Um8SW/1/\" scrolling=\"no\" frameborder=\"0\" style=\"width: 0; min-width: 100% !important; border: none;\" height=\"400\"></iframe><script type=\"text/javascript\">!function(){\"use strict\";window.addEventListener(\"message\",function(a){if(void 0!==a.data[\"datawrapper-height\"])for(var e in a.data[\"datawrapper-height\"]){var t=document.getElementById(\"datawrapper-chart-\"+e)||document.querySelector(\"iframe[src*='\"+e+\"']\");t&&(t.style.height=a.data[\"datawrapper-height\"][e]+\"px\")}})}();\n",
    "</script>"
   ]
  },
  {
   "cell_type": "code",
   "execution_count": null,
   "metadata": {},
   "outputs": [],
   "source": []
  }
 ],
 "metadata": {
  "kernelspec": {
   "display_name": "Python 3",
   "language": "python",
   "name": "python3"
  },
  "language_info": {
   "codemirror_mode": {
    "name": "ipython",
    "version": 3
   },
   "file_extension": ".py",
   "mimetype": "text/x-python",
   "name": "python",
   "nbconvert_exporter": "python",
   "pygments_lexer": "ipython3",
   "version": "3.7.6"
  }
 },
 "nbformat": 4,
 "nbformat_minor": 4
}
