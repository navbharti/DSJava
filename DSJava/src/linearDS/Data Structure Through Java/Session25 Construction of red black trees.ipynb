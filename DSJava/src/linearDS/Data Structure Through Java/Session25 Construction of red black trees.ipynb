{
  "nbformat": 4,
  "nbformat_minor": 0,
  "metadata": {
    "kernelspec": {
      "display_name": "Java",
      "language": "java",
      "name": "java"
    },
    "language_info": {
      "codemirror_mode": "java",
      "file_extension": ".jshell",
      "mimetype": "text/x-java-source",
      "name": "Java",
      "pygments_lexer": "java",
      "version": "13.0.2+8"
    },
    "colab": {
      "name": "Session25 Construction of red black trees.ipynb",
      "provenance": [],
      "toc_visible": true
    }
  },
  "cells": [
    {
      "cell_type": "markdown",
      "metadata": {
        "id": "_Gt5Ws25rLpk",
        "colab_type": "text"
      },
      "source": [
        "# Introduction to Red-Black Tree\n",
        "\n",
        "A **Red-Black** tree is a **Binary Search Tree (BST)** with one extra attribute for each node: the **colour**, which is either **red or black**. We also need to keep track of the **parent** of each node.\n",
        "\n",
        "A red-black tree is a binary search tree which has the following red-black properties:\n",
        "1. Every node is either red or black.\n",
        "2. Every leaf (NULL) is black.\n",
        "3. If a node is red, then both its children are black.\n",
        "4. Every simple path from a node to a descendant leaf contains the same number of black nodes.\n",
        "\n",
        "## Example of Red-Black Tree\n",
        "![Example Red-Black Tree](https://www.geeksforgeeks.org/wp-content/uploads/RedBlackTree.png)\n",
        "\n",
        "Trees which **remain balanced** - and thus guarantee *O(logn)* search times - in a dynamic environment. Or more importantly, since any tree can be re-balanced - but at considerable cost - can be re-balanced in *O(logn)* time."
      ]
    },
    {
      "cell_type": "code",
      "metadata": {
        "id": "_Ss7ssD_rJiw",
        "colab_type": "code",
        "colab": {}
      },
      "source": [
        ""
      ],
      "execution_count": 0,
      "outputs": []
    }
  ]
}