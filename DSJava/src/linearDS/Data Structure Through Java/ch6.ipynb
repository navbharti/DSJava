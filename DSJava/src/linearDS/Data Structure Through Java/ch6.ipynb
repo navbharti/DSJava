{
 "cells": [
  {
   "cell_type": "markdown",
   "metadata": {},
   "source": [
    "# Chapter Six: Linked List"
   ]
  },
  {
   "cell_type": "markdown",
   "metadata": {},
   "source": [
    "## Singly Linked List"
   ]
  },
  {
   "cell_type": "markdown",
   "metadata": {},
   "source": [
    "***Singly Linked*** List is a Linear Data Structure where Nodes are connected in linear fashion or linear manner. A Node is combination of Data part and Linking part. The data part stores the information of linked list and the linking part stores the location of the next node to show the connection."
   ]
  },
  {
   "cell_type": "markdown",
   "metadata": {},
   "source": [
    "### Class Definition of Node"
   ]
  },
  {
   "cell_type": "code",
   "execution_count": 6,
   "metadata": {},
   "outputs": [],
   "source": [
    "/*\n",
    "* Definition of Node class for Singly Linked List\n",
    "*/\n",
    "public class Node{\n",
    "    int data;\n",
    "    Node next;\n",
    "    \n",
    "    public Node(){\n",
    "        this.data = 0;\n",
    "        this.next = null;\n",
    "    }\n",
    "}"
   ]
  },
  {
   "cell_type": "markdown",
   "metadata": {},
   "source": [
    "![Singly Linked List Node Diagram](../../../image/images.png \"Node Diagram\")"
   ]
  },
  {
   "cell_type": "markdown",
   "metadata": {},
   "source": [
    "### Creating Node Instance"
   ]
  },
  {
   "cell_type": "code",
   "execution_count": 7,
   "metadata": {},
   "outputs": [
    {
     "name": "stdout",
     "output_type": "stream",
     "text": [
      "Node Memory Address: REPL.$JShell$12C$Node@6c118640\n",
      "Node Data Part: 10\n",
      "Node Linking Part: null\n"
     ]
    }
   ],
   "source": [
    "Node node = new Node();\n",
    "node.data = 10;\n",
    "System.out.println(\"Node Memory Address: \"+node);\n",
    "System.out.println(\"Node Data Part: \"+node.data);\n",
    "System.out.println(\"Node Linking Part: \"+node.next);"
   ]
  },
  {
   "cell_type": "markdown",
   "metadata": {},
   "source": [
    "![Node Instance](../../../image/SinglyLinkedListNodeinstance.jpg \"Node Instance\")"
   ]
  },
  {
   "cell_type": "markdown",
   "metadata": {},
   "source": [
    "### Linking Two Nodes"
   ]
  },
  {
   "cell_type": "code",
   "execution_count": 8,
   "metadata": {},
   "outputs": [
    {
     "name": "stdout",
     "output_type": "stream",
     "text": [
      "20\n"
     ]
    }
   ],
   "source": [
    "Node n1 = new Node();\n",
    "n1.data = 10;\n",
    "Node n2 = new Node();\n",
    "n2.data = 20;\n",
    "\n",
    "n1.next = n2;\n",
    "\n",
    "System.out.println(n1.next.data);"
   ]
  },
  {
   "cell_type": "markdown",
   "metadata": {},
   "source": [
    "### SinglyLinkedList Class Diagram"
   ]
  },
  {
   "cell_type": "markdown",
   "metadata": {},
   "source": [
    "![Singly Linked List UML Diagram](../../../image/SinglyLinkedList.jpeg \"Singly Linked List UML Diagram\")"
   ]
  },
  {
   "cell_type": "code",
   "execution_count": null,
   "metadata": {},
   "outputs": [],
   "source": [
    "package linearDS;\n",
    "\n",
    "public class SinglyLinkedList{\n",
    "    private Node head;\n",
    "    \n",
    "    //Constructor\n",
    "    public SinglyLinkeList(){\n",
    "        head = null;\n",
    "    }\n",
    "    \n",
    "    /*\n",
    "    * method to insert a given node at the beginning\n",
    "    */\n",
    "    public void insertAtBegin(Node node) {\n",
    "    \n",
    "    }\n",
    "\n",
    "    /*\n",
    "     * method to insert a given node at the end\n",
    "     */\n",
    "    public void insertAtEnd(Node node) {\n",
    "\n",
    "    }\n",
    "\n",
    "    /*\n",
    "     * method to insert a given node in the middle by given position\n",
    "     */\n",
    "    public void insertByPositioin(Node node, int position) {\n",
    "\n",
    "    }\n",
    "\n",
    "    /*\n",
    "     * method to insert a given node in the middle by given data value \n",
    "     */\n",
    "    public void insertByData(Node node, int data) {\n",
    "\n",
    "    }\n",
    "\n",
    "    /*\n",
    "     *method to delete a node from the beginning \n",
    "     */\n",
    "    public Node deleteFromBegin() {\n",
    "\n",
    "    }\n",
    "\n",
    "    /*\n",
    "     * method to delete a node from the end \n",
    "     * \n",
    "     */\n",
    "    public Node deleteFromEnd() {\n",
    "\n",
    "    }\n",
    "\n",
    "    /*\n",
    "     * method to delete a node from middle by given position\n",
    "     */\n",
    "    public Node deleteByPosition(int position) {\n",
    "\n",
    "    }\n",
    "\n",
    "    /*\n",
    "     * method to delete a node from middle by given data value of a node\n",
    "     */\n",
    "    public Node deleteByData(int data) {\n",
    "\n",
    "    }\n",
    "\n",
    "    /*\n",
    "     * method to traverse all the nodes in the list\n",
    "     */\n",
    "    public void traverse() {\n",
    "\n",
    "    }\n",
    "    \n",
    "    /*\n",
    "    * recursive method to traverse the list in reverse order\n",
    "    */\n",
    "    public void reverseTraverse(Node node) {\n",
    "        if(node==null) {\n",
    "            return;\n",
    "        }\n",
    "        show1(node.next);\n",
    "        System.out.print(node.data+\"->\");\n",
    "    }\n",
    "\n",
    "    /*\n",
    "     * method to search data\n",
    "     */\n",
    "    public Node search(int data) {\n",
    "\n",
    "    }\n",
    "\n",
    "    /*\n",
    "     * method to update data to a given position of a node \n",
    "     */\n",
    "    public boolean updateByPosition(int data, int position) {\n",
    "\n",
    "    }\n",
    "\n",
    "    /*\n",
    "     * method to update data value to a node\n",
    "     */\n",
    "    public boolean updateByData(int oldData, int newData) {\n",
    "\n",
    "    }\n",
    "\n",
    "    /*\n",
    "     * method to count total number of nodes in the list\n",
    "     */\n",
    "    public int countNodes() {\n",
    "\n",
    "    }\n",
    "\n",
    "    /*\n",
    "     * method to check whether list is empty\n",
    "     */\n",
    "    public boolean isEmpty() {\n",
    "\n",
    "    }\n",
    "\n",
    "    /*\n",
    "     * method to create a list with n nodes\n",
    "     */\n",
    "    public void createList(int n) {\n",
    "\n",
    "    }\n",
    "\n",
    "    /*\n",
    "     * method to create a list with n nodes\n",
    "     */\n",
    "    public MyLinkedList sort() {\n",
    "\n",
    "    }\n",
    "}"
   ]
  },
  {
   "cell_type": "markdown",
   "metadata": {},
   "source": [
    "#### Checking a Linked List is Empty or Not?"
   ]
  },
  {
   "cell_type": "code",
   "execution_count": 15,
   "metadata": {},
   "outputs": [],
   "source": [
    "Node head;\n",
    "/*\n",
    "* method to check whether list is empty\n",
    "*/\n",
    "public boolean isEmpty() {\n",
    "    if(head==null)\n",
    "        return true;\n",
    "    return false;\n",
    "    }"
   ]
  },
  {
   "cell_type": "markdown",
   "metadata": {},
   "source": [
    "### Singly Linked List Operations "
   ]
  },
  {
   "cell_type": "markdown",
   "metadata": {},
   "source": [
    "1. Insertion Operations \n",
    "    1. Insert At Beginning\n",
    "    2. Insert At End\n",
    "    3. Insert At Middle\n",
    "        1. Insert By Position\n",
    "        2. Insert By Data Value\n",
    "2. Deletion Operations\n",
    "    1. Delete From Beginning\n",
    "    2. Delete From End\n",
    "    3. Delete From Middle\n",
    "        1. Insert From Middle By Position\n",
    "        2. Insert From Middle By Data Value\n",
    "3. Traversal Operations\n",
    "    1. Traversal In Forward Direction\n",
    "    2. Traversal In Reverse Direction\n",
    "4. Search Operation\n",
    "5. Counting The Nodes\n",
    "6. Update Operation\n",
    "    1. Update Beginning\n",
    "    2. Update At End\n",
    "    3. Update At Middle\n",
    "        1. Update At Middle By Position\n",
    "        2. Update At Middle By Data Value \n",
    "7. Reversion the Linked List\n",
    "8. Sort the Linked List"
   ]
  },
  {
   "cell_type": "markdown",
   "metadata": {},
   "source": [
    "### 1. Insertion Operations"
   ]
  },
  {
   "cell_type": "markdown",
   "metadata": {},
   "source": [
    "Description"
   ]
  },
  {
   "cell_type": "markdown",
   "metadata": {},
   "source": [
    "#### Insert a Node At the Beginning of the List"
   ]
  },
  {
   "cell_type": "code",
   "execution_count": null,
   "metadata": {},
   "outputs": [],
   "source": [
    " /*\n",
    "  * method to insert a given node at the beginning\n",
    "  */\n",
    "public void insertAtBegin(Node node) {\n",
    "    //check of empty case\n",
    "    if(this.isEmpty()==true) {\n",
    "        head=node;\n",
    "        return;\n",
    "    }\n",
    "\n",
    "        node.next=head;\n",
    "        head=node;\n",
    "}"
   ]
  },
  {
   "cell_type": "markdown",
   "metadata": {},
   "source": [
    "#### Insert a Node At the End of the List"
   ]
  },
  {
   "cell_type": "code",
   "execution_count": null,
   "metadata": {},
   "outputs": [],
   "source": [
    "/*\n",
    " * method to insert a given node at the end\n",
    " */\n",
    "public void insertAtEnd(Node node) {\n",
    "    //check for empty case\n",
    "    if(this.isEmpty()==true) {\n",
    "        head=node;\n",
    "        return;\n",
    "    }\n",
    "\n",
    "    //initialize temp node with head\n",
    "    Node temp=head;\n",
    "\n",
    "    //traverse till the end\n",
    "    while(temp.next!=null)\n",
    "        temp=temp.next;\n",
    "\n",
    "    temp.next=node;\n",
    "\n",
    "}"
   ]
  },
  {
   "cell_type": "markdown",
   "metadata": {},
   "source": [
    "#### Insert a Node At the Middle of the List By given Position"
   ]
  },
  {
   "cell_type": "code",
   "execution_count": null,
   "metadata": {},
   "outputs": [],
   "source": [
    "/*\n",
    " * method to insert a given node by given position\n",
    " */\n",
    "\n",
    "public void insertByPositioin(Node node, int position) {\n",
    "    if(isEmpty()==true) {\n",
    "        head=node;\n",
    "        return;\n",
    "    }\n",
    "    int count=0;\n",
    "    Node temp=head;\n",
    "    while(temp.next!=null) {\n",
    "        count++;\n",
    "        if(count==position-1)\n",
    "            break;\n",
    "        temp = temp.next;\n",
    "    }\n",
    "    node.next=temp.next;\n",
    "    temp.next=node;\n",
    "}"
   ]
  },
  {
   "cell_type": "markdown",
   "metadata": {},
   "source": [
    "#### Insert a Node At the Middle of the List By given Data Value"
   ]
  },
  {
   "cell_type": "code",
   "execution_count": null,
   "metadata": {},
   "outputs": [],
   "source": [
    "/*\n",
    " * method to insert a given node by given data value of matching node\n",
    " */\n",
    "public void insertByData(Node node, int data) {\n",
    "    Node temp=head;\n",
    "    while(temp!=null) {\n",
    "        if(temp.data==data)\n",
    "            break;\n",
    "        temp = temp.next;\n",
    "    }\n",
    "    node.next=temp.next;\n",
    "    temp.next=node;\n",
    "}"
   ]
  },
  {
   "cell_type": "markdown",
   "metadata": {},
   "source": [
    "### Deletion Operations"
   ]
  },
  {
   "cell_type": "markdown",
   "metadata": {},
   "source": [
    "Description"
   ]
  },
  {
   "cell_type": "markdown",
   "metadata": {},
   "source": [
    "#### Delete a Node From the Beginning of the List"
   ]
  },
  {
   "cell_type": "code",
   "execution_count": null,
   "metadata": {},
   "outputs": [],
   "source": [
    "/*\n",
    " *method to delete a node from the beginning \n",
    " */\n",
    "public Node deleteFromBegin() {\n",
    "    if(this.isEmpty()==true) {\n",
    "        System.out.println(\"List is Empty...Deletion is not Possible!!!\");\n",
    "        return null;\n",
    "    }\n",
    "    Node temp=head;\n",
    "    head=head.next;\n",
    "    temp.next=null;\n",
    "    return temp;\n",
    "}"
   ]
  },
  {
   "cell_type": "markdown",
   "metadata": {},
   "source": [
    "#### Delete a Node From the End of the List"
   ]
  },
  {
   "cell_type": "code",
   "execution_count": null,
   "metadata": {},
   "outputs": [],
   "source": [
    "/*\n",
    " * method to delete a node from the end \n",
    " * \n",
    " */\n",
    "public Node deleteFromEnd() {\n",
    "    if(this.isEmpty()==true) {\n",
    "        System.out.println(\"List is Empty...Deletion is not Possible!!!\");\n",
    "        return null;\n",
    "    }\n",
    "    Node temp=head;\n",
    "    while(temp.next.next!=null)\n",
    "        temp=temp.next;\n",
    "    Node n=temp.next;\n",
    "    temp.next=null;\n",
    "    n.next=null;\n",
    "    return n;\n",
    "}"
   ]
  },
  {
   "cell_type": "markdown",
   "metadata": {},
   "source": [
    "#### Delete a Node From the Middle of the List By given Position"
   ]
  },
  {
   "cell_type": "code",
   "execution_count": null,
   "metadata": {},
   "outputs": [],
   "source": [
    "/*\n",
    " * method to delete a node  given position\n",
    " */\n",
    "public Node deleteByPosition(int position) {\n",
    "    if(this.isEmpty()==true) {\n",
    "        System.out.println(\"List is Empty...Deletion is not possible!!!\");\n",
    "        return null;\n",
    "    }\n",
    "    Node temp=head;\n",
    "    int count=0;\n",
    "    while(temp.next!=null) {\n",
    "        count++;\n",
    "        if(count==position-1)\n",
    "            break;\n",
    "        temp=temp.next;\n",
    "    }\n",
    "    Node n=temp.next;\n",
    "    temp.next=temp.next.next;\n",
    "    n.next=null;\n",
    "    return n;\n",
    "}"
   ]
  },
  {
   "cell_type": "markdown",
   "metadata": {},
   "source": [
    "#### Delete a Node From the Middle of the List By given Data Value"
   ]
  },
  {
   "cell_type": "code",
   "execution_count": null,
   "metadata": {},
   "outputs": [],
   "source": [
    "/*\n",
    " * method to delete a node by given data value of a node\n",
    " */\n",
    "public Node deleteByData(int data) {\n",
    "    if(this.isEmpty()==true) {\n",
    "        System.out.println(\"List is Empty...Deletion is not possible!!!\");\n",
    "        return null;\n",
    "    }\n",
    "    Node temp=head;\n",
    "    while(temp.next!=null) {\n",
    "        if(temp.data==data)\n",
    "            break;\n",
    "        temp=temp.next;\n",
    "    }\n",
    "    Node n=temp.next;\n",
    "    temp.next=temp.next.next;\n",
    "    n.next=null;\n",
    "    return n;\n",
    "}"
   ]
  },
  {
   "cell_type": "markdown",
   "metadata": {},
   "source": [
    "#### Update a Node Data At the Beginning of the List"
   ]
  },
  {
   "cell_type": "code",
   "execution_count": null,
   "metadata": {},
   "outputs": [],
   "source": []
  },
  {
   "cell_type": "markdown",
   "metadata": {},
   "source": [
    "#### Update a Node Data At the End of the List"
   ]
  },
  {
   "cell_type": "code",
   "execution_count": null,
   "metadata": {},
   "outputs": [],
   "source": []
  },
  {
   "cell_type": "markdown",
   "metadata": {},
   "source": [
    "#### Update a Node Data At the Middle of the List By given Position"
   ]
  },
  {
   "cell_type": "code",
   "execution_count": null,
   "metadata": {},
   "outputs": [],
   "source": [
    "/*\n",
    " * method to update data to a given position of a node \n",
    " */\n",
    "public boolean updateByPosition(int data, int position) {\n",
    "    if(this.isEmpty()==true) {\n",
    "        System.out.println(\"List is Empty!!!\");\n",
    "        return false;\n",
    "    }\n",
    "    Node temp=head;\n",
    "    int count=0;\n",
    "    while(temp!=null) {\n",
    "        count++;\n",
    "        if(count==position)\n",
    "            break;\n",
    "        temp=temp.next;\n",
    "    }\n",
    "    temp.data=data;\n",
    "    return true;\n",
    "}"
   ]
  },
  {
   "cell_type": "markdown",
   "metadata": {},
   "source": [
    "#### Update a Node Data At the Middle of the List By given Data Value"
   ]
  },
  {
   "cell_type": "code",
   "execution_count": null,
   "metadata": {},
   "outputs": [],
   "source": [
    "/*\n",
    " * method to update data value to a node\n",
    " */\n",
    "public boolean updateByData(int oldData, int newData) {\n",
    "    if(this.isEmpty()==true) {\n",
    "        System.out.println(\"List is Empty!!!\");\n",
    "        return false;\n",
    "    }\n",
    "    Node temp=head;\n",
    "    while(temp!=null) {\n",
    "        if(temp.data==oldData)\n",
    "            break;\n",
    "    }\n",
    "    temp.data=newData;\n",
    "    return true;\n",
    "}"
   ]
  },
  {
   "cell_type": "markdown",
   "metadata": {},
   "source": [
    "#### Count the Total Nodes in the List"
   ]
  },
  {
   "cell_type": "code",
   "execution_count": null,
   "metadata": {},
   "outputs": [],
   "source": [
    "/*\n",
    " * method to count total number of nodes in the list\n",
    " */\n",
    "public int countNodes() {\n",
    "    int c=0;\n",
    "    Node temp=head;\n",
    "    while(temp!=null) {\n",
    "        temp=temp.next;\n",
    "        c++;\n",
    "    }\n",
    "    return c;\n",
    "}"
   ]
  },
  {
   "cell_type": "markdown",
   "metadata": {},
   "source": [
    "#### Create a New List with N Nodes"
   ]
  },
  {
   "cell_type": "code",
   "execution_count": null,
   "metadata": {},
   "outputs": [],
   "source": [
    "/*\n",
    " * method to create a list with n nodes\n",
    " */\n",
    "public void createList(int n) {\n",
    "    if(isEmpty()!=true) {\n",
    "        System.out.println(\"List is Already created!!!\");\n",
    "        return;\n",
    "    }\n",
    "\n",
    "    Node node;\n",
    "    while(n>0) {\n",
    "        node=new Node();\n",
    "        System.out.println(\"Enter Data: \");\n",
    "        node.data=input.nextInt();\n",
    "        this.insertAtEnd(node);\n",
    "        n--;\n",
    "    }\n",
    "\n",
    "}"
   ]
  },
  {
   "cell_type": "markdown",
   "metadata": {},
   "source": [
    "#### Sorting Nodes by Data Values of the List"
   ]
  },
  {
   "cell_type": "code",
   "execution_count": null,
   "metadata": {},
   "outputs": [],
   "source": [
    "/*\n",
    " * method to create a list with n nodes\n",
    " */\n",
    "public MyLinkedList sort() {\n",
    "    if(isEmpty()==true) {\n",
    "        System.out.println(\"List is Empty!!!\");\n",
    "        return null;\n",
    "    }\n",
    "\n",
    "    //Node temp=head;\n",
    "    MyLinkedList list = new MyLinkedList();\n",
    "    for(Node i=head; i.next!=null; i = i.next) {\n",
    "        if(list.isEmpty()==true) {\n",
    "            Node t = i;\n",
    "            t.next=null;\n",
    "            list.insertAtBegin(t);\n",
    "        }\n",
    "        Node node;\n",
    "        for(node=list.head; node.next!=null; node=node.next) {\n",
    "            if(node.next.data>i.data)\n",
    "                break;\n",
    "        }\n",
    "\n",
    "        Node t = i;\n",
    "        t.next=node.next;\n",
    "        node.next=t;\t\n",
    "    }\n",
    "    return list;\n",
    "\n",
    "}"
   ]
  },
  {
   "cell_type": "markdown",
   "metadata": {},
   "source": [
    "## Doubly Linked List"
   ]
  },
  {
   "cell_type": "markdown",
   "metadata": {},
   "source": [
    "1. Insertion Operations \n",
    "    1. Insert At Beginning\n",
    "    2. Insert At End\n",
    "    3. Insert At Middle\n",
    "        1. Insert By Position\n",
    "        2. Insert By Data Value\n",
    "2. Deletion Operations\n",
    "    1. Delete From Beginning\n",
    "    2. Delete From End\n",
    "    3. Delete From Middle\n",
    "        1. Insert From Middle By Position\n",
    "        2. Insert From Middle By Data Value\n",
    "3. Traversal Operations\n",
    "    1. Traversal In Forward Direction\n",
    "    2. Traversal In Reverse Direction\n",
    "4. Search Operation\n",
    "5. Counting The Nodes\n",
    "6. Update Operation\n",
    "    1. Update Beginning\n",
    "    2. Update At End\n",
    "    3. Update At Middle\n",
    "        1. Update At Middle By Position\n",
    "        2. Update At Middle By Data Value \n",
    "7. Reversion the Linked List\n",
    "8. Sort the Linked List"
   ]
  },
  {
   "cell_type": "markdown",
   "metadata": {},
   "source": [
    "## Circular Singly Linked List"
   ]
  },
  {
   "cell_type": "markdown",
   "metadata": {},
   "source": [
    "1. Insertion Operations \n",
    "    1. Insert At Beginning\n",
    "    2. Insert At End\n",
    "    3. Insert At Middle\n",
    "        1. Insert By Position\n",
    "        2. Insert By Data Value\n",
    "2. Deletion Operations\n",
    "    1. Delete From Beginning\n",
    "    2. Delete From End\n",
    "    3. Delete From Middle\n",
    "        1. Insert From Middle By Position\n",
    "        2. Insert From Middle By Data Value\n",
    "3. Traversal Operations\n",
    "    1. Traversal In Forward Direction\n",
    "    2. Traversal In Reverse Direction\n",
    "4. Search Operation\n",
    "5. Counting The Nodes\n",
    "6. Update Operation\n",
    "    1. Update Beginning\n",
    "    2. Update At End\n",
    "    3. Update At Middle\n",
    "        1. Update At Middle By Position\n",
    "        2. Update At Middle By Data Value \n",
    "7. Reversion the Linked List\n",
    "8. Sort the Linked List"
   ]
  },
  {
   "cell_type": "markdown",
   "metadata": {},
   "source": [
    "## Node of Doubly Linked List"
   ]
  },
  {
   "cell_type": "markdown",
   "metadata": {},
   "source": [
    "## Creating Instance of DNode "
   ]
  },
  {
   "cell_type": "markdown",
   "metadata": {},
   "source": [
    "## Connecting Two Nodes in Doubly Linked List"
   ]
  },
  {
   "cell_type": "markdown",
   "metadata": {},
   "source": [
    "## Circular Doubly Linked List"
   ]
  },
  {
   "cell_type": "markdown",
   "metadata": {},
   "source": [
    "1. Insertion Operations \n",
    "    1. Insert At Beginning\n",
    "    2. Insert At End\n",
    "    3. Insert At Middle\n",
    "        1. Insert By Position\n",
    "        2. Insert By Data Value\n",
    "2. Deletion Operations\n",
    "    1. Delete From Beginning\n",
    "    2. Delete From End\n",
    "    3. Delete From Middle\n",
    "        1. Insert From Middle By Position\n",
    "        2. Insert From Middle By Data Value\n",
    "3. Traversal Operations\n",
    "    1. Traversal In Forward Direction\n",
    "    2. Traversal In Reverse Direction\n",
    "4. Search Operation\n",
    "5. Counting The Nodes\n",
    "6. Update Operation\n",
    "    1. Update Beginning\n",
    "    2. Update At End\n",
    "    3. Update At Middle\n",
    "        1. Update At Middle By Position\n",
    "        2. Update At Middle By Data Value \n",
    "7. Reversion the Linked List\n",
    "8. Sort the Linked List"
   ]
  },
  {
   "cell_type": "markdown",
   "metadata": {},
   "source": []
  },
  {
   "cell_type": "code",
   "execution_count": null,
   "metadata": {},
   "outputs": [],
   "source": []
  }
 ],
 "metadata": {
  "kernelspec": {
   "display_name": "Java",
   "language": "java",
   "name": "java"
  },
  "language_info": {
   "codemirror_mode": "java",
   "file_extension": ".jshell",
   "mimetype": "text/x-java-source",
   "name": "Java",
   "pygments_lexer": "java",
   "version": "13.0.2+8"
  }
 },
 "nbformat": 4,
 "nbformat_minor": 4
}
