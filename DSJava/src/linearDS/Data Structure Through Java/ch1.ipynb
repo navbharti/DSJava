{
 "cells": [
  {
   "cell_type": "markdown",
   "metadata": {},
   "source": [
    "A **data structure** is a particular way of organizing data in a computer so that it can be used effectively. "
   ]
  },
  {
   "cell_type": "markdown",
   "metadata": {},
   "source": [
    "> Array: **Array** is a data structure used to store homogeneous elements at contiguous locations. Size of an array must be provided before storing data.\n",
    "\n",
    "\n",
    "> Linked List: A **linked list** is a linear data structure (like arrays) where each element is a separate object. Each element (that is node) of a list is comprising of two items – the **data** and a **reference** to the next node.\n",
    "Types of Linked List : Singly Linked List, Doubly Linked List and Circular Linked List.\n",
    "1. **Singly Linked List** : In this type of linked list, every node stores address or reference of next node in list and the last node has next address or reference as NULL. For example 1->2->3->4->NULL\n",
    "2. **Doubly Linked List** : In this type of Linked list, there are two references associated with each node, One of the reference points to the next node and one to the previous node. Advantage of this data structure is that we can traverse in both the directions and for deletion we don’t need to have explicit access to previous node. Eg. NULL<-1<->2<->3->NULL\n",
    "3. **Circular Linked List** : Circular linked list is a linked list where all nodes are connected to form a circle. There is no NULL at the end. A circular linked list can be a singly circular linked list or doubly circular linked list. Advantage of this data structure is that any node can be made as starting node. This is useful in implementation of circular queue in linked list. Eg. 1->2->3->1 [The next pointer of last node is pointing to the first]\n",
    "\n",
    "> Stack\n",
    "\n",
    "> Queue\n",
    "\n",
    "> Binary Tree: **Tree** represents the nodes connected by edges. \n",
    "\n",
    "> Binary Search Tree\n",
    "\n",
    "> Heap\n",
    "\n",
    "> Hashing\n",
    "\n",
    "> Graph\n",
    "\n",
    "> Matrix\n",
    "\n",
    "> Misc\n",
    "\n",
    "> Advanced Data Structure"
   ]
  },
  {
   "cell_type": "code",
   "execution_count": null,
   "metadata": {},
   "outputs": [],
   "source": []
  }
 ],
 "metadata": {
  "kernelspec": {
   "display_name": "Python 3",
   "language": "python",
   "name": "python3"
  },
  "language_info": {
   "codemirror_mode": {
    "name": "ipython",
    "version": 3
   },
   "file_extension": ".py",
   "mimetype": "text/x-python",
   "name": "python",
   "nbconvert_exporter": "python",
   "pygments_lexer": "ipython3",
   "version": "3.7.6"
  }
 },
 "nbformat": 4,
 "nbformat_minor": 4
}
