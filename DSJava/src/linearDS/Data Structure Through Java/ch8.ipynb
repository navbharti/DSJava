{
 "cells": [
  {
   "cell_type": "markdown",
   "metadata": {},
   "source": [
    "# Tree Data Structure"
   ]
  },
  {
   "cell_type": "markdown",
   "metadata": {},
   "source": [
    "A **tree** is a *collection* of entities called *nodes*. **Nodes** are connected by **edges**. Each node contains a *value* or *data*, and it may or may not have a **child node** ."
   ]
  },
  {
   "cell_type": "markdown",
   "metadata": {},
   "source": [
    "### Examples of Tree in Daily Life"
   ]
  },
  {
   "cell_type": "markdown",
   "metadata": {},
   "source": [
    "![General Tree](../../../image/tree2.png \"General Tree\")"
   ]
  },
  {
   "cell_type": "markdown",
   "metadata": {},
   "source": [
    "![Btech Tree](../../../image/btechtree.png \"Your Course Structure Tree\")"
   ]
  },
  {
   "cell_type": "markdown",
   "metadata": {},
   "source": [
    "The **first node** of the **tree** is called the **root node**. If this **root node** is connected by another **node**, the **root** is then a **parent node** and the connected node is a **child**."
   ]
  },
  {
   "cell_type": "markdown",
   "metadata": {},
   "source": [
    "All **Tree** nodes are connected by **links** called **edges**. It’s an important part of **trees**, because it’s manages the **relationship between nodes**."
   ]
  },
  {
   "cell_type": "markdown",
   "metadata": {},
   "source": [
    "**Leaves** are the **last nodes** on a **tree**. They are nodes without children. Like real trees, we have the **root**, **branches**, and finally the **leaves**."
   ]
  },
  {
   "cell_type": "markdown",
   "metadata": {},
   "source": [
    "> Other important concepts to understand are height and depth.\n",
    "1. The **height** of a tree is the **length of the longest path to a leaf**.\n",
    "2. The **depth** of a node is the **length of the path to its root**."
   ]
  },
  {
   "cell_type": "markdown",
   "metadata": {},
   "source": [
    "A **data structure** is a particular way of organizing data in a computer so that it can be used effectively. **Tree** represents the nodes connected by edges. \n",
    "\n",
    "A tree whose elements have at most 2 children is called a binary tree. Since each element in a binary tree can have only 2 children, we typically name them the left and right child. A binary tree has the benefits of both an ordered array and a linked list as search is as quick as in a sorted array and insertion or deletion operation are as fast as in linked list. Trees are **hierarchical data structures**.\n",
    "\n",
    "A Binary Tree node contains following parts.\n",
    "\n",
    "\n",
    "\n",
    "> Data\n",
    "\n",
    "> Pointer or Reference to left child\n",
    "\n",
    "> Pointer or Reference to right child"
   ]
  },
  {
   "cell_type": "markdown",
   "metadata": {},
   "source": [
    "### A Binary Tree can be traversed in two ways:\n",
    "1. Depth First Traversal: \n",
    "    1. Inorder (Left-Root-Right)\n",
    "    2. Preorder (Root-Left-Right) and \n",
    "    3. Postorder (Left-Right-Root)\n",
    "2. Breadth First Traversal: Level Order Traversal"
   ]
  },
  {
   "cell_type": "markdown",
   "metadata": {},
   "source": [
    "![tree representation](https://www.tutorialspoint.com/data_structures_algorithms/images/binary_tree.jpg \"tree reprentation\")"
   ]
  },
  {
   "cell_type": "markdown",
   "metadata": {},
   "source": [
    "## Important Terms\n",
    "### Following are the important terms with respect to tree.\n",
    "\n",
    "> **Path** − Path refers to the sequence of nodes along the edges of a tree.\n",
    "\n",
    "> **Root** − The node at the top of the tree is called root. There is only one root per tree and one path from the root node to any node.\n",
    "\n",
    "> **Parent** − Any node except the root node has one edge upward to a node called parent.\n",
    "\n",
    "> **Child** − The node below a given node connected by its edge downward is called its child node.\n",
    "\n",
    "> **Leaf** − The node which does not have any child node is called the leaf node.\n",
    "\n",
    "> **Subtree** − Subtree represents the descendants of a node.\n",
    "\n",
    "> **Visiting** − Visiting refers to checking the value of a node when control is on the node.\n",
    "\n",
    "> **Traversing** − Traversing means passing through nodes in a specific order.\n",
    "\n",
    "> **Levels** − Level of a node represents the generation of a node. If the root node is at level 0, then its next child node is at level 1, its grandchild is at level 2, and so on.\n",
    "\n",
    "> **keys** − Key represents a value of a node based on which a search operation is to be carried out for a node."
   ]
  },
  {
   "cell_type": "markdown",
   "metadata": {},
   "source": [
    "## Binary Search Tree\n",
    "In Binary Search Tree is a Binary Tree with following additional properties:\n",
    "1. The left subtree of a node contains only nodes with keys less than the node’s key.\n",
    "2. The right subtree of a node contains only nodes with keys greater than the node’s key.\n",
    "3. The left and right subtree each must also be a binary search tree."
   ]
  },
  {
   "cell_type": "markdown",
   "metadata": {},
   "source": [
    "## Binary Heap\n",
    "A Binary Heap is a Binary Tree with following properties.\n",
    "\n",
    "1. It’s a complete tree (All levels are completely filled except possibly the last level and the last level has all keys as left as possible). This property of Binary Heap makes them suitable to be stored in an array.\n",
    "2. A Binary Heap is either Min Heap or Max Heap. In a Min Binary Heap, the key at root must be minimum among all keys present in Binary Heap. The same property must be recursively true for all nodes in Binary Tree. Max Binary Heap is similar to Min Heap. It is mainly implemented using array."
   ]
  },
  {
   "cell_type": "code",
   "execution_count": null,
   "metadata": {},
   "outputs": [],
   "source": []
  }
 ],
 "metadata": {
  "kernelspec": {
   "display_name": "Python 3",
   "language": "python",
   "name": "python3"
  },
  "language_info": {
   "codemirror_mode": {
    "name": "ipython",
    "version": 3
   },
   "file_extension": ".py",
   "mimetype": "text/x-python",
   "name": "python",
   "nbconvert_exporter": "python",
   "pygments_lexer": "ipython3",
   "version": "3.7.6"
  }
 },
 "nbformat": 4,
 "nbformat_minor": 4
}
