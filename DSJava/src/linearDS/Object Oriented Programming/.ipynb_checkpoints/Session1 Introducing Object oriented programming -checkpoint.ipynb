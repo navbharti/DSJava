{
 "cells": [
  {
   "cell_type": "markdown",
   "metadata": {},
   "source": [
    "# Procedural Oriented Programming"
   ]
  },
  {
   "cell_type": "markdown",
   "metadata": {},
   "source": [
    "# Object oriented Paradigm Principles"
   ]
  },
  {
   "cell_type": "markdown",
   "metadata": {},
   "source": [
    "1. Developed by Sun Microsystems Inc in 1991 by James Gosling and Patrick Naughton\n",
    "2. Acquired by Oracle Corporation.\n",
    "3. A simple programming language.  \n",
    "4. Writing, compiling and debugging a program is easy.  \n",
    "5. Helps to create modular programs and reusable code."
   ]
  },
  {
   "cell_type": "markdown",
   "metadata": {},
   "source": [
    "# Java terminology"
   ]
  },
  {
   "cell_type": "markdown",
   "metadata": {},
   "source": [
    "    Java Virtual Machine (JVM)\n",
    "    bytecode\n",
    "    Java Development Kit(JDK)\n",
    "    Java Runtime Environment(JRE)"
   ]
  },
  {
   "cell_type": "markdown",
   "metadata": {},
   "source": [
    "# Features of Java"
   ]
  },
  {
   "cell_type": "markdown",
   "metadata": {},
   "source": [
    "1. Java is a platform independent language\n",
    "2. Java is an Object Oriented language\n",
    "> 4 main concepts of Object Oriented programming are:\n",
    ">    1. Abstraction\n",
    ">    2. Encapsulation\n",
    ">    3. Inheritance\n",
    ">    4. Polymorphism\n",
    "\n",
    "3. Simple\n",
    "4. Robust Language\n",
    "5. Secure\n",
    "6. Java is distributed\n",
    "7. Multithreading\n",
    "8. Portable"
   ]
  },
  {
   "cell_type": "markdown",
   "metadata": {},
   "source": [
    "# First Java Program: How to Compile and Run your First Java Program\n"
   ]
  },
  {
   "cell_type": "code",
   "execution_count": null,
   "metadata": {},
   "outputs": [],
   "source": []
  }
 ],
 "metadata": {
  "kernelspec": {
   "display_name": "Java",
   "language": "java",
   "name": "java"
  },
  "language_info": {
   "codemirror_mode": "java",
   "file_extension": ".jshell",
   "mimetype": "text/x-java-source",
   "name": "Java",
   "pygments_lexer": "java",
   "version": "13.0.2+8"
  }
 },
 "nbformat": 4,
 "nbformat_minor": 4
}
