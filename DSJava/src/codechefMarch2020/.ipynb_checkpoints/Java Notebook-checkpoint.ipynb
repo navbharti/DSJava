{
 "cells": [
  {
   "cell_type": "code",
   "execution_count": 2,
   "metadata": {},
   "outputs": [
    {
     "name": "stdout",
     "output_type": "stream",
     "text": [
      "Hello ram\n"
     ]
    }
   ],
   "source": [
    "System.out.println(\"Hello ram\");"
   ]
  },
  {
   "cell_type": "code",
   "execution_count": 2,
   "metadata": {},
   "outputs": [
    {
     "name": "stdout",
     "output_type": "stream",
     "text": [
      "Hi\n"
     ]
    }
   ],
   "source": [
    "System.out.println(\"Hi\")"
   ]
  },
  {
   "cell_type": "code",
   "execution_count": 5,
   "metadata": {},
   "outputs": [
    {
     "name": "stdout",
     "output_type": "stream",
     "text": [
      "Sum: 30\n"
     ]
    }
   ],
   "source": [
    "int a=10;\n",
    "int b=20;\n",
    "System.out.println(\"Sum: \"+(a+b));"
   ]
  },
  {
   "cell_type": "code",
   "execution_count": 7,
   "metadata": {},
   "outputs": [
    {
     "name": "stdout",
     "output_type": "stream",
     "text": [
      "10\n",
      "20\n"
     ]
    }
   ],
   "source": [
    "ArrayList<Integer> a = new ArrayList<Integer>();\n",
    "a.add(10);\n",
    "a.add(20);\n",
    "for(Integer i: a)\n",
    "    System.out.println(i);"
   ]
  },
  {
   "cell_type": "code",
   "execution_count": 11,
   "metadata": {},
   "outputs": [
    {
     "name": "stdout",
     "output_type": "stream",
     "text": [
      "Enter value of N: \n",
      "4\n",
      "Enter 10 Integer Data with space seperated:\n",
      "1 2 3 45 6\n",
      "The Data are As follows: \n",
      "1\n",
      "2\n",
      "3\n",
      "45\n"
     ]
    }
   ],
   "source": [
    "Scanner s = new Scanner(System.in);\n",
    "System.out.println(\"Enter value of N: \");\n",
    "int n = s.nextInt();\n",
    "int arr[]=new int[n];\n",
    "System.out.println(\"Enter 10 Integer Data with space seperated:\");\n",
    "for (int i=0; i<n; i++){\n",
    "    arr[i]=s.nextInt();\n",
    "}\n",
    "\n",
    "System.out.println(\"The Data are As follows: \");\n",
    "for(int a: arr)\n",
    "    System.out.println(a);\n"
   ]
  }
 ],
 "metadata": {
  "kernelspec": {
   "display_name": "Java",
   "language": "java",
   "name": "java"
  },
  "language_info": {
   "codemirror_mode": "java",
   "file_extension": ".jshell",
   "mimetype": "text/x-java-source",
   "name": "Java",
   "pygments_lexer": "java",
   "version": "13.0.2+8"
  }
 },
 "nbformat": 4,
 "nbformat_minor": 4
}
