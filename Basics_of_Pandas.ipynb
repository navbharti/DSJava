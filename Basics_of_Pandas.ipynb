{
  "nbformat": 4,
  "nbformat_minor": 0,
  "metadata": {
    "colab": {
      "name": "Basics of Pandas.ipynb",
      "provenance": [],
      "toc_visible": true,
      "authorship_tag": "ABX9TyOuzYLIorgjYwdcKfYZ98eR",
      "include_colab_link": true
    },
    "kernelspec": {
      "name": "python3",
      "display_name": "Python 3"
    }
  },
  "cells": [
    {
      "cell_type": "markdown",
      "metadata": {
        "id": "view-in-github",
        "colab_type": "text"
      },
      "source": [
        "<a href=\"https://colab.research.google.com/github/navbharti/DSJava/blob/master/Basics_of_Pandas.ipynb\" target=\"_parent\"><img src=\"https://colab.research.google.com/assets/colab-badge.svg\" alt=\"Open In Colab\"/></a>"
      ]
    },
    {
      "cell_type": "markdown",
      "metadata": {
        "id": "mT0epx5pAHtr",
        "colab_type": "text"
      },
      "source": [
        "# **Basics of Pandas python Library**"
      ]
    },
    {
      "cell_type": "markdown",
      "metadata": {
        "id": "PeKYaBWi4Etu",
        "colab_type": "text"
      },
      "source": [
        "## Introduction to Pandas\n",
        "Pandas is an **open-source** Python library providing **high-performance**, easy-to-use **data structures** and **data analysis tools** for the Python programming language. used in fields including **academic and commercial domains** including **finance**, **economics**, **Statistics**, **analytics**, etc. We will learn features of Python Pandas and how to use them in practice.\n",
        "\n",
        "The name Pandas is derived from the word **Panel Data** – an **Econometrics** from **Multidimensional data**.\n",
        "\n",
        "Pandas accomplishes five typical steps in the processing and analysis of data, regardless of the origin of data — **load**, **prepare**, **manipulate**, **model**, and **analyze**."
      ]
    },
    {
      "cell_type": "markdown",
      "metadata": {
        "id": "Cn3ODb2n7gev",
        "colab_type": "text"
      },
      "source": [
        "## Key Features of Pandas\n",
        "\n",
        "1. Fast and efficient DataFrame object with default and customized indexing.\n",
        "2. Tools for loading data into in-memory data objects from different file formats.\n",
        "3. Data alignment and integrated handling of missing data.\n",
        "4. Reshaping and pivoting of date sets.\n",
        "5. Label-based slicing, indexing and subsetting of large data sets.\n",
        "6. Columns from a data structure can be deleted or inserted.\n",
        "7. Group by data for aggregation and transformations.\n",
        "8. High performance merging and joining of data.\n",
        "9. Time Series functionality."
      ]
    },
    {
      "cell_type": "markdown",
      "metadata": {
        "id": "SUC5xWY27uXZ",
        "colab_type": "text"
      },
      "source": [
        "### Installing pandas library:\n",
        "\n",
        "`pip install pandas`"
      ]
    },
    {
      "cell_type": "code",
      "metadata": {
        "id": "YfTEYkzE69VI",
        "colab_type": "code",
        "colab": {}
      },
      "source": [
        "pip install pandas"
      ],
      "execution_count": 0,
      "outputs": []
    },
    {
      "cell_type": "markdown",
      "metadata": {
        "id": "_NzIH1LZ75Yq",
        "colab_type": "text"
      },
      "source": [
        "## Introduction to Data Structures"
      ]
    },
    {
      "cell_type": "markdown",
      "metadata": {
        "id": "qrl2QTc97TFd",
        "colab_type": "text"
      },
      "source": [
        "### Pandas deals with the following three data structures −\n",
        "\n",
        "1. Series\n",
        "2. DataFrame\n",
        "3. Panel\n",
        "\n",
        "These data structures are built on top of Numpy array, which means they are fast."
      ]
    },
    {
      "cell_type": "markdown",
      "metadata": {
        "id": "m6KVX47O6-1W",
        "colab_type": "text"
      },
      "source": [
        "## Dimension & Description\n",
        "\n",
        "**Higher dimensional** data structure is a **container** of its **lower dimensional** data structure.For example, **DataFrame** is a container of **Series**, **Panel** is a container of **DataFrame**.\n",
        "\n",
        "**Series**\t1D labeled homogeneous array, sizeimmutable.\n",
        "\n",
        "**Data Frames**\tGeneral 2D labeled, size-mutable tabular structure with potentially heterogeneously typed columns. Tabular data (DataFrame) it is more semantically helpful to think of the **index (the rows)** and the **columns** rather than axis 0 and axis 1.\n",
        "\n",
        "**Panel**\tGeneral 3D labeled, size-mutable array."
      ]
    },
    {
      "cell_type": "markdown",
      "metadata": {
        "id": "i_tO7Cn79o0c",
        "colab_type": "text"
      },
      "source": [
        "### Mutability\n",
        "All Pandas data structures are **value mutable** (can be changed) and except Series all are size mutable. Series is **size immutable**.\n",
        "\n",
        "Note − DataFrame is widely used and one of the most important data structures. Panel is used much less.\n",
        "\n"
      ]
    },
    {
      "cell_type": "markdown",
      "metadata": {
        "id": "TEcTZQZkAail",
        "colab_type": "text"
      },
      "source": [
        "### Series\n",
        "Series is a one-dimensional array like structure with homogeneous data. For example, the following series is a collection of integers 10, 23, 56,...\n",
        "\n",
        "### Key Points\n",
        "* Homogeneous data\n",
        "* Size Immutable\n",
        "* Values of Data Mutable"
      ]
    },
    {
      "cell_type": "markdown",
      "metadata": {
        "id": "VZsOn7OH-X2g",
        "colab_type": "text"
      },
      "source": [
        "### DataFrame\n",
        "DataFrame is a two-dimensional array with heterogeneous data. For example,\n",
        "\n",
        "| Name |\tAge\t| Gender\t| Rating |\n",
        "| ----- | :-----: | :----: | :----: |\n",
        "| Steve\t| 32\t| Male\t| 3.45 |\n",
        "| Lia\t| 28\t| Female\t| 4.6 |\n",
        "| Vin\t| 45\t| Male\t| 3.9 |\n",
        "| Katie\t| 38\t| Female\t| 2.78 |\n",
        "\n",
        "### Key Points\n",
        "* Heterogeneous data\n",
        "* Size Mutable\n",
        "* Data Mutable"
      ]
    },
    {
      "cell_type": "markdown",
      "metadata": {
        "id": "SC26b2MY_tK-",
        "colab_type": "text"
      },
      "source": [
        "### Panel\n",
        "Panel is a **three-dimensional data structure** with **heterogeneous** data. It is hard to represent the panel in graphical representation. But a panel can be illustrated as a **container of DataFrame**.\n",
        "\n",
        "### Key Points\n",
        "* Heterogeneous data\n",
        "* Size Mutable\n",
        "* Data Mutable"
      ]
    },
    {
      "cell_type": "code",
      "metadata": {
        "id": "P4WfM_DWDYbF",
        "colab_type": "code",
        "colab": {
          "base_uri": "https://localhost:8080/",
          "height": 88
        },
        "outputId": "e68ba068-6241-4ed1-cebc-72ef1daf371a"
      },
      "source": [
        "#Create an empty Series\n",
        "import pandas as pd\n",
        "s = pd.Series()\n",
        "print(s)"
      ],
      "execution_count": 1,
      "outputs": [
        {
          "output_type": "stream",
          "text": [
            "Series([], dtype: float64)\n"
          ],
          "name": "stdout"
        },
        {
          "output_type": "stream",
          "text": [
            "/usr/local/lib/python3.6/dist-packages/ipykernel_launcher.py:2: DeprecationWarning: The default dtype for empty Series will be 'object' instead of 'float64' in a future version. Specify a dtype explicitly to silence this warning.\n",
            "  \n"
          ],
          "name": "stderr"
        }
      ]
    },
    {
      "cell_type": "code",
      "metadata": {
        "id": "eC1Wwp5EDlme",
        "colab_type": "code",
        "colab": {
          "base_uri": "https://localhost:8080/",
          "height": 119
        },
        "outputId": "b8bda7c3-c93e-40d8-9eb5-6944da486b51"
      },
      "source": [
        "#Creating a Series using ndarray.\n",
        "import numpy as np\n",
        "import pandas as pd\n",
        "\n",
        "arr = np.array([1, 2, 3, 4, 5])\n",
        "s1 = pd.Series(arr)\n",
        "print(s1)"
      ],
      "execution_count": 2,
      "outputs": [
        {
          "output_type": "stream",
          "text": [
            "0    1\n",
            "1    2\n",
            "2    3\n",
            "3    4\n",
            "4    5\n",
            "dtype: int64\n"
          ],
          "name": "stdout"
        }
      ]
    },
    {
      "cell_type": "code",
      "metadata": {
        "id": "Ez7Ft_JED_B3",
        "colab_type": "code",
        "colab": {
          "base_uri": "https://localhost:8080/",
          "height": 119
        },
        "outputId": "906ae176-73b3-428b-ccdc-85292c86d44c"
      },
      "source": [
        "arrChar = np.array(['a', 'b', 'c', 'd', 'e'])\n",
        "sChar = pd.Series(arrChar)\n",
        "print(sChar)"
      ],
      "execution_count": 3,
      "outputs": [
        {
          "output_type": "stream",
          "text": [
            "0    a\n",
            "1    b\n",
            "2    c\n",
            "3    d\n",
            "4    e\n",
            "dtype: object\n"
          ],
          "name": "stdout"
        }
      ]
    },
    {
      "cell_type": "code",
      "metadata": {
        "id": "g_de_eI7ENOW",
        "colab_type": "code",
        "colab": {
          "base_uri": "https://localhost:8080/",
          "height": 119
        },
        "outputId": "6fe3ae42-f4dd-44a4-a785-c1388bfff9e5"
      },
      "source": [
        "arrChar = np.array(['a', 'b', 'c', 'd', 'e'])\n",
        "sChar = pd.Series(data=arrChar, index=[1, 3, 4, 9, 10], dtype=str)\n",
        "print(sChar)"
      ],
      "execution_count": 8,
      "outputs": [
        {
          "output_type": "stream",
          "text": [
            "1     a\n",
            "3     b\n",
            "4     c\n",
            "9     d\n",
            "10    e\n",
            "dtype: object\n"
          ],
          "name": "stdout"
        }
      ]
    },
    {
      "cell_type": "code",
      "metadata": {
        "id": "uIoUmIPEF7CF",
        "colab_type": "code",
        "colab": {
          "base_uri": "https://localhost:8080/",
          "height": 119
        },
        "outputId": "23bf7a9d-c6b4-49ee-c222-22786883f463"
      },
      "source": [
        "arrChar = np.array(['a', 'b', 'c', 'd', 'e'])\n",
        "sChar = pd.Series(data=arrChar, index=[1, 3, 4, 9, 10], dtype=str, name='my char series', copy=True)\n",
        "print(sChar)"
      ],
      "execution_count": 14,
      "outputs": [
        {
          "output_type": "stream",
          "text": [
            "1     a\n",
            "3     b\n",
            "4     c\n",
            "9     d\n",
            "10    e\n",
            "Name: my char series, dtype: object\n"
          ],
          "name": "stdout"
        }
      ]
    },
    {
      "cell_type": "code",
      "metadata": {
        "id": "fve5jfPpHJZy",
        "colab_type": "code",
        "colab": {
          "base_uri": "https://localhost:8080/",
          "height": 85
        },
        "outputId": "a50a82f5-423e-487e-a48f-76beb6707488"
      },
      "source": [
        "#Creating a Series using python dictionary\n",
        "import numpy as np\n",
        "import pandas as pd\n",
        "dictData = {'a':1, 'b':2, 'c':3}\n",
        "dictSeries = pd.Series(data=dictData)\n",
        "print(dictSeries)"
      ],
      "execution_count": 23,
      "outputs": [
        {
          "output_type": "stream",
          "text": [
            "a    1\n",
            "b    2\n",
            "c    3\n",
            "dtype: int64\n"
          ],
          "name": "stdout"
        }
      ]
    },
    {
      "cell_type": "code",
      "metadata": {
        "id": "A7AcMHUJJJd4",
        "colab_type": "code",
        "colab": {
          "base_uri": "https://localhost:8080/",
          "height": 102
        },
        "outputId": "486963d8-899a-45de-ab95-a12202025769"
      },
      "source": [
        "#Creating pandas Series using python dictionary\n",
        "import pandas as pd\n",
        "import numpy as np\n",
        "data = {'a' : 0., 'b' : 1., 'c' : 2.}\n",
        "dict_s = pd.Series(data,index=['b','c','d','a'])\n",
        "print (dict_s)"
      ],
      "execution_count": 25,
      "outputs": [
        {
          "output_type": "stream",
          "text": [
            "b    1.0\n",
            "c    2.0\n",
            "d    NaN\n",
            "a    0.0\n",
            "dtype: float64\n"
          ],
          "name": "stdout"
        }
      ]
    },
    {
      "cell_type": "code",
      "metadata": {
        "id": "3owp4nmRJpNM",
        "colab_type": "code",
        "colab": {
          "base_uri": "https://localhost:8080/",
          "height": 156
        },
        "outputId": "c792b302-0891-4e16-d45b-dde998477886"
      },
      "source": [
        "#Create a Series from Scalar\n",
        "import numpy as np\n",
        "import pandas as pd\n",
        "ss = pd.Series(data=5, index=[1, 2,3, 4, 5])\n",
        "print(ss)"
      ],
      "execution_count": 26,
      "outputs": [
        {
          "output_type": "stream",
          "text": [
            "1    5\n",
            "2    5\n",
            "3    5\n",
            "4    5\n",
            "5    5\n",
            "dtype: int64\n",
            "ERROR! Session/line number was not unique in database. History logging moved to new session 61\n"
          ],
          "name": "stdout"
        }
      ]
    },
    {
      "cell_type": "code",
      "metadata": {
        "id": "OSA3wK4pKbDR",
        "colab_type": "code",
        "colab": {
          "base_uri": "https://localhost:8080/",
          "height": 34
        },
        "outputId": "6dc89fd3-9ee6-4c9b-915b-03d16caad4ac"
      },
      "source": [
        "#Accessing Data from Series with Position\n",
        "ss[1]"
      ],
      "execution_count": 27,
      "outputs": [
        {
          "output_type": "execute_result",
          "data": {
            "text/plain": [
              "5"
            ]
          },
          "metadata": {
            "tags": []
          },
          "execution_count": 27
        }
      ]
    },
    {
      "cell_type": "code",
      "metadata": {
        "id": "THmLSD2rK5x2",
        "colab_type": "code",
        "colab": {
          "base_uri": "https://localhost:8080/",
          "height": 34
        },
        "outputId": "e34b1e31-8f7e-4ddd-e5a8-e4919ff245ce"
      },
      "source": [
        "dict_s['a']"
      ],
      "execution_count": 29,
      "outputs": [
        {
          "output_type": "execute_result",
          "data": {
            "text/plain": [
              "0.0"
            ]
          },
          "metadata": {
            "tags": []
          },
          "execution_count": 29
        }
      ]
    },
    {
      "cell_type": "markdown",
      "metadata": {
        "id": "tEdn2X8JpcSN",
        "colab_type": "text"
      },
      "source": [
        "## pandas.DataFrame( data, index, columns, dtype, copy)"
      ]
    },
    {
      "cell_type": "markdown",
      "metadata": {
        "id": "NKhJGlR_zViu",
        "colab_type": "text"
      },
      "source": [
        "![alt text](https://www.tutorialspoint.com/python_pandas/images/structure_table.jpg)"
      ]
    },
    {
      "cell_type": "code",
      "metadata": {
        "id": "Sk8PBrUoK_Zf",
        "colab_type": "code",
        "colab": {
          "base_uri": "https://localhost:8080/",
          "height": 68
        },
        "outputId": "b9049cfc-78ba-468c-b7ca-f01d3cc8d3eb"
      },
      "source": [
        "#Create an Empty DataFrame\n",
        "#import the pandas library and aliasing as pd\n",
        "import pandas as pd\n",
        "df = pd.DataFrame()\n",
        "print (df)"
      ],
      "execution_count": 1,
      "outputs": [
        {
          "output_type": "stream",
          "text": [
            "Empty DataFrame\n",
            "Columns: []\n",
            "Index: []\n"
          ],
          "name": "stdout"
        }
      ]
    },
    {
      "cell_type": "code",
      "metadata": {
        "id": "u9XqgAGMqOH2",
        "colab_type": "code",
        "colab": {
          "base_uri": "https://localhost:8080/",
          "height": 170
        },
        "outputId": "3957c0b3-01a2-4e6f-ff0d-7a373e6b7e74"
      },
      "source": [
        "#Create a DataFrame from Lists\n",
        "#The DataFrame can be created using a single list or a list of lists.\n",
        "import pandas as pd\n",
        "data = [1,2,3,4,5]\n",
        "df = pd.DataFrame(data)\n",
        "print (df)\n",
        "\n",
        "df1 = pd.DataFrame([[1,2,3],[4,5,6, 9]])\n",
        "print(df1)"
      ],
      "execution_count": 4,
      "outputs": [
        {
          "output_type": "stream",
          "text": [
            "   0\n",
            "0  1\n",
            "1  2\n",
            "2  3\n",
            "3  4\n",
            "4  5\n",
            "   0  1  2    3\n",
            "0  1  2  3  NaN\n",
            "1  4  5  6  9.0\n"
          ],
          "name": "stdout"
        }
      ]
    },
    {
      "cell_type": "code",
      "metadata": {
        "id": "yh3YaqaXqeGt",
        "colab_type": "code",
        "colab": {
          "base_uri": "https://localhost:8080/",
          "height": 122
        },
        "outputId": "f6090a09-fc69-45f4-f775-7cdbf1020644"
      },
      "source": [
        "import pandas as pd\n",
        "data = [['Alex',10],['Bob',12],['Clarke',13]]\n",
        "df = pd.DataFrame(data,columns=['Name','Age'])\n",
        "print (df)"
      ],
      "execution_count": 5,
      "outputs": [
        {
          "output_type": "stream",
          "text": [
            "     Name  Age\n",
            "0    Alex   10\n",
            "1     Bob   12\n",
            "2  Clarke   13\n",
            "ERROR! Session/line number was not unique in database. History logging moved to new session 60\n"
          ],
          "name": "stdout"
        }
      ]
    },
    {
      "cell_type": "code",
      "metadata": {
        "id": "JIg1ZrhFq9Gw",
        "colab_type": "code",
        "colab": {
          "base_uri": "https://localhost:8080/",
          "height": 85
        },
        "outputId": "3819a420-3b50-4d32-844f-14300756e9aa"
      },
      "source": [
        "import pandas as pd\n",
        "data = [['Alex',10],['Bob',12],['Clarke',13]]\n",
        "df = pd.DataFrame(data,columns=['Name','Age'],dtype=float)\n",
        "print (df)"
      ],
      "execution_count": 6,
      "outputs": [
        {
          "output_type": "stream",
          "text": [
            "     Name   Age\n",
            "0    Alex  10.0\n",
            "1     Bob  12.0\n",
            "2  Clarke  13.0\n"
          ],
          "name": "stdout"
        }
      ]
    },
    {
      "cell_type": "code",
      "metadata": {
        "id": "Lq6da4VdrMbx",
        "colab_type": "code",
        "colab": {
          "base_uri": "https://localhost:8080/",
          "height": 85
        },
        "outputId": "fa3aedf7-49c0-4ef0-a401-feed5b3c0f6b"
      },
      "source": [
        "df['Name']"
      ],
      "execution_count": 7,
      "outputs": [
        {
          "output_type": "execute_result",
          "data": {
            "text/plain": [
              "0      Alex\n",
              "1       Bob\n",
              "2    Clarke\n",
              "Name: Name, dtype: object"
            ]
          },
          "metadata": {
            "tags": []
          },
          "execution_count": 7
        }
      ]
    },
    {
      "cell_type": "code",
      "metadata": {
        "id": "mmtDxzUorQnY",
        "colab_type": "code",
        "colab": {
          "base_uri": "https://localhost:8080/",
          "height": 85
        },
        "outputId": "bd5157d4-5a16-4c25-953f-aceb5651d7ec"
      },
      "source": [
        "df['Age']"
      ],
      "execution_count": 8,
      "outputs": [
        {
          "output_type": "execute_result",
          "data": {
            "text/plain": [
              "0    10.0\n",
              "1    12.0\n",
              "2    13.0\n",
              "Name: Age, dtype: float64"
            ]
          },
          "metadata": {
            "tags": []
          },
          "execution_count": 8
        }
      ]
    },
    {
      "cell_type": "code",
      "metadata": {
        "id": "Of5pUX6ErSyN",
        "colab_type": "code",
        "colab": {
          "base_uri": "https://localhost:8080/",
          "height": 102
        },
        "outputId": "7841213f-cd8c-421e-c737-896b7e4a0da2"
      },
      "source": [
        "#Create a DataFrame from Dict of ndarrays / Lists\n",
        "import pandas as pd\n",
        "data = {'Name':['Tom', 'Jack', 'Steve', 'Ricky'],'Age':[28,34,29,42]}\n",
        "df = pd.DataFrame(data)\n",
        "print (df)"
      ],
      "execution_count": 9,
      "outputs": [
        {
          "output_type": "stream",
          "text": [
            "    Name  Age\n",
            "0    Tom   28\n",
            "1   Jack   34\n",
            "2  Steve   29\n",
            "3  Ricky   42\n"
          ],
          "name": "stdout"
        }
      ]
    },
    {
      "cell_type": "code",
      "metadata": {
        "id": "9FjbA95OrncS",
        "colab_type": "code",
        "colab": {
          "base_uri": "https://localhost:8080/",
          "height": 102
        },
        "outputId": "a5969795-29d9-4596-b6b6-f650f60336cd"
      },
      "source": [
        "#create an indexed DataFrame using arrays.\n",
        "import pandas as pd\n",
        "data = {'Name':['Tom', 'Jack', 'Steve', 'Ricky'],'Age':[28,34,29,42]}\n",
        "df = pd.DataFrame(data, index=['rank1','rank2','rank3','rank4'])\n",
        "print (df)"
      ],
      "execution_count": 10,
      "outputs": [
        {
          "output_type": "stream",
          "text": [
            "        Name  Age\n",
            "rank1    Tom   28\n",
            "rank2   Jack   34\n",
            "rank3  Steve   29\n",
            "rank4  Ricky   42\n"
          ],
          "name": "stdout"
        }
      ]
    },
    {
      "cell_type": "code",
      "metadata": {
        "id": "lCXaJ5dxr8Hz",
        "colab_type": "code",
        "colab": {
          "base_uri": "https://localhost:8080/",
          "height": 139
        },
        "outputId": "3b10619b-25e0-4afe-b1ff-5e376e3a6181"
      },
      "source": [
        "import pandas as pd\n",
        "data = {'Name':['Tom', 'Jack', 'Steve', 'Ricky'],'Age':[28,34,29,42]}\n",
        "df = pd.DataFrame(data, index=[1, 3, 6, 4])\n",
        "print (df)"
      ],
      "execution_count": 11,
      "outputs": [
        {
          "output_type": "stream",
          "text": [
            "ERROR! Session/line number was not unique in database. History logging moved to new session 61\n",
            "    Name  Age\n",
            "1    Tom   28\n",
            "3   Jack   34\n",
            "6  Steve   29\n",
            "4  Ricky   42\n"
          ],
          "name": "stdout"
        }
      ]
    },
    {
      "cell_type": "code",
      "metadata": {
        "id": "TRRrIvwIsBNi",
        "colab_type": "code",
        "colab": {
          "base_uri": "https://localhost:8080/",
          "height": 68
        },
        "outputId": "58213d93-5821-4851-dea7-6312fab17d95"
      },
      "source": [
        "#Create a DataFrame from List of Dicts\n",
        "#The dictionary keys are by default taken as column names.\n",
        "import pandas as pd\n",
        "data = [{'a': 1, 'b': 2},{'a': 5, 'b': 10, 'c': 20}]\n",
        "df = pd.DataFrame(data)\n",
        "print (df)\n"
      ],
      "execution_count": 12,
      "outputs": [
        {
          "output_type": "stream",
          "text": [
            "   a   b     c\n",
            "0  1   2   NaN\n",
            "1  5  10  20.0\n"
          ],
          "name": "stdout"
        }
      ]
    },
    {
      "cell_type": "code",
      "metadata": {
        "id": "zNJbiEyYscI8",
        "colab_type": "code",
        "colab": {
          "base_uri": "https://localhost:8080/",
          "height": 85
        },
        "outputId": "715e4afb-a7e2-47bc-e656-3c874ce00b94"
      },
      "source": [
        "import pandas as pd\n",
        "data = [{'a': 1, 'b': 2},{'a': 5, 'b': 10, 'c': 20},{'a': 5, 'b': 10, 'c': 20}]\n",
        "df = pd.DataFrame(data, index=['first', 'second', 'third'])\n",
        "print (df)"
      ],
      "execution_count": 15,
      "outputs": [
        {
          "output_type": "stream",
          "text": [
            "        a   b     c\n",
            "first   1   2   NaN\n",
            "second  5  10  20.0\n",
            "third   5  10  20.0\n"
          ],
          "name": "stdout"
        }
      ]
    },
    {
      "cell_type": "code",
      "metadata": {
        "id": "OISmkS34ss1A",
        "colab_type": "code",
        "colab": {
          "base_uri": "https://localhost:8080/",
          "height": 119
        },
        "outputId": "02b32326-44e5-45bb-fd61-4de3244d3ef1"
      },
      "source": [
        "#The following example shows how to create a DataFrame with a list of dictionaries, row indices, and column indices.\n",
        "import pandas as pd\n",
        "data = [{'a': 1, 'b': 2},{'a': 5, 'b': 10, 'c': 20}]\n",
        "\n",
        "#With two column indices, values same as dictionary keys\n",
        "df1 = pd.DataFrame(data, index=['first', 'second'], columns=['a', 'b'])\n",
        "\n",
        "#With two column indices with one index with other name\n",
        "df2 = pd.DataFrame(data, index=['first', 'second'], columns=['a', 'b1'])\n",
        "print (df1)\n",
        "print (df2)"
      ],
      "execution_count": 18,
      "outputs": [
        {
          "output_type": "stream",
          "text": [
            "        a   b\n",
            "first   1   2\n",
            "second  5  10\n",
            "        a  b1\n",
            "first   1 NaN\n",
            "second  5 NaN\n"
          ],
          "name": "stdout"
        }
      ]
    },
    {
      "cell_type": "code",
      "metadata": {
        "id": "QLItg2-PtRdy",
        "colab_type": "code",
        "colab": {
          "base_uri": "https://localhost:8080/",
          "height": 102
        },
        "outputId": "6a861a64-1f39-41fc-9d8c-b577fb448490"
      },
      "source": [
        "#Create a DataFrame from Dict of Series\n",
        "import pandas as pd\n",
        "\n",
        "d = {'one' : pd.Series([1, 2, 3], index=['a', 'b', 'c']),\n",
        "   'two' : pd.Series([1, 2, 3, 4], index=['a', 'b', 'c', 'd'])}\n",
        "\n",
        "df = pd.DataFrame(d)\n",
        "print (df)"
      ],
      "execution_count": 19,
      "outputs": [
        {
          "output_type": "stream",
          "text": [
            "   one  two\n",
            "a  1.0    1\n",
            "b  2.0    2\n",
            "c  3.0    3\n",
            "d  NaN    4\n"
          ],
          "name": "stdout"
        }
      ]
    },
    {
      "cell_type": "code",
      "metadata": {
        "id": "3cFX65MVtxsl",
        "colab_type": "code",
        "colab": {
          "base_uri": "https://localhost:8080/",
          "height": 139
        },
        "outputId": "cd1a4182-9835-45da-8681-ab4cfd874651"
      },
      "source": [
        "import pandas as pd\n",
        "\n",
        "d = {'one' : pd.Series([1, 2, 3]),\n",
        "   'two' : pd.Series([1, 2, 3, 4])}\n",
        "\n",
        "df = pd.DataFrame(d)\n",
        "print (df)"
      ],
      "execution_count": 20,
      "outputs": [
        {
          "output_type": "stream",
          "text": [
            "ERROR! Session/line number was not unique in database. History logging moved to new session 62\n",
            "   one  two\n",
            "0  1.0    1\n",
            "1  2.0    2\n",
            "2  3.0    3\n",
            "3  NaN    4\n"
          ],
          "name": "stdout"
        }
      ]
    },
    {
      "cell_type": "code",
      "metadata": {
        "id": "F_md-CYAt_3n",
        "colab_type": "code",
        "colab": {
          "base_uri": "https://localhost:8080/",
          "height": 139
        },
        "outputId": "dc44aedf-f87f-4db4-f203-3960326350e2"
      },
      "source": [
        "#Column Selection\n",
        "import pandas as pd\n",
        "\n",
        "d = {'one' : pd.Series([1, 2, 3], index=['a', 'b', 'c']),\n",
        "   'two' : pd.Series([1, 2, 3, 4], index=['a', 'b', 'c', 'd'])}\n",
        "\n",
        "df = pd.DataFrame(d)\n",
        "print (df ['one'])"
      ],
      "execution_count": 26,
      "outputs": [
        {
          "output_type": "stream",
          "text": [
            "a    1.0\n",
            "b    2.0\n",
            "c    3.0\n",
            "d    NaN\n",
            "Name: one, dtype: float64\n",
            "ERROR! Session/line number was not unique in database. History logging moved to new session 63\n"
          ],
          "name": "stdout"
        }
      ]
    },
    {
      "cell_type": "code",
      "metadata": {
        "id": "xUKJ5a7XunDs",
        "colab_type": "code",
        "colab": {
          "base_uri": "https://localhost:8080/",
          "height": 221
        },
        "outputId": "d6657f17-4f4a-4bb4-ec93-ca90cd4e988f"
      },
      "source": [
        "#Column Addition\n",
        "import pandas as pd\n",
        "\n",
        "d = {'one' : pd.Series([1, 2, 3], index=['a', 'b', 'c']),\n",
        "   'two' : pd.Series([1, 2, 3, 4], index=['a', 'b', 'c', 'd'])}\n",
        "\n",
        "df = pd.DataFrame(d)\n",
        "\n",
        "# Adding a new column to an existing DataFrame object with column label by passing new series\n",
        "\n",
        "print (\"Adding a new column by passing as Series:\")\n",
        "df['three']=pd.Series([10,20,30],index=['a','b','c'])\n",
        "print (df)\n",
        "\n",
        "print (\"Adding a new column using the existing columns in DataFrame:\")\n",
        "df['four']=df['one']+df['three']\n",
        "\n",
        "print (df)"
      ],
      "execution_count": 27,
      "outputs": [
        {
          "output_type": "stream",
          "text": [
            "Adding a new column by passing as Series:\n",
            "   one  two  three\n",
            "a  1.0    1   10.0\n",
            "b  2.0    2   20.0\n",
            "c  3.0    3   30.0\n",
            "d  NaN    4    NaN\n",
            "Adding a new column using the existing columns in DataFrame:\n",
            "   one  two  three  four\n",
            "a  1.0    1   10.0  11.0\n",
            "b  2.0    2   20.0  22.0\n",
            "c  3.0    3   30.0  33.0\n",
            "d  NaN    4    NaN   NaN\n"
          ],
          "name": "stdout"
        }
      ]
    },
    {
      "cell_type": "code",
      "metadata": {
        "id": "M1VjMHjXu6UW",
        "colab_type": "code",
        "colab": {
          "base_uri": "https://localhost:8080/",
          "height": 111
        },
        "outputId": "a8cf5da0-f30d-4e87-86dc-97ccc50f8d59"
      },
      "source": [
        "df[:2]+5"
      ],
      "execution_count": 40,
      "outputs": [
        {
          "output_type": "execute_result",
          "data": {
            "text/html": [
              "<div>\n",
              "<style scoped>\n",
              "    .dataframe tbody tr th:only-of-type {\n",
              "        vertical-align: middle;\n",
              "    }\n",
              "\n",
              "    .dataframe tbody tr th {\n",
              "        vertical-align: top;\n",
              "    }\n",
              "\n",
              "    .dataframe thead th {\n",
              "        text-align: right;\n",
              "    }\n",
              "</style>\n",
              "<table border=\"1\" class=\"dataframe\">\n",
              "  <thead>\n",
              "    <tr style=\"text-align: right;\">\n",
              "      <th></th>\n",
              "      <th>one</th>\n",
              "      <th>two</th>\n",
              "      <th>three</th>\n",
              "      <th>four</th>\n",
              "    </tr>\n",
              "  </thead>\n",
              "  <tbody>\n",
              "    <tr>\n",
              "      <th>a</th>\n",
              "      <td>6.0</td>\n",
              "      <td>6</td>\n",
              "      <td>15.0</td>\n",
              "      <td>16.0</td>\n",
              "    </tr>\n",
              "    <tr>\n",
              "      <th>b</th>\n",
              "      <td>7.0</td>\n",
              "      <td>7</td>\n",
              "      <td>25.0</td>\n",
              "      <td>27.0</td>\n",
              "    </tr>\n",
              "  </tbody>\n",
              "</table>\n",
              "</div>"
            ],
            "text/plain": [
              "   one  two  three  four\n",
              "a  6.0    6   15.0  16.0\n",
              "b  7.0    7   25.0  27.0"
            ]
          },
          "metadata": {
            "tags": []
          },
          "execution_count": 40
        }
      ]
    },
    {
      "cell_type": "code",
      "metadata": {
        "id": "8lViCDuEvEk0",
        "colab_type": "code",
        "colab": {
          "base_uri": "https://localhost:8080/",
          "height": 323
        },
        "outputId": "5a7a87c8-f10b-446d-87cb-79cde85b5989"
      },
      "source": [
        "#Column Deletion\n",
        "# Using the previous DataFrame, we will delete a column\n",
        "# using del function\n",
        "import pandas as pd\n",
        "\n",
        "d = {'one' : pd.Series([1, 2, 3], index=['a', 'b', 'c']), \n",
        "   'two' : pd.Series([1, 2, 3, 4], index=['a', 'b', 'c', 'd']), \n",
        "   'three' : pd.Series([10,20,30], index=['a','b','c'])}\n",
        "\n",
        "df = pd.DataFrame(d)\n",
        "print (\"Our dataframe is:\")\n",
        "print (df)\n",
        "\n",
        "# using del function\n",
        "print (\"Deleting the first column using DEL function:\")\n",
        "del df['one']\n",
        "print (df)\n",
        "\n",
        "# using pop function\n",
        "print (\"Deleting another column using POP function:\")\n",
        "df.pop('two')\n",
        "print (df)"
      ],
      "execution_count": 41,
      "outputs": [
        {
          "output_type": "stream",
          "text": [
            "Our dataframe is:\n",
            "   one  two  three\n",
            "a  1.0    1   10.0\n",
            "b  2.0    2   20.0\n",
            "c  3.0    3   30.0\n",
            "d  NaN    4    NaN\n",
            "Deleting the first column using DEL function:\n",
            "   two  three\n",
            "a    1   10.0\n",
            "b    2   20.0\n",
            "c    3   30.0\n",
            "d    4    NaN\n",
            "Deleting another column using POP function:\n",
            "   three\n",
            "a   10.0\n",
            "b   20.0\n",
            "c   30.0\n",
            "d    NaN\n"
          ],
          "name": "stdout"
        }
      ]
    },
    {
      "cell_type": "code",
      "metadata": {
        "id": "MtMc2X0Mw1Tf",
        "colab_type": "code",
        "colab": {
          "base_uri": "https://localhost:8080/",
          "height": 68
        },
        "outputId": "6d0ac6d4-1875-40aa-8511-079c88f8896d"
      },
      "source": [
        "#Row Selection, Addition, and Deletion\n",
        "#Selection by Label\n",
        "import pandas as pd\n",
        "\n",
        "d = {'one' : pd.Series([1, 2, 3], index=['a', 'b', 'c']), \n",
        "   'two' : pd.Series([1, 2, 3, 4], index=['a', 'b', 'c', 'd'])}\n",
        "\n",
        "df = pd.DataFrame(d)\n",
        "print (df.loc['b'])"
      ],
      "execution_count": 42,
      "outputs": [
        {
          "output_type": "stream",
          "text": [
            "one    2.0\n",
            "two    2.0\n",
            "Name: b, dtype: float64\n"
          ],
          "name": "stdout"
        }
      ]
    },
    {
      "cell_type": "code",
      "metadata": {
        "id": "IuqKDpZfxGf7",
        "colab_type": "code",
        "colab": {
          "base_uri": "https://localhost:8080/",
          "height": 68
        },
        "outputId": "326cc7a9-daa6-4f88-bcaa-bf54ce50bc94"
      },
      "source": [
        "#Selection by integer location\n",
        "#Rows can be selected by passing integer location to an iloc function.\n",
        "\n",
        "import pandas as pd\n",
        "\n",
        "d = {'one' : pd.Series([1, 2, 3], index=['a', 'b', 'c']),\n",
        "   'two' : pd.Series([1, 2, 3, 4], index=['a', 'b', 'c', 'd'])}\n",
        "\n",
        "df = pd.DataFrame(d)\n",
        "print (df.iloc[2])"
      ],
      "execution_count": 43,
      "outputs": [
        {
          "output_type": "stream",
          "text": [
            "one    3.0\n",
            "two    3.0\n",
            "Name: c, dtype: float64\n"
          ],
          "name": "stdout"
        }
      ]
    },
    {
      "cell_type": "code",
      "metadata": {
        "id": "AuvbA6iExuKj",
        "colab_type": "code",
        "colab": {
          "base_uri": "https://localhost:8080/",
          "height": 68
        },
        "outputId": "fe052767-e772-41c3-ef14-0b90a561e482"
      },
      "source": [
        "#Slice Rows\n",
        "import pandas as pd\n",
        "\n",
        "d = {'one' : pd.Series([1, 2, 3], index=['a', 'b', 'c']), \n",
        "   'two' : pd.Series([1, 2, 3, 4], index=['a', 'b', 'c', 'd'])}\n",
        "\n",
        "df = pd.DataFrame(d)\n",
        "print (df[2:4]+5)"
      ],
      "execution_count": 46,
      "outputs": [
        {
          "output_type": "stream",
          "text": [
            "   one  two\n",
            "c  8.0    8\n",
            "d  NaN    9\n"
          ],
          "name": "stdout"
        }
      ]
    },
    {
      "cell_type": "code",
      "metadata": {
        "id": "VqXUXdvQx6ty",
        "colab_type": "code",
        "colab": {
          "base_uri": "https://localhost:8080/",
          "height": 102
        },
        "outputId": "e2cd142b-87f1-4dbf-fe89-b25724bef47b"
      },
      "source": [
        "#Addition of new Rows\n",
        "#Add new rows to a DataFrame using the append function. This function will append the rows at the end.\n",
        "\n",
        "import pandas as pd\n",
        "\n",
        "df = pd.DataFrame([[1, 2], [3, 4]], columns = ['a','b'])\n",
        "df2 = pd.DataFrame([[5, 6], [7, 8]], columns = ['a','b'])\n",
        "\n",
        "df = df.append(df2)\n",
        "print (df)"
      ],
      "execution_count": 48,
      "outputs": [
        {
          "output_type": "stream",
          "text": [
            "   a  b\n",
            "0  1  2\n",
            "1  3  4\n",
            "0  5  6\n",
            "1  7  8\n"
          ],
          "name": "stdout"
        }
      ]
    },
    {
      "cell_type": "code",
      "metadata": {
        "id": "UcrWvtNTyiq8",
        "colab_type": "code",
        "colab": {
          "base_uri": "https://localhost:8080/",
          "height": 68
        },
        "outputId": "07ff8dc7-8f88-44eb-a404-854333ab2b51"
      },
      "source": [
        "#Deletion of Rows\n",
        "#Use index label to delete or drop rows from a DataFrame. If label is duplicated, then multiple rows will be dropped.\n",
        "import pandas as pd\n",
        "\n",
        "df = pd.DataFrame([[1, 2], [3, 4]], columns = ['a','b'])\n",
        "df2 = pd.DataFrame([[5, 6], [7, 8]], columns = ['a','b'])\n",
        "\n",
        "df = df.append(df2)\n",
        "\n",
        "# Drop rows with label 0\n",
        "df = df.drop(0)\n",
        "\n",
        "print (df)"
      ],
      "execution_count": 49,
      "outputs": [
        {
          "output_type": "stream",
          "text": [
            "   a  b\n",
            "1  3  4\n",
            "1  7  8\n"
          ],
          "name": "stdout"
        }
      ]
    },
    {
      "cell_type": "markdown",
      "metadata": {
        "id": "3eyNLO7Wzo5R",
        "colab_type": "text"
      },
      "source": [
        "## Python Pandas - Panel\n",
        "\n",
        "### pandas.Panel(data, items, major_axis, minor_axis, dtype, copy)"
      ]
    },
    {
      "cell_type": "code",
      "metadata": {
        "id": "x4onkFqSzFLQ",
        "colab_type": "code",
        "colab": {
          "base_uri": "https://localhost:8080/",
          "height": 34
        },
        "outputId": "54b0cefc-5083-40f0-f62e-b8108bbc92c1"
      },
      "source": [
        "#Create Panel From 3D ndarray\n",
        "# creating an empty panel\n",
        "import pandas as pd\n",
        "import numpy as np\n",
        "\n",
        "data = np.random.rand(2,4,5)\n",
        "\n",
        "p = pd.Panel()\n",
        "print (p)"
      ],
      "execution_count": 52,
      "outputs": [
        {
          "output_type": "stream",
          "text": [
            "<pandas.Panel object at 0x7effd03289b0>\n"
          ],
          "name": "stdout"
        }
      ]
    },
    {
      "cell_type": "code",
      "metadata": {
        "id": "u-KM9Dht0Y3I",
        "colab_type": "code",
        "colab": {
          "base_uri": "https://localhost:8080/",
          "height": 235
        },
        "outputId": "eea12610-9a89-4936-9e3e-b9d58828c365"
      },
      "source": [
        "#Creating a Panel From dict of DataFrame Objects\n",
        "#creating an empty panel\n",
        "import pandas as pd\n",
        "import numpy as np\n",
        "\n",
        "data = {'Item1' : pd.DataFrame(np.random.randn(4, 3)), \n",
        "   'Item2' : pd.DataFrame(np.random.randn(4, 2))}\n",
        "p = pd.Panel(data=data)\n",
        "print (p)"
      ],
      "execution_count": 54,
      "outputs": [
        {
          "output_type": "error",
          "ename": "TypeError",
          "evalue": "ignored",
          "traceback": [
            "\u001b[0;31m---------------------------------------------------------------------------\u001b[0m",
            "\u001b[0;31mTypeError\u001b[0m                                 Traceback (most recent call last)",
            "\u001b[0;32m<ipython-input-54-7381fe1c759e>\u001b[0m in \u001b[0;36m<module>\u001b[0;34m()\u001b[0m\n\u001b[1;32m      4\u001b[0m data = {'Item1' : pd.DataFrame(np.random.randn(4, 3)), \n\u001b[1;32m      5\u001b[0m    'Item2' : pd.DataFrame(np.random.randn(4, 2))}\n\u001b[0;32m----> 6\u001b[0;31m \u001b[0mp\u001b[0m \u001b[0;34m=\u001b[0m \u001b[0mpd\u001b[0m\u001b[0;34m.\u001b[0m\u001b[0mPanel\u001b[0m\u001b[0;34m(\u001b[0m\u001b[0mdata\u001b[0m\u001b[0;34m=\u001b[0m\u001b[0mdata\u001b[0m\u001b[0;34m)\u001b[0m\u001b[0;34m\u001b[0m\u001b[0;34m\u001b[0m\u001b[0m\n\u001b[0m\u001b[1;32m      7\u001b[0m \u001b[0mprint\u001b[0m \u001b[0;34m(\u001b[0m\u001b[0mp\u001b[0m\u001b[0;34m)\u001b[0m\u001b[0;34m\u001b[0m\u001b[0;34m\u001b[0m\u001b[0m\n",
            "\u001b[0;31mTypeError\u001b[0m: object() takes no parameters"
          ]
        }
      ]
    },
    {
      "cell_type": "code",
      "metadata": {
        "id": "NCWkAa0b1KYD",
        "colab_type": "code",
        "colab": {
          "base_uri": "https://localhost:8080/",
          "height": 34
        },
        "outputId": "dd6313ef-5ac0-4fdd-a289-8c825a76fbf0"
      },
      "source": [
        "#Create an Empty Panel\n",
        "#creating an empty panel\n",
        "import pandas as pd\n",
        "p = pd.Panel()\n",
        "print (p)"
      ],
      "execution_count": 55,
      "outputs": [
        {
          "output_type": "stream",
          "text": [
            "<pandas.Panel object at 0x7effd15b2358>\n"
          ],
          "name": "stdout"
        }
      ]
    },
    {
      "cell_type": "markdown",
      "metadata": {
        "id": "fpYbzTct743S",
        "colab_type": "text"
      },
      "source": [
        "### Selecting the Data from Panel\n",
        "Select the data from the panel using −\n",
        "\n",
        "* Items\n",
        "* Major_axis\n",
        "* Minor_axis"
      ]
    },
    {
      "cell_type": "code",
      "metadata": {
        "id": "UrJVk4YM1cM1",
        "colab_type": "code",
        "colab": {
          "base_uri": "https://localhost:8080/",
          "height": 252
        },
        "outputId": "787d5b5d-17df-4676-9e5d-2a94e593351d"
      },
      "source": [
        "# creating an empty panel\n",
        "import pandas as pd\n",
        "import numpy as np\n",
        "data = {'Item1' : pd.DataFrame(np.random.randn(4, 3)), \n",
        "   'Item2' : pd.DataFrame(np.random.randn(4, 2))}\n",
        "p = pd.Panel(data)\n",
        "print (p['Item1'])"
      ],
      "execution_count": 56,
      "outputs": [
        {
          "output_type": "stream",
          "text": [
            "ERROR! Session/line number was not unique in database. History logging moved to new session 66\n"
          ],
          "name": "stdout"
        },
        {
          "output_type": "error",
          "ename": "TypeError",
          "evalue": "ignored",
          "traceback": [
            "\u001b[0;31m---------------------------------------------------------------------------\u001b[0m",
            "\u001b[0;31mTypeError\u001b[0m                                 Traceback (most recent call last)",
            "\u001b[0;32m<ipython-input-56-082ff794ef00>\u001b[0m in \u001b[0;36m<module>\u001b[0;34m()\u001b[0m\n\u001b[1;32m      3\u001b[0m data = {'Item1' : pd.DataFrame(np.random.randn(4, 3)), \n\u001b[1;32m      4\u001b[0m    'Item2' : pd.DataFrame(np.random.randn(4, 2))}\n\u001b[0;32m----> 5\u001b[0;31m \u001b[0mp\u001b[0m \u001b[0;34m=\u001b[0m \u001b[0mpd\u001b[0m\u001b[0;34m.\u001b[0m\u001b[0mPanel\u001b[0m\u001b[0;34m(\u001b[0m\u001b[0mdata\u001b[0m\u001b[0;34m)\u001b[0m\u001b[0;34m\u001b[0m\u001b[0;34m\u001b[0m\u001b[0m\n\u001b[0m\u001b[1;32m      6\u001b[0m \u001b[0mprint\u001b[0m \u001b[0;34m(\u001b[0m\u001b[0mp\u001b[0m\u001b[0;34m[\u001b[0m\u001b[0;34m'Item1'\u001b[0m\u001b[0;34m]\u001b[0m\u001b[0;34m)\u001b[0m\u001b[0;34m\u001b[0m\u001b[0;34m\u001b[0m\u001b[0m\n",
            "\u001b[0;31mTypeError\u001b[0m: object() takes no parameters"
          ]
        }
      ]
    },
    {
      "cell_type": "code",
      "metadata": {
        "id": "TrLntweM8Cqv",
        "colab_type": "code",
        "colab": {
          "base_uri": "https://localhost:8080/",
          "height": 252
        },
        "outputId": "0d5297a7-af0e-4f26-b162-a962c53dc16f"
      },
      "source": [
        "# importing pandas module   \n",
        "import pandas as pd   \n",
        "import numpy as np  \n",
        "    \n",
        "df1 = pd.DataFrame({'a': ['Geeks', 'For', 'geeks', 'for', 'real'],   \n",
        "                    'b': [11, 1.025, 333, 114.48, 1333]})  \n",
        "                        \n",
        "data = {'item1':df1, 'item2':df1}  \n",
        "    \n",
        "# creating Panel   \n",
        "panel = pd.Panel.from_dict(data, orient ='minor')  \n",
        "    \n",
        "print(\"panel['b'] is - \\n\\n\", panel['b'], '\\n')  \n",
        "    \n",
        "print(\"\\nSize of panel['b'] is - \", panel['b'].shape) "
      ],
      "execution_count": 57,
      "outputs": [
        {
          "output_type": "error",
          "ename": "AttributeError",
          "evalue": "ignored",
          "traceback": [
            "\u001b[0;31m---------------------------------------------------------------------------\u001b[0m",
            "\u001b[0;31mAttributeError\u001b[0m                            Traceback (most recent call last)",
            "\u001b[0;32m<ipython-input-57-f4535c3c3bfa>\u001b[0m in \u001b[0;36m<module>\u001b[0;34m()\u001b[0m\n\u001b[1;32m      8\u001b[0m \u001b[0;34m\u001b[0m\u001b[0m\n\u001b[1;32m      9\u001b[0m \u001b[0;31m# creating Panel\u001b[0m\u001b[0;34m\u001b[0m\u001b[0;34m\u001b[0m\u001b[0;34m\u001b[0m\u001b[0m\n\u001b[0;32m---> 10\u001b[0;31m \u001b[0mpanel\u001b[0m \u001b[0;34m=\u001b[0m \u001b[0mpd\u001b[0m\u001b[0;34m.\u001b[0m\u001b[0mPanel\u001b[0m\u001b[0;34m.\u001b[0m\u001b[0mfrom_dict\u001b[0m\u001b[0;34m(\u001b[0m\u001b[0mdata\u001b[0m\u001b[0;34m,\u001b[0m \u001b[0morient\u001b[0m \u001b[0;34m=\u001b[0m\u001b[0;34m'minor'\u001b[0m\u001b[0;34m)\u001b[0m\u001b[0;34m\u001b[0m\u001b[0;34m\u001b[0m\u001b[0m\n\u001b[0m\u001b[1;32m     11\u001b[0m \u001b[0;34m\u001b[0m\u001b[0m\n\u001b[1;32m     12\u001b[0m \u001b[0mprint\u001b[0m\u001b[0;34m(\u001b[0m\u001b[0;34m\"panel['b'] is - \\n\\n\"\u001b[0m\u001b[0;34m,\u001b[0m \u001b[0mpanel\u001b[0m\u001b[0;34m[\u001b[0m\u001b[0;34m'b'\u001b[0m\u001b[0;34m]\u001b[0m\u001b[0;34m,\u001b[0m \u001b[0;34m'\\n'\u001b[0m\u001b[0;34m)\u001b[0m\u001b[0;34m\u001b[0m\u001b[0;34m\u001b[0m\u001b[0m\n",
            "\u001b[0;31mAttributeError\u001b[0m: type object 'Panel' has no attribute 'from_dict'"
          ]
        }
      ]
    },
    {
      "cell_type": "markdown",
      "metadata": {
        "id": "OrzRs1c59U3w",
        "colab_type": "text"
      },
      "source": [
        "## Series Basic Functionality\n",
        "\n",
        "* **axes** :Returns a list of the row axis labels\n",
        "* **dtype** :Returns the dtype of the object.\n",
        "* **empty**:Returns True if series is empty.\n",
        "* **ndim**:Returns the number of dimensions of the underlying data, by definition 1.\n",
        "* **size**:Returns the number of elements in the underlying data.\n",
        "* **values**:Returns the Series as ndarray.\n",
        "* **head()**:Returns the first n rows.\n",
        "* **tail()**:Returns the last n rows."
      ]
    },
    {
      "cell_type": "code",
      "metadata": {
        "id": "AMzJzlDt-S5l",
        "colab_type": "code",
        "colab": {
          "base_uri": "https://localhost:8080/",
          "height": 102
        },
        "outputId": "94cef12f-5921-4961-aa94-6edec9b606b6"
      },
      "source": [
        "import pandas as pd\n",
        "import numpy as np\n",
        "\n",
        "#Create a series with 100 random numbers\n",
        "s = pd.Series(np.random.randn(4))\n",
        "print (s)"
      ],
      "execution_count": 61,
      "outputs": [
        {
          "output_type": "stream",
          "text": [
            "0    0.552010\n",
            "1    0.296869\n",
            "2   -0.500549\n",
            "3   -0.244376\n",
            "dtype: float64\n"
          ],
          "name": "stdout"
        }
      ]
    },
    {
      "cell_type": "code",
      "metadata": {
        "id": "KQ9FZGoY-UZD",
        "colab_type": "code",
        "colab": {
          "base_uri": "https://localhost:8080/",
          "height": 51
        },
        "outputId": "36fcef55-cdc7-4dad-e08a-550fa76b51f9"
      },
      "source": [
        "import pandas as pd\n",
        "import numpy as np\n",
        "\n",
        "#Create a series with 100 random numbers\n",
        "s = pd.Series(np.random.randn(4))\n",
        "print (\"The axes are:\")\n",
        "print (s.axes)"
      ],
      "execution_count": 62,
      "outputs": [
        {
          "output_type": "stream",
          "text": [
            "The axes are:\n",
            "[RangeIndex(start=0, stop=4, step=1)]\n"
          ],
          "name": "stdout"
        }
      ]
    },
    {
      "cell_type": "code",
      "metadata": {
        "id": "Bd6Hnqc1-ZnY",
        "colab_type": "code",
        "colab": {
          "base_uri": "https://localhost:8080/",
          "height": 139
        },
        "outputId": "d3978b45-58fa-42fa-df11-6ad07ef27818"
      },
      "source": [
        "import pandas as pd\n",
        "import numpy as np\n",
        "\n",
        "#Create a series with 100 random numbers\n",
        "s = pd.Series(np.random.randn(4))\n",
        "print (\"Is the Object empty?\")\n",
        "print (s.empty)\n",
        "ss = pd.Series()\n",
        "print (\"Is the Object empty?\")\n",
        "print (ss.empty)"
      ],
      "execution_count": 64,
      "outputs": [
        {
          "output_type": "stream",
          "text": [
            "Is the Object empty?\n",
            "False\n",
            "Is the Object empty?\n",
            "True\n"
          ],
          "name": "stdout"
        },
        {
          "output_type": "stream",
          "text": [
            "/usr/local/lib/python3.6/dist-packages/ipykernel_launcher.py:8: DeprecationWarning: The default dtype for empty Series will be 'object' instead of 'float64' in a future version. Specify a dtype explicitly to silence this warning.\n",
            "  \n"
          ],
          "name": "stderr"
        }
      ]
    },
    {
      "cell_type": "code",
      "metadata": {
        "id": "s-ZC2qAK-nVn",
        "colab_type": "code",
        "colab": {
          "base_uri": "https://localhost:8080/",
          "height": 173
        },
        "outputId": "9acaebb7-faec-4e2c-dcaf-94b71c5cef6a"
      },
      "source": [
        "import pandas as pd\n",
        "import numpy as np\n",
        "\n",
        "#Create a series with 4 random numbers\n",
        "s = pd.Series(np.random.randn(4))\n",
        "print (s)\n",
        "\n",
        "print (\"The dimensions of the object:\")\n",
        "print (s.ndim)"
      ],
      "execution_count": 65,
      "outputs": [
        {
          "output_type": "stream",
          "text": [
            "0    0.805112\n",
            "1    0.967399\n",
            "2    0.787331\n",
            "3   -2.066106\n",
            "dtype: float64\n",
            "The dimensions of the object:\n",
            "1\n",
            "ERROR! Session/line number was not unique in database. History logging moved to new session 68\n"
          ],
          "name": "stdout"
        }
      ]
    },
    {
      "cell_type": "code",
      "metadata": {
        "id": "98sdNMgT-1k9",
        "colab_type": "code",
        "colab": {
          "base_uri": "https://localhost:8080/",
          "height": 102
        },
        "outputId": "82471281-3e4f-4e2c-d7d0-42a1cd2d5b00"
      },
      "source": [
        "import pandas as pd\n",
        "import numpy as np\n",
        "\n",
        "#Create a series with 4 random numbers\n",
        "s = pd.Series(np.random.randn(2))\n",
        "print (s)\n",
        "print (\"The size of the object:\")\n",
        "print( s.size)"
      ],
      "execution_count": 66,
      "outputs": [
        {
          "output_type": "stream",
          "text": [
            "0   -1.230046\n",
            "1    0.014566\n",
            "dtype: float64\n",
            "The size of the object:\n",
            "2\n"
          ],
          "name": "stdout"
        }
      ]
    },
    {
      "cell_type": "code",
      "metadata": {
        "id": "aIA-oia7-8CP",
        "colab_type": "code",
        "colab": {
          "base_uri": "https://localhost:8080/",
          "height": 136
        },
        "outputId": "9cdda736-4a57-4e8c-fdb6-90bca1d16a07"
      },
      "source": [
        "import pandas as pd\n",
        "import numpy as np\n",
        "\n",
        "#Create a series with 4 random numbers\n",
        "s = pd.Series(np.random.randn(4))\n",
        "print (s)\n",
        "\n",
        "print (\"The actual data series is:\")\n",
        "print (s.values)"
      ],
      "execution_count": 67,
      "outputs": [
        {
          "output_type": "stream",
          "text": [
            "0    0.548129\n",
            "1   -0.846864\n",
            "2    0.002591\n",
            "3   -0.387203\n",
            "dtype: float64\n",
            "The actual data series is:\n",
            "[ 0.54812915 -0.8468636   0.00259051 -0.38720331]\n"
          ],
          "name": "stdout"
        }
      ]
    },
    {
      "cell_type": "code",
      "metadata": {
        "id": "T0s4voJQ_B03",
        "colab_type": "code",
        "colab": {
          "base_uri": "https://localhost:8080/",
          "height": 187
        },
        "outputId": "2ba3188f-7ec7-40a2-b8c5-d0c801646419"
      },
      "source": [
        "import pandas as pd\n",
        "import numpy as np\n",
        "\n",
        "#Create a series with 4 random numbers\n",
        "s = pd.Series(np.random.randn(4))\n",
        "print (\"The original series is:\")\n",
        "print (s)\n",
        "\n",
        "print (\"The first two rows of the data series:\")\n",
        "print (s.head(2))"
      ],
      "execution_count": 68,
      "outputs": [
        {
          "output_type": "stream",
          "text": [
            "The original series is:\n",
            "0   -1.278764\n",
            "1    1.449324\n",
            "2    0.398836\n",
            "3   -0.638643\n",
            "dtype: float64\n",
            "The first two rows of the data series:\n",
            "0   -1.278764\n",
            "1    1.449324\n",
            "dtype: float64\n"
          ],
          "name": "stdout"
        }
      ]
    },
    {
      "cell_type": "code",
      "metadata": {
        "id": "Fjv5vi21_H1W",
        "colab_type": "code",
        "colab": {
          "base_uri": "https://localhost:8080/",
          "height": 187
        },
        "outputId": "17cd1725-e8c8-40ad-ce63-849f617fd6d5"
      },
      "source": [
        "import pandas as pd\n",
        "import numpy as np\n",
        "\n",
        "#Create a series with 4 random numbers\n",
        "s = pd.Series(np.random.randn(4))\n",
        "print (\"The original series is:\")\n",
        "print (s)\n",
        "\n",
        "print (\"The last two rows of the data series:\")\n",
        "print (s.tail(2))"
      ],
      "execution_count": 69,
      "outputs": [
        {
          "output_type": "stream",
          "text": [
            "The original series is:\n",
            "0    2.221833\n",
            "1    0.572143\n",
            "2   -0.588066\n",
            "3    0.644597\n",
            "dtype: float64\n",
            "The last two rows of the data series:\n",
            "2   -0.588066\n",
            "3    0.644597\n",
            "dtype: float64\n"
          ],
          "name": "stdout"
        }
      ]
    },
    {
      "cell_type": "markdown",
      "metadata": {
        "id": "tf3UYUCr_dtD",
        "colab_type": "text"
      },
      "source": [
        "## DataFrame Basic Functionality\n",
        "* **T**:Transposes rows and columns.\n",
        "* **axes**:Returns a list with the row axis labels and column axis labels as the only members.\n",
        "* **dtypes**:Returns the dtypes in this object.\n",
        "* **empty**:True if NDFrame is entirely empty [no items]; if any of the axes are of length 0.\n",
        "* **ndim**:Number of axes / array dimensions.\n",
        "* **shape**:Returns a tuple representing the dimensionality of the DataFrame.\n",
        "* **size**:Number of elements in the NDFrame.\n",
        "* **values**:Numpy representation of NDFrame.\n",
        "* **head()**:Returns the first n rows.\n",
        "* **tail()**:Returns last n rows."
      ]
    },
    {
      "cell_type": "code",
      "metadata": {
        "id": "x39-jfnbAcCV",
        "colab_type": "code",
        "colab": {
          "base_uri": "https://localhost:8080/",
          "height": 170
        },
        "outputId": "229e8c47-d995-48aa-d57b-64f5d457288b"
      },
      "source": [
        "import pandas as pd\n",
        "import numpy as np\n",
        "\n",
        "#Create a Dictionary of series\n",
        "d = {'Name':pd.Series(['Tom','James','Ricky','Vin','Steve','Smith','Jack']),\n",
        "   'Age':pd.Series([25,26,25,23,30,29,23]),\n",
        "   'Rating':pd.Series([4.23,3.24,3.98,2.56,3.20,4.6,3.8])}\n",
        "\n",
        "#Create a DataFrame\n",
        "df = pd.DataFrame(d)\n",
        "print (\"Our data series is:\")\n",
        "print (df)"
      ],
      "execution_count": 84,
      "outputs": [
        {
          "output_type": "stream",
          "text": [
            "Our data series is:\n",
            "    Name  Age  Rating\n",
            "0    Tom   25    4.23\n",
            "1  James   26    3.24\n",
            "2  Ricky   25    3.98\n",
            "3    Vin   23    2.56\n",
            "4  Steve   30    3.20\n",
            "5  Smith   29    4.60\n",
            "6   Jack   23    3.80\n"
          ],
          "name": "stdout"
        }
      ]
    },
    {
      "cell_type": "code",
      "metadata": {
        "id": "zVt_pffQAdhI",
        "colab_type": "code",
        "colab": {
          "base_uri": "https://localhost:8080/",
          "height": 221
        },
        "outputId": "a0a9c790-f40a-4367-bdf9-0bdfc08279ad"
      },
      "source": [
        "#Print transpose of the DataFrame\n",
        "print (df.T)\n",
        "print(df['Name'])"
      ],
      "execution_count": 85,
      "outputs": [
        {
          "output_type": "stream",
          "text": [
            "           0      1      2     3      4      5     6\n",
            "Name     Tom  James  Ricky   Vin  Steve  Smith  Jack\n",
            "Age       25     26     25    23     30     29    23\n",
            "Rating  4.23   3.24   3.98  2.56    3.2    4.6   3.8\n",
            "0      Tom\n",
            "1    James\n",
            "2    Ricky\n",
            "3      Vin\n",
            "4    Steve\n",
            "5    Smith\n",
            "6     Jack\n",
            "Name: Name, dtype: object\n"
          ],
          "name": "stdout"
        }
      ]
    },
    {
      "cell_type": "code",
      "metadata": {
        "id": "YM5bva8hAtQx",
        "colab_type": "code",
        "colab": {
          "base_uri": "https://localhost:8080/",
          "height": 71
        },
        "outputId": "bf467f09-cee3-450a-f1c8-783da57bdd07"
      },
      "source": [
        "print (\"Row axis labels and column axis labels are:\")\n",
        "print (df.axes)"
      ],
      "execution_count": 86,
      "outputs": [
        {
          "output_type": "stream",
          "text": [
            "Row axis labels and column axis labels are:\n",
            "[RangeIndex(start=0, stop=7, step=1), Index(['Name', 'Age', 'Rating'], dtype='object')]\n"
          ],
          "name": "stdout"
        }
      ]
    },
    {
      "cell_type": "code",
      "metadata": {
        "id": "B-yfjNAQBlOo",
        "colab_type": "code",
        "colab": {
          "base_uri": "https://localhost:8080/",
          "height": 102
        },
        "outputId": "6e618e31-7d53-4509-acff-c7258161ac46"
      },
      "source": [
        "print (\"The data types of each column are:\")\n",
        "print (df.dtypes)"
      ],
      "execution_count": 87,
      "outputs": [
        {
          "output_type": "stream",
          "text": [
            "The data types of each column are:\n",
            "Name       object\n",
            "Age         int64\n",
            "Rating    float64\n",
            "dtype: object\n"
          ],
          "name": "stdout"
        }
      ]
    },
    {
      "cell_type": "code",
      "metadata": {
        "id": "MzdZqMyWCMn_",
        "colab_type": "code",
        "colab": {
          "base_uri": "https://localhost:8080/",
          "height": 51
        },
        "outputId": "1a145c0c-584a-4fd6-b3fd-f52f367e5b05"
      },
      "source": [
        "print (\"Is the object empty?\")\n",
        "print (df.empty)"
      ],
      "execution_count": 88,
      "outputs": [
        {
          "output_type": "stream",
          "text": [
            "Is the object empty?\n",
            "False\n"
          ],
          "name": "stdout"
        }
      ]
    },
    {
      "cell_type": "code",
      "metadata": {
        "id": "l8AWjBUGCSDr",
        "colab_type": "code",
        "colab": {
          "base_uri": "https://localhost:8080/",
          "height": 51
        },
        "outputId": "b0531e6e-4ab7-4bf8-aebe-70fcbaf807e2"
      },
      "source": [
        "print (\"The dimension of the object is:\")\n",
        "print (df.ndim)"
      ],
      "execution_count": 89,
      "outputs": [
        {
          "output_type": "stream",
          "text": [
            "The dimension of the object is:\n",
            "2\n"
          ],
          "name": "stdout"
        }
      ]
    },
    {
      "cell_type": "code",
      "metadata": {
        "id": "Rnm2WpkKCVtJ",
        "colab_type": "code",
        "colab": {
          "base_uri": "https://localhost:8080/",
          "height": 51
        },
        "outputId": "624b2f9b-7d7b-4b34-c56b-811493b26ee9"
      },
      "source": [
        "print (\"The shape of the object is:\")\n",
        "print (df.shape)"
      ],
      "execution_count": 90,
      "outputs": [
        {
          "output_type": "stream",
          "text": [
            "The shape of the object is:\n",
            "(7, 3)\n"
          ],
          "name": "stdout"
        }
      ]
    },
    {
      "cell_type": "code",
      "metadata": {
        "id": "eeP_2t1ECZTd",
        "colab_type": "code",
        "colab": {
          "base_uri": "https://localhost:8080/",
          "height": 51
        },
        "outputId": "3277699e-9063-4209-a084-a19d0241ce47"
      },
      "source": [
        "print (\"The total number of elements in our object is:\")\n",
        "print (df.size)"
      ],
      "execution_count": 91,
      "outputs": [
        {
          "output_type": "stream",
          "text": [
            "The total number of elements in our object is:\n",
            "21\n"
          ],
          "name": "stdout"
        }
      ]
    },
    {
      "cell_type": "code",
      "metadata": {
        "id": "qFNxNO62Cd-s",
        "colab_type": "code",
        "colab": {
          "base_uri": "https://localhost:8080/",
          "height": 153
        },
        "outputId": "e7f6f6e6-1063-49a9-d11d-f6580925abaa"
      },
      "source": [
        "print (\"The actual data in our data frame is:\")\n",
        "print (df.values)"
      ],
      "execution_count": 92,
      "outputs": [
        {
          "output_type": "stream",
          "text": [
            "The actual data in our data frame is:\n",
            "[['Tom' 25 4.23]\n",
            " ['James' 26 3.24]\n",
            " ['Ricky' 25 3.98]\n",
            " ['Vin' 23 2.56]\n",
            " ['Steve' 30 3.2]\n",
            " ['Smith' 29 4.6]\n",
            " ['Jack' 23 3.8]]\n"
          ],
          "name": "stdout"
        }
      ]
    },
    {
      "cell_type": "code",
      "metadata": {
        "id": "q4sZ-G9VChb4",
        "colab_type": "code",
        "colab": {
          "base_uri": "https://localhost:8080/",
          "height": 85
        },
        "outputId": "e9e8e6e6-22b8-416c-c2e8-748aa4124eaf"
      },
      "source": [
        "print (\"The first two rows of the data frame is:\")\n",
        "print (df.head(2))"
      ],
      "execution_count": 93,
      "outputs": [
        {
          "output_type": "stream",
          "text": [
            "The first two rows of the data frame is:\n",
            "    Name  Age  Rating\n",
            "0    Tom   25    4.23\n",
            "1  James   26    3.24\n"
          ],
          "name": "stdout"
        }
      ]
    },
    {
      "cell_type": "code",
      "metadata": {
        "id": "m6jK85KICqHp",
        "colab_type": "code",
        "colab": {
          "base_uri": "https://localhost:8080/",
          "height": 85
        },
        "outputId": "284dc6bd-3a33-452b-e76c-c0b47b9c4c44"
      },
      "source": [
        "print (\"The last two rows of the data frame is:\")\n",
        "print (df.tail(2))"
      ],
      "execution_count": 94,
      "outputs": [
        {
          "output_type": "stream",
          "text": [
            "The last two rows of the data frame is:\n",
            "    Name  Age  Rating\n",
            "5  Smith   29     4.6\n",
            "6   Jack   23     3.8\n"
          ],
          "name": "stdout"
        }
      ]
    },
    {
      "cell_type": "markdown",
      "metadata": {
        "id": "r53CPnXrCyzM",
        "colab_type": "text"
      },
      "source": [
        "## Python Pandas - Descriptive Statistics\n"
      ]
    },
    {
      "cell_type": "code",
      "metadata": {
        "id": "hDdnrLISDTXu",
        "colab_type": "code",
        "colab": {
          "base_uri": "https://localhost:8080/",
          "height": 238
        },
        "outputId": "44b5fd96-300f-4902-c584-f706ff495582"
      },
      "source": [
        "import pandas as pd\n",
        "import numpy as np\n",
        "\n",
        "#Create a Dictionary of series\n",
        "d = {'Name':pd.Series(['Tom','James','Ricky','Vin','Steve','Smith','Jack',\n",
        "   'Lee','David','Gasper','Betina','Andres']),\n",
        "   'Age':pd.Series([25,26,25,23,30,29,23,34,40,30,51,46]),\n",
        "   'Rating':pd.Series([4.23,3.24,3.98,2.56,3.20,4.6,3.8,3.78,2.98,4.80,4.10,3.65])\n",
        "}\n",
        "\n",
        "#Create a DataFrame\n",
        "df = pd.DataFrame(d)\n",
        "print (df)"
      ],
      "execution_count": 95,
      "outputs": [
        {
          "output_type": "stream",
          "text": [
            "      Name  Age  Rating\n",
            "0      Tom   25    4.23\n",
            "1    James   26    3.24\n",
            "2    Ricky   25    3.98\n",
            "3      Vin   23    2.56\n",
            "4    Steve   30    3.20\n",
            "5    Smith   29    4.60\n",
            "6     Jack   23    3.80\n",
            "7      Lee   34    3.78\n",
            "8    David   40    2.98\n",
            "9   Gasper   30    4.80\n",
            "10  Betina   51    4.10\n",
            "11  Andres   46    3.65\n"
          ],
          "name": "stdout"
        }
      ]
    },
    {
      "cell_type": "code",
      "metadata": {
        "id": "M4U--nf8DVPs",
        "colab_type": "code",
        "colab": {
          "base_uri": "https://localhost:8080/",
          "height": 85
        },
        "outputId": "5e70eb53-ef06-4963-d828-3f83f4fc3602"
      },
      "source": [
        "print (df.sum())"
      ],
      "execution_count": 96,
      "outputs": [
        {
          "output_type": "stream",
          "text": [
            "Name      TomJamesRickyVinSteveSmithJackLeeDavidGasperBe...\n",
            "Age                                                     382\n",
            "Rating                                                44.92\n",
            "dtype: object\n"
          ],
          "name": "stdout"
        }
      ]
    },
    {
      "cell_type": "code",
      "metadata": {
        "id": "ApSawPM1DbT0",
        "colab_type": "code",
        "colab": {
          "base_uri": "https://localhost:8080/",
          "height": 85
        },
        "outputId": "814a515e-f8ac-4dc3-91b9-57776b38de4c"
      },
      "source": [
        "print (df.sum(1))"
      ],
      "execution_count": 99,
      "outputs": [
        {
          "output_type": "stream",
          "text": [
            "Name      TomJamesRickyVinSteveSmithJackLeeDavidGasperBe...\n",
            "Age                                                     382\n",
            "Rating                                                44.92\n",
            "dtype: object\n"
          ],
          "name": "stdout"
        }
      ]
    },
    {
      "cell_type": "code",
      "metadata": {
        "id": "lYFzzUBtDnu7",
        "colab_type": "code",
        "colab": {
          "base_uri": "https://localhost:8080/",
          "height": 68
        },
        "outputId": "7aecf75f-94f6-4bb4-a2d1-33174314cd08"
      },
      "source": [
        "print(df.mean())"
      ],
      "execution_count": 100,
      "outputs": [
        {
          "output_type": "stream",
          "text": [
            "Age       31.833333\n",
            "Rating     3.743333\n",
            "dtype: float64\n"
          ],
          "name": "stdout"
        }
      ]
    },
    {
      "cell_type": "code",
      "metadata": {
        "id": "HOtltoc9ER3G",
        "colab_type": "code",
        "colab": {
          "base_uri": "https://localhost:8080/",
          "height": 68
        },
        "outputId": "8a4a0b1a-1ac5-4f30-c5b2-230e52a473ce"
      },
      "source": [
        "print(df.std())"
      ],
      "execution_count": 102,
      "outputs": [
        {
          "output_type": "stream",
          "text": [
            "Age       9.232682\n",
            "Rating    0.661628\n",
            "dtype: float64\n"
          ],
          "name": "stdout"
        }
      ]
    },
    {
      "cell_type": "markdown",
      "metadata": {
        "id": "YXWfiIdREhom",
        "colab_type": "text"
      },
      "source": [
        "### Functions & Description\n",
        "1.\t**count()**\tNumber of non-null observations\n",
        "2.\t**sum()**\tSum of values\n",
        "3.\t**mean()**\tMean of Values\n",
        "4.\t**median()**\tMedian of Values\n",
        "5.\t**mode()**\tMode of values\n",
        "6.\t**std()**\tStandard Deviation of the Values\n",
        "7.\t**min()**\tMinimum Value\n",
        "8.\t**max()**\tMaximum Value\n",
        "9.\t**abs()**\tAbsolute Value\n",
        "10.\t**prod()**\tProduct of Values\n",
        "11.\t**cumsum()**\tCumulative Sum\n",
        "12.\t**cumprod()**\tCumulative Product"
      ]
    },
    {
      "cell_type": "code",
      "metadata": {
        "id": "SyzXwIu-E7Qf",
        "colab_type": "code",
        "colab": {
          "base_uri": "https://localhost:8080/",
          "height": 68
        },
        "outputId": "b1a80033-6df3-4035-bd7f-0822e3fa75d9"
      },
      "source": [
        "print(df.median())"
      ],
      "execution_count": 103,
      "outputs": [
        {
          "output_type": "stream",
          "text": [
            "Age       29.50\n",
            "Rating     3.79\n",
            "dtype: float64\n"
          ],
          "name": "stdout"
        }
      ]
    },
    {
      "cell_type": "code",
      "metadata": {
        "id": "fGGb2enZEYiO",
        "colab_type": "code",
        "colab": {
          "base_uri": "https://localhost:8080/",
          "height": 394
        },
        "outputId": "47186056-7643-4db0-bd8d-35b4187535d2"
      },
      "source": [
        "print(df.mode(1))"
      ],
      "execution_count": 108,
      "outputs": [
        {
          "output_type": "stream",
          "text": [
            "         0       1     2\n",
            "0      Tom      25  4.23\n",
            "1       26   James  3.24\n",
            "2    Ricky      25  3.98\n",
            "3     2.56      23   Vin\n",
            "4    Steve      30   3.2\n",
            "5       29   Smith   4.6\n",
            "6      3.8    Jack    23\n",
            "7      Lee      34  3.78\n",
            "8    David      40  2.98\n",
            "9   Gasper     4.8    30\n",
            "10     4.1  Betina    51\n",
            "11    3.65  Andres    46\n"
          ],
          "name": "stdout"
        },
        {
          "output_type": "stream",
          "text": [
            "/usr/local/lib/python3.6/dist-packages/pandas/core/algorithms.py:846: UserWarning: Unable to sort modes: '<' not supported between instances of 'int' and 'str'\n",
            "  warn(f\"Unable to sort modes: {err}\")\n",
            "/usr/local/lib/python3.6/dist-packages/pandas/core/algorithms.py:846: UserWarning: Unable to sort modes: '<' not supported between instances of 'str' and 'int'\n",
            "  warn(f\"Unable to sort modes: {err}\")\n",
            "/usr/local/lib/python3.6/dist-packages/pandas/core/algorithms.py:846: UserWarning: Unable to sort modes: '<' not supported between instances of 'str' and 'float'\n",
            "  warn(f\"Unable to sort modes: {err}\")\n",
            "/usr/local/lib/python3.6/dist-packages/pandas/core/algorithms.py:846: UserWarning: Unable to sort modes: '<' not supported between instances of 'float' and 'str'\n",
            "  warn(f\"Unable to sort modes: {err}\")\n"
          ],
          "name": "stderr"
        }
      ]
    },
    {
      "cell_type": "code",
      "metadata": {
        "id": "kGDnO0n3FBoe",
        "colab_type": "code",
        "colab": {
          "base_uri": "https://localhost:8080/",
          "height": 85
        },
        "outputId": "924ae54d-ece3-47b9-849f-bf7ecd96607c"
      },
      "source": [
        "print(df.min())"
      ],
      "execution_count": 109,
      "outputs": [
        {
          "output_type": "stream",
          "text": [
            "Name      Andres\n",
            "Age           23\n",
            "Rating      2.56\n",
            "dtype: object\n"
          ],
          "name": "stdout"
        }
      ]
    },
    {
      "cell_type": "code",
      "metadata": {
        "id": "_kSy68j-FYhH",
        "colab_type": "code",
        "colab": {
          "base_uri": "https://localhost:8080/",
          "height": 85
        },
        "outputId": "c1e75201-7bce-437c-8e37-d77da2f70e80"
      },
      "source": [
        "print(df.max())"
      ],
      "execution_count": 110,
      "outputs": [
        {
          "output_type": "stream",
          "text": [
            "Name      Vin\n",
            "Age        51\n",
            "Rating    4.8\n",
            "dtype: object\n"
          ],
          "name": "stdout"
        }
      ]
    },
    {
      "cell_type": "code",
      "metadata": {
        "id": "HIK0NNhYGCQM",
        "colab_type": "code",
        "colab": {
          "base_uri": "https://localhost:8080/",
          "height": 459
        },
        "outputId": "96179001-7944-4d2f-9db0-a273edbcfb50"
      },
      "source": [
        "print(df)\n",
        "print(df['Age'].abs())"
      ],
      "execution_count": 117,
      "outputs": [
        {
          "output_type": "stream",
          "text": [
            "      Name  Age  Rating\n",
            "0      Tom   25    4.23\n",
            "1    James   26    3.24\n",
            "2    Ricky   25    3.98\n",
            "3      Vin   23    2.56\n",
            "4    Steve   30    3.20\n",
            "5    Smith   29    4.60\n",
            "6     Jack   23    3.80\n",
            "7      Lee   34    3.78\n",
            "8    David   40    2.98\n",
            "9   Gasper   30    4.80\n",
            "10  Betina   51    4.10\n",
            "11  Andres   46    3.65\n",
            "0     25\n",
            "1     26\n",
            "2     25\n",
            "3     23\n",
            "4     30\n",
            "5     29\n",
            "6     23\n",
            "7     34\n",
            "8     40\n",
            "9     30\n",
            "10    51\n",
            "11    46\n",
            "Name: Age, dtype: int64\n"
          ],
          "name": "stdout"
        }
      ]
    },
    {
      "cell_type": "code",
      "metadata": {
        "id": "JiB49JNGGG09",
        "colab_type": "code",
        "colab": {
          "base_uri": "https://localhost:8080/",
          "height": 289
        },
        "outputId": "90b62e28-4f54-47c8-c55b-94629ccff026"
      },
      "source": [
        "print(df)\n",
        "print(df.prod(0))"
      ],
      "execution_count": 121,
      "outputs": [
        {
          "output_type": "stream",
          "text": [
            "      Name  Age  Rating\n",
            "0      Tom   25    4.23\n",
            "1    James   26    3.24\n",
            "2    Ricky   25    3.98\n",
            "3      Vin   23    2.56\n",
            "4    Steve   30    3.20\n",
            "5    Smith   29    4.60\n",
            "6     Jack   23    3.80\n",
            "7      Lee   34    3.78\n",
            "8    David   40    2.98\n",
            "9   Gasper   30    4.80\n",
            "10  Betina   51    4.10\n",
            "11  Andres   46    3.65\n",
            "Age       7.158408e+17\n",
            "Rating    6.320128e+06\n",
            "dtype: float64\n"
          ],
          "name": "stdout"
        }
      ]
    },
    {
      "cell_type": "code",
      "metadata": {
        "id": "Mohn_3q4GmzE",
        "colab_type": "code",
        "colab": {
          "base_uri": "https://localhost:8080/",
          "height": 238
        },
        "outputId": "0d4d07eb-3315-40b4-fdbc-ec9d22411fe3"
      },
      "source": [
        "df.prod(1)\n"
      ],
      "execution_count": 122,
      "outputs": [
        {
          "output_type": "execute_result",
          "data": {
            "text/plain": [
              "0     105.75\n",
              "1      84.24\n",
              "2      99.50\n",
              "3      58.88\n",
              "4      96.00\n",
              "5     133.40\n",
              "6      87.40\n",
              "7     128.52\n",
              "8     119.20\n",
              "9     144.00\n",
              "10    209.10\n",
              "11    167.90\n",
              "dtype: float64"
            ]
          },
          "metadata": {
            "tags": []
          },
          "execution_count": 122
        }
      ]
    },
    {
      "cell_type": "code",
      "metadata": {
        "id": "3iHNKw-zGvUO",
        "colab_type": "code",
        "colab": {
          "base_uri": "https://localhost:8080/",
          "height": 238
        },
        "outputId": "14a388fd-7c95-46e8-8f9c-dcff73eac5ca"
      },
      "source": [
        "print(df.cumsum())"
      ],
      "execution_count": 124,
      "outputs": [
        {
          "output_type": "stream",
          "text": [
            "0                                                   Tom\n",
            "1                                              TomJames\n",
            "2                                         TomJamesRicky\n",
            "3                                      TomJamesRickyVin\n",
            "4                                 TomJamesRickyVinSteve\n",
            "5                            TomJamesRickyVinSteveSmith\n",
            "6                        TomJamesRickyVinSteveSmithJack\n",
            "7                     TomJamesRickyVinSteveSmithJackLee\n",
            "8                TomJamesRickyVinSteveSmithJackLeeDavid\n",
            "9          TomJamesRickyVinSteveSmithJackLeeDavidGasper\n",
            "10    TomJamesRickyVinSteveSmithJackLeeDavidGasperBe...\n",
            "11    TomJamesRickyVinSteveSmithJackLeeDavidGasperBe...\n",
            "Name: Name, dtype: object\n"
          ],
          "name": "stdout"
        }
      ]
    },
    {
      "cell_type": "code",
      "metadata": {
        "id": "5tNbKNB2HCNv",
        "colab_type": "code",
        "colab": {
          "base_uri": "https://localhost:8080/",
          "height": 480
        },
        "outputId": "59f30896-acdc-4ef1-ca92-e00f1ff03c63"
      },
      "source": [
        "print(df.cumprod(1))"
      ],
      "execution_count": 127,
      "outputs": [
        {
          "output_type": "error",
          "ename": "TypeError",
          "evalue": "ignored",
          "traceback": [
            "\u001b[0;31m---------------------------------------------------------------------------\u001b[0m",
            "\u001b[0;31mTypeError\u001b[0m                                 Traceback (most recent call last)",
            "\u001b[0;32m/usr/local/lib/python3.6/dist-packages/numpy/core/fromnumeric.py\u001b[0m in \u001b[0;36m_wrapfunc\u001b[0;34m(obj, method, *args, **kwds)\u001b[0m\n\u001b[1;32m     60\u001b[0m     \u001b[0;32mtry\u001b[0m\u001b[0;34m:\u001b[0m\u001b[0;34m\u001b[0m\u001b[0;34m\u001b[0m\u001b[0m\n\u001b[0;32m---> 61\u001b[0;31m         \u001b[0;32mreturn\u001b[0m \u001b[0mbound\u001b[0m\u001b[0;34m(\u001b[0m\u001b[0;34m*\u001b[0m\u001b[0margs\u001b[0m\u001b[0;34m,\u001b[0m \u001b[0;34m**\u001b[0m\u001b[0mkwds\u001b[0m\u001b[0;34m)\u001b[0m\u001b[0;34m\u001b[0m\u001b[0;34m\u001b[0m\u001b[0m\n\u001b[0m\u001b[1;32m     62\u001b[0m     \u001b[0;32mexcept\u001b[0m \u001b[0mTypeError\u001b[0m\u001b[0;34m:\u001b[0m\u001b[0;34m\u001b[0m\u001b[0;34m\u001b[0m\u001b[0m\n",
            "\u001b[0;31mTypeError\u001b[0m: can't multiply sequence by non-int of type 'float'",
            "\nDuring handling of the above exception, another exception occurred:\n",
            "\u001b[0;31mTypeError\u001b[0m                                 Traceback (most recent call last)",
            "\u001b[0;32m<ipython-input-127-7422dfe54006>\u001b[0m in \u001b[0;36m<module>\u001b[0;34m()\u001b[0m\n\u001b[0;32m----> 1\u001b[0;31m \u001b[0mprint\u001b[0m\u001b[0;34m(\u001b[0m\u001b[0mdf\u001b[0m\u001b[0;34m.\u001b[0m\u001b[0mcumprod\u001b[0m\u001b[0;34m(\u001b[0m\u001b[0;36m1\u001b[0m\u001b[0;34m)\u001b[0m\u001b[0;34m)\u001b[0m\u001b[0;34m\u001b[0m\u001b[0;34m\u001b[0m\u001b[0m\n\u001b[0m",
            "\u001b[0;32m/usr/local/lib/python3.6/dist-packages/pandas/core/generic.py\u001b[0m in \u001b[0;36mcum_func\u001b[0;34m(self, axis, skipna, *args, **kwargs)\u001b[0m\n\u001b[1;32m  11271\u001b[0m \u001b[0;34m\u001b[0m\u001b[0m\n\u001b[1;32m  11272\u001b[0m         \u001b[0;32mif\u001b[0m \u001b[0maxis\u001b[0m \u001b[0;34m==\u001b[0m \u001b[0;36m1\u001b[0m\u001b[0;34m:\u001b[0m\u001b[0;34m\u001b[0m\u001b[0;34m\u001b[0m\u001b[0m\n\u001b[0;32m> 11273\u001b[0;31m             \u001b[0;32mreturn\u001b[0m \u001b[0mcum_func\u001b[0m\u001b[0;34m(\u001b[0m\u001b[0mself\u001b[0m\u001b[0;34m.\u001b[0m\u001b[0mT\u001b[0m\u001b[0;34m,\u001b[0m \u001b[0maxis\u001b[0m\u001b[0;34m=\u001b[0m\u001b[0;36m0\u001b[0m\u001b[0;34m,\u001b[0m \u001b[0mskipna\u001b[0m\u001b[0;34m=\u001b[0m\u001b[0mskipna\u001b[0m\u001b[0;34m,\u001b[0m \u001b[0;34m*\u001b[0m\u001b[0margs\u001b[0m\u001b[0;34m,\u001b[0m \u001b[0;34m**\u001b[0m\u001b[0mkwargs\u001b[0m\u001b[0;34m)\u001b[0m\u001b[0;34m.\u001b[0m\u001b[0mT\u001b[0m\u001b[0;34m\u001b[0m\u001b[0;34m\u001b[0m\u001b[0m\n\u001b[0m\u001b[1;32m  11274\u001b[0m \u001b[0;34m\u001b[0m\u001b[0m\n\u001b[1;32m  11275\u001b[0m         \u001b[0;32mdef\u001b[0m \u001b[0mna_accum_func\u001b[0m\u001b[0;34m(\u001b[0m\u001b[0mblk_values\u001b[0m\u001b[0;34m)\u001b[0m\u001b[0;34m:\u001b[0m\u001b[0;34m\u001b[0m\u001b[0;34m\u001b[0m\u001b[0m\n",
            "\u001b[0;32m/usr/local/lib/python3.6/dist-packages/pandas/core/generic.py\u001b[0m in \u001b[0;36mcum_func\u001b[0;34m(self, axis, skipna, *args, **kwargs)\u001b[0m\n\u001b[1;32m  11327\u001b[0m             \u001b[0;32mreturn\u001b[0m \u001b[0mresult\u001b[0m\u001b[0;34m.\u001b[0m\u001b[0mT\u001b[0m \u001b[0;32mif\u001b[0m \u001b[0mhasattr\u001b[0m\u001b[0;34m(\u001b[0m\u001b[0mresult\u001b[0m\u001b[0;34m,\u001b[0m \u001b[0;34m\"T\"\u001b[0m\u001b[0;34m)\u001b[0m \u001b[0;32melse\u001b[0m \u001b[0mresult\u001b[0m\u001b[0;34m\u001b[0m\u001b[0;34m\u001b[0m\u001b[0m\n\u001b[1;32m  11328\u001b[0m \u001b[0;34m\u001b[0m\u001b[0m\n\u001b[0;32m> 11329\u001b[0;31m         \u001b[0mresult\u001b[0m \u001b[0;34m=\u001b[0m \u001b[0mself\u001b[0m\u001b[0;34m.\u001b[0m\u001b[0m_data\u001b[0m\u001b[0;34m.\u001b[0m\u001b[0mapply\u001b[0m\u001b[0;34m(\u001b[0m\u001b[0mna_accum_func\u001b[0m\u001b[0;34m)\u001b[0m\u001b[0;34m\u001b[0m\u001b[0;34m\u001b[0m\u001b[0m\n\u001b[0m\u001b[1;32m  11330\u001b[0m \u001b[0;34m\u001b[0m\u001b[0m\n\u001b[1;32m  11331\u001b[0m         \u001b[0md\u001b[0m \u001b[0;34m=\u001b[0m \u001b[0mself\u001b[0m\u001b[0;34m.\u001b[0m\u001b[0m_construct_axes_dict\u001b[0m\u001b[0;34m(\u001b[0m\u001b[0;34m)\u001b[0m\u001b[0;34m\u001b[0m\u001b[0;34m\u001b[0m\u001b[0m\n",
            "\u001b[0;32m/usr/local/lib/python3.6/dist-packages/pandas/core/internals/managers.py\u001b[0m in \u001b[0;36mapply\u001b[0;34m(self, f, filter, **kwargs)\u001b[0m\n\u001b[1;32m    438\u001b[0m \u001b[0;34m\u001b[0m\u001b[0m\n\u001b[1;32m    439\u001b[0m             \u001b[0;32mif\u001b[0m \u001b[0mcallable\u001b[0m\u001b[0;34m(\u001b[0m\u001b[0mf\u001b[0m\u001b[0;34m)\u001b[0m\u001b[0;34m:\u001b[0m\u001b[0;34m\u001b[0m\u001b[0;34m\u001b[0m\u001b[0m\n\u001b[0;32m--> 440\u001b[0;31m                 \u001b[0mapplied\u001b[0m \u001b[0;34m=\u001b[0m \u001b[0mb\u001b[0m\u001b[0;34m.\u001b[0m\u001b[0mapply\u001b[0m\u001b[0;34m(\u001b[0m\u001b[0mf\u001b[0m\u001b[0;34m,\u001b[0m \u001b[0;34m**\u001b[0m\u001b[0mkwargs\u001b[0m\u001b[0;34m)\u001b[0m\u001b[0;34m\u001b[0m\u001b[0;34m\u001b[0m\u001b[0m\n\u001b[0m\u001b[1;32m    441\u001b[0m             \u001b[0;32melse\u001b[0m\u001b[0;34m:\u001b[0m\u001b[0;34m\u001b[0m\u001b[0;34m\u001b[0m\u001b[0m\n\u001b[1;32m    442\u001b[0m                 \u001b[0mapplied\u001b[0m \u001b[0;34m=\u001b[0m \u001b[0mgetattr\u001b[0m\u001b[0;34m(\u001b[0m\u001b[0mb\u001b[0m\u001b[0;34m,\u001b[0m \u001b[0mf\u001b[0m\u001b[0;34m)\u001b[0m\u001b[0;34m(\u001b[0m\u001b[0;34m**\u001b[0m\u001b[0mkwargs\u001b[0m\u001b[0;34m)\u001b[0m\u001b[0;34m\u001b[0m\u001b[0;34m\u001b[0m\u001b[0m\n",
            "\u001b[0;32m/usr/local/lib/python3.6/dist-packages/pandas/core/internals/blocks.py\u001b[0m in \u001b[0;36mapply\u001b[0;34m(self, func, **kwargs)\u001b[0m\n\u001b[1;32m    388\u001b[0m         \"\"\"\n\u001b[1;32m    389\u001b[0m         \u001b[0;32mwith\u001b[0m \u001b[0mnp\u001b[0m\u001b[0;34m.\u001b[0m\u001b[0merrstate\u001b[0m\u001b[0;34m(\u001b[0m\u001b[0mall\u001b[0m\u001b[0;34m=\u001b[0m\u001b[0;34m\"ignore\"\u001b[0m\u001b[0;34m)\u001b[0m\u001b[0;34m:\u001b[0m\u001b[0;34m\u001b[0m\u001b[0;34m\u001b[0m\u001b[0m\n\u001b[0;32m--> 390\u001b[0;31m             \u001b[0mresult\u001b[0m \u001b[0;34m=\u001b[0m \u001b[0mfunc\u001b[0m\u001b[0;34m(\u001b[0m\u001b[0mself\u001b[0m\u001b[0;34m.\u001b[0m\u001b[0mvalues\u001b[0m\u001b[0;34m,\u001b[0m \u001b[0;34m**\u001b[0m\u001b[0mkwargs\u001b[0m\u001b[0;34m)\u001b[0m\u001b[0;34m\u001b[0m\u001b[0;34m\u001b[0m\u001b[0m\n\u001b[0m\u001b[1;32m    391\u001b[0m \u001b[0;34m\u001b[0m\u001b[0m\n\u001b[1;32m    392\u001b[0m         \u001b[0;32mif\u001b[0m \u001b[0mis_extension_array_dtype\u001b[0m\u001b[0;34m(\u001b[0m\u001b[0mresult\u001b[0m\u001b[0;34m)\u001b[0m \u001b[0;32mand\u001b[0m \u001b[0mresult\u001b[0m\u001b[0;34m.\u001b[0m\u001b[0mndim\u001b[0m \u001b[0;34m>\u001b[0m \u001b[0;36m1\u001b[0m\u001b[0;34m:\u001b[0m\u001b[0;34m\u001b[0m\u001b[0;34m\u001b[0m\u001b[0m\n",
            "\u001b[0;32m/usr/local/lib/python3.6/dist-packages/pandas/core/generic.py\u001b[0m in \u001b[0;36mna_accum_func\u001b[0;34m(blk_values)\u001b[0m\n\u001b[1;32m  11319\u001b[0m                 \u001b[0mmask\u001b[0m \u001b[0;34m=\u001b[0m \u001b[0misna\u001b[0m\u001b[0;34m(\u001b[0m\u001b[0mvals\u001b[0m\u001b[0;34m)\u001b[0m\u001b[0;34m\u001b[0m\u001b[0;34m\u001b[0m\u001b[0m\n\u001b[1;32m  11320\u001b[0m                 \u001b[0mnp\u001b[0m\u001b[0;34m.\u001b[0m\u001b[0mputmask\u001b[0m\u001b[0;34m(\u001b[0m\u001b[0mvals\u001b[0m\u001b[0;34m,\u001b[0m \u001b[0mmask\u001b[0m\u001b[0;34m,\u001b[0m \u001b[0mmask_a\u001b[0m\u001b[0;34m)\u001b[0m\u001b[0;34m\u001b[0m\u001b[0;34m\u001b[0m\u001b[0m\n\u001b[0;32m> 11321\u001b[0;31m                 \u001b[0mresult\u001b[0m \u001b[0;34m=\u001b[0m \u001b[0maccum_func\u001b[0m\u001b[0;34m(\u001b[0m\u001b[0mvals\u001b[0m\u001b[0;34m,\u001b[0m \u001b[0maxis\u001b[0m\u001b[0;34m)\u001b[0m\u001b[0;34m\u001b[0m\u001b[0;34m\u001b[0m\u001b[0m\n\u001b[0m\u001b[1;32m  11322\u001b[0m                 \u001b[0mnp\u001b[0m\u001b[0;34m.\u001b[0m\u001b[0mputmask\u001b[0m\u001b[0;34m(\u001b[0m\u001b[0mresult\u001b[0m\u001b[0;34m,\u001b[0m \u001b[0mmask\u001b[0m\u001b[0;34m,\u001b[0m \u001b[0mmask_b\u001b[0m\u001b[0;34m)\u001b[0m\u001b[0;34m\u001b[0m\u001b[0;34m\u001b[0m\u001b[0m\n\u001b[1;32m  11323\u001b[0m             \u001b[0;32melse\u001b[0m\u001b[0;34m:\u001b[0m\u001b[0;34m\u001b[0m\u001b[0;34m\u001b[0m\u001b[0m\n",
            "\u001b[0;32m<__array_function__ internals>\u001b[0m in \u001b[0;36mcumprod\u001b[0;34m(*args, **kwargs)\u001b[0m\n",
            "\u001b[0;32m/usr/local/lib/python3.6/dist-packages/numpy/core/fromnumeric.py\u001b[0m in \u001b[0;36mcumprod\u001b[0;34m(a, axis, dtype, out)\u001b[0m\n\u001b[1;32m   3028\u001b[0m \u001b[0;34m\u001b[0m\u001b[0m\n\u001b[1;32m   3029\u001b[0m     \"\"\"\n\u001b[0;32m-> 3030\u001b[0;31m     \u001b[0;32mreturn\u001b[0m \u001b[0m_wrapfunc\u001b[0m\u001b[0;34m(\u001b[0m\u001b[0ma\u001b[0m\u001b[0;34m,\u001b[0m \u001b[0;34m'cumprod'\u001b[0m\u001b[0;34m,\u001b[0m \u001b[0maxis\u001b[0m\u001b[0;34m=\u001b[0m\u001b[0maxis\u001b[0m\u001b[0;34m,\u001b[0m \u001b[0mdtype\u001b[0m\u001b[0;34m=\u001b[0m\u001b[0mdtype\u001b[0m\u001b[0;34m,\u001b[0m \u001b[0mout\u001b[0m\u001b[0;34m=\u001b[0m\u001b[0mout\u001b[0m\u001b[0;34m)\u001b[0m\u001b[0;34m\u001b[0m\u001b[0;34m\u001b[0m\u001b[0m\n\u001b[0m\u001b[1;32m   3031\u001b[0m \u001b[0;34m\u001b[0m\u001b[0m\n\u001b[1;32m   3032\u001b[0m \u001b[0;34m\u001b[0m\u001b[0m\n",
            "\u001b[0;32m/usr/local/lib/python3.6/dist-packages/numpy/core/fromnumeric.py\u001b[0m in \u001b[0;36m_wrapfunc\u001b[0;34m(obj, method, *args, **kwds)\u001b[0m\n\u001b[1;32m     68\u001b[0m         \u001b[0;31m# Call _wrapit from within the except clause to ensure a potential\u001b[0m\u001b[0;34m\u001b[0m\u001b[0;34m\u001b[0m\u001b[0;34m\u001b[0m\u001b[0m\n\u001b[1;32m     69\u001b[0m         \u001b[0;31m# exception has a traceback chain.\u001b[0m\u001b[0;34m\u001b[0m\u001b[0;34m\u001b[0m\u001b[0;34m\u001b[0m\u001b[0m\n\u001b[0;32m---> 70\u001b[0;31m         \u001b[0;32mreturn\u001b[0m \u001b[0m_wrapit\u001b[0m\u001b[0;34m(\u001b[0m\u001b[0mobj\u001b[0m\u001b[0;34m,\u001b[0m \u001b[0mmethod\u001b[0m\u001b[0;34m,\u001b[0m \u001b[0;34m*\u001b[0m\u001b[0margs\u001b[0m\u001b[0;34m,\u001b[0m \u001b[0;34m**\u001b[0m\u001b[0mkwds\u001b[0m\u001b[0;34m)\u001b[0m\u001b[0;34m\u001b[0m\u001b[0;34m\u001b[0m\u001b[0m\n\u001b[0m\u001b[1;32m     71\u001b[0m \u001b[0;34m\u001b[0m\u001b[0m\n\u001b[1;32m     72\u001b[0m \u001b[0;34m\u001b[0m\u001b[0m\n",
            "\u001b[0;32m/usr/local/lib/python3.6/dist-packages/numpy/core/fromnumeric.py\u001b[0m in \u001b[0;36m_wrapit\u001b[0;34m(obj, method, *args, **kwds)\u001b[0m\n\u001b[1;32m     45\u001b[0m     \u001b[0;32mexcept\u001b[0m \u001b[0mAttributeError\u001b[0m\u001b[0;34m:\u001b[0m\u001b[0;34m\u001b[0m\u001b[0;34m\u001b[0m\u001b[0m\n\u001b[1;32m     46\u001b[0m         \u001b[0mwrap\u001b[0m \u001b[0;34m=\u001b[0m \u001b[0;32mNone\u001b[0m\u001b[0;34m\u001b[0m\u001b[0;34m\u001b[0m\u001b[0m\n\u001b[0;32m---> 47\u001b[0;31m     \u001b[0mresult\u001b[0m \u001b[0;34m=\u001b[0m \u001b[0mgetattr\u001b[0m\u001b[0;34m(\u001b[0m\u001b[0masarray\u001b[0m\u001b[0;34m(\u001b[0m\u001b[0mobj\u001b[0m\u001b[0;34m)\u001b[0m\u001b[0;34m,\u001b[0m \u001b[0mmethod\u001b[0m\u001b[0;34m)\u001b[0m\u001b[0;34m(\u001b[0m\u001b[0;34m*\u001b[0m\u001b[0margs\u001b[0m\u001b[0;34m,\u001b[0m \u001b[0;34m**\u001b[0m\u001b[0mkwds\u001b[0m\u001b[0;34m)\u001b[0m\u001b[0;34m\u001b[0m\u001b[0;34m\u001b[0m\u001b[0m\n\u001b[0m\u001b[1;32m     48\u001b[0m     \u001b[0;32mif\u001b[0m \u001b[0mwrap\u001b[0m\u001b[0;34m:\u001b[0m\u001b[0;34m\u001b[0m\u001b[0;34m\u001b[0m\u001b[0m\n\u001b[1;32m     49\u001b[0m         \u001b[0;32mif\u001b[0m \u001b[0;32mnot\u001b[0m \u001b[0misinstance\u001b[0m\u001b[0;34m(\u001b[0m\u001b[0mresult\u001b[0m\u001b[0;34m,\u001b[0m \u001b[0mmu\u001b[0m\u001b[0;34m.\u001b[0m\u001b[0mndarray\u001b[0m\u001b[0;34m)\u001b[0m\u001b[0;34m:\u001b[0m\u001b[0;34m\u001b[0m\u001b[0;34m\u001b[0m\u001b[0m\n",
            "\u001b[0;31mTypeError\u001b[0m: can't multiply sequence by non-int of type 'float'"
          ]
        }
      ]
    },
    {
      "cell_type": "code",
      "metadata": {
        "id": "QvtHezIPHN6V",
        "colab_type": "code",
        "colab": {
          "base_uri": "https://localhost:8080/",
          "height": 207
        },
        "outputId": "f1463371-62e6-435a-b739-f3deeb2e87c0"
      },
      "source": [
        "#The describe() function computes a summary of statistics pertaining to the DataFrame columns.\n",
        "print (df.describe())"
      ],
      "execution_count": 128,
      "outputs": [
        {
          "output_type": "stream",
          "text": [
            "             Age     Rating\n",
            "count  12.000000  12.000000\n",
            "mean   31.833333   3.743333\n",
            "std     9.232682   0.661628\n",
            "min    23.000000   2.560000\n",
            "25%    25.000000   3.230000\n",
            "50%    29.500000   3.790000\n",
            "75%    35.500000   4.132500\n",
            "max    51.000000   4.800000ERROR! Session/line number was not unique in database. History logging moved to new session 70\n",
            "\n"
          ],
          "name": "stdout"
        }
      ]
    },
    {
      "cell_type": "markdown",
      "metadata": {
        "id": "Sm4ylHMRH8n8",
        "colab_type": "text"
      },
      "source": [
        "'**include**' is the argument which is used to pass necessary information regarding what columns need to be considered for summarizing. Takes the list of values; by default, 'number'.\n",
        "\n",
        "* **object** − Summarizes String columns\n",
        "* **number** − Summarizes Numeric columns\n",
        "* **all** − Summarizes all columns together (Should not pass it as a list value)"
      ]
    },
    {
      "cell_type": "code",
      "metadata": {
        "id": "3FP3ZNjkHjm0",
        "colab_type": "code",
        "colab": {
          "base_uri": "https://localhost:8080/",
          "height": 102
        },
        "outputId": "306aaf9b-77ea-4d89-94bb-7630a6e5c311"
      },
      "source": [
        "print (df.describe(include=['object']))"
      ],
      "execution_count": 129,
      "outputs": [
        {
          "output_type": "stream",
          "text": [
            "          Name\n",
            "count       12\n",
            "unique      12\n",
            "top     Betina\n",
            "freq         1\n"
          ],
          "name": "stdout"
        }
      ]
    },
    {
      "cell_type": "code",
      "metadata": {
        "id": "IVvBCNs5H3yS",
        "colab_type": "code",
        "colab": {
          "base_uri": "https://localhost:8080/",
          "height": 170
        },
        "outputId": "8886a87a-5cc2-440f-c6c7-fc68b64da111"
      },
      "source": [
        "print (df.describe(include=['number']))"
      ],
      "execution_count": 130,
      "outputs": [
        {
          "output_type": "stream",
          "text": [
            "             Age     Rating\n",
            "count  12.000000  12.000000\n",
            "mean   31.833333   3.743333\n",
            "std     9.232682   0.661628\n",
            "min    23.000000   2.560000\n",
            "25%    25.000000   3.230000\n",
            "50%    29.500000   3.790000\n",
            "75%    35.500000   4.132500\n",
            "max    51.000000   4.800000\n"
          ],
          "name": "stdout"
        }
      ]
    },
    {
      "cell_type": "code",
      "metadata": {
        "id": "0i2WIKkVIJxp",
        "colab_type": "code",
        "colab": {
          "base_uri": "https://localhost:8080/",
          "height": 258
        },
        "outputId": "3f827c85-4ae2-45ac-8bf5-171a99f9ad3f"
      },
      "source": [
        "print( df. describe(include='all'))"
      ],
      "execution_count": 132,
      "outputs": [
        {
          "output_type": "stream",
          "text": [
            "          Name        Age     Rating\n",
            "count       12  12.000000  12.000000\n",
            "unique      12        NaN        NaN\n",
            "top     Betina        NaN        NaN\n",
            "freq         1        NaN        NaN\n",
            "mean       NaN  31.833333   3.743333\n",
            "std        NaN   9.232682   0.661628\n",
            "min        NaN  23.000000   2.560000\n",
            "25%        NaN  25.000000   3.230000\n",
            "50%        NaN  29.500000   3.790000\n",
            "75%        NaN  35.500000   4.132500\n",
            "max        NaN  51.000000   4.800000ERROR! Session/line number was not unique in \n",
            "database. History logging moved to new session 71\n"
          ],
          "name": "stdout"
        }
      ]
    },
    {
      "cell_type": "markdown",
      "metadata": {
        "id": "BIfruXJRIlTn",
        "colab_type": "text"
      },
      "source": [
        "## Python Pandas - Function Application\n",
        "### Table-wise Function Application\n",
        "Custom operations can be performed by passing the function and the appropriate number of parameters as pipe arguments. Thus, operation is performed on the whole DataFrame."
      ]
    },
    {
      "cell_type": "code",
      "metadata": {
        "id": "LjJi4wlEIR_V",
        "colab_type": "code",
        "colab": {
          "base_uri": "https://localhost:8080/",
          "height": 306
        },
        "outputId": "31f684be-fa4b-4db8-e892-7354d4688210"
      },
      "source": [
        "#add a value 2 to all the elements in the DataFrame. \n",
        "def adder(ele1,ele2):\n",
        "   return ele1+ele2\n",
        "\n",
        "df = pd.DataFrame(np.random.randn(5,3),columns=['col1','col2','col3'])\n",
        "print(df)\n",
        "df.pipe(adder,2)"
      ],
      "execution_count": 135,
      "outputs": [
        {
          "output_type": "stream",
          "text": [
            "       col1      col2      col3\n",
            "0  0.226112 -1.423485  0.624486\n",
            "1 -0.041094 -0.884233 -0.013829\n",
            "2  0.862342  1.874028 -0.391475\n",
            "3 -0.224805  0.159891  0.435118\n",
            "4  1.899470  1.231557 -0.226564\n"
          ],
          "name": "stdout"
        },
        {
          "output_type": "execute_result",
          "data": {
            "text/html": [
              "<div>\n",
              "<style scoped>\n",
              "    .dataframe tbody tr th:only-of-type {\n",
              "        vertical-align: middle;\n",
              "    }\n",
              "\n",
              "    .dataframe tbody tr th {\n",
              "        vertical-align: top;\n",
              "    }\n",
              "\n",
              "    .dataframe thead th {\n",
              "        text-align: right;\n",
              "    }\n",
              "</style>\n",
              "<table border=\"1\" class=\"dataframe\">\n",
              "  <thead>\n",
              "    <tr style=\"text-align: right;\">\n",
              "      <th></th>\n",
              "      <th>col1</th>\n",
              "      <th>col2</th>\n",
              "      <th>col3</th>\n",
              "    </tr>\n",
              "  </thead>\n",
              "  <tbody>\n",
              "    <tr>\n",
              "      <th>0</th>\n",
              "      <td>2.226112</td>\n",
              "      <td>0.576515</td>\n",
              "      <td>2.624486</td>\n",
              "    </tr>\n",
              "    <tr>\n",
              "      <th>1</th>\n",
              "      <td>1.958906</td>\n",
              "      <td>1.115767</td>\n",
              "      <td>1.986171</td>\n",
              "    </tr>\n",
              "    <tr>\n",
              "      <th>2</th>\n",
              "      <td>2.862342</td>\n",
              "      <td>3.874028</td>\n",
              "      <td>1.608525</td>\n",
              "    </tr>\n",
              "    <tr>\n",
              "      <th>3</th>\n",
              "      <td>1.775195</td>\n",
              "      <td>2.159891</td>\n",
              "      <td>2.435118</td>\n",
              "    </tr>\n",
              "    <tr>\n",
              "      <th>4</th>\n",
              "      <td>3.899470</td>\n",
              "      <td>3.231557</td>\n",
              "      <td>1.773436</td>\n",
              "    </tr>\n",
              "  </tbody>\n",
              "</table>\n",
              "</div>"
            ],
            "text/plain": [
              "       col1      col2      col3\n",
              "0  2.226112  0.576515  2.624486\n",
              "1  1.958906  1.115767  1.986171\n",
              "2  2.862342  3.874028  1.608525\n",
              "3  1.775195  2.159891  2.435118\n",
              "4  3.899470  3.231557  1.773436"
            ]
          },
          "metadata": {
            "tags": []
          },
          "execution_count": 135
        }
      ]
    },
    {
      "cell_type": "code",
      "metadata": {
        "id": "VbAQ1eG9JJIA",
        "colab_type": "code",
        "colab": {
          "base_uri": "https://localhost:8080/",
          "height": 85
        },
        "outputId": "b23c3c41-190e-4fde-b610-0676ba2803f1"
      },
      "source": [
        "df.pipe(adder,2)\n",
        "print (df.apply(np.mean))"
      ],
      "execution_count": 136,
      "outputs": [
        {
          "output_type": "stream",
          "text": [
            "col1    0.544405\n",
            "col2    0.191551\n",
            "col3    0.085547\n",
            "dtype: float64\n"
          ],
          "name": "stdout"
        }
      ]
    },
    {
      "cell_type": "markdown",
      "metadata": {
        "id": "zRUHBvlXJ7OJ",
        "colab_type": "text"
      },
      "source": [
        "### Row or Column Wise Function Application"
      ]
    },
    {
      "cell_type": "code",
      "metadata": {
        "id": "x3pwLMAVJv2e",
        "colab_type": "code",
        "colab": {
          "base_uri": "https://localhost:8080/",
          "height": 153
        },
        "outputId": "f6f6736e-3b3a-4769-d4cd-566c2b24fa30"
      },
      "source": [
        "print(df.apply(np.mean))\n",
        "print (df.apply(np.mean))"
      ],
      "execution_count": 143,
      "outputs": [
        {
          "output_type": "stream",
          "text": [
            "col1    0.544405\n",
            "col2    0.191551\n",
            "col3    0.085547\n",
            "dtype: float64\n",
            "col1    0.544405\n",
            "col2    0.191551\n",
            "col3    0.085547\n",
            "dtype: float64\n"
          ],
          "name": "stdout"
        }
      ]
    },
    {
      "cell_type": "code",
      "metadata": {
        "id": "6X59NcjiMiF9",
        "colab_type": "code",
        "colab": {
          "base_uri": "https://localhost:8080/",
          "height": 153
        },
        "outputId": "368827ac-3eda-42b6-9397-9cf2b74f54e5"
      },
      "source": [
        "print(df.apply(np.mean,axis=0))\n",
        "print (df.apply(np.mean))"
      ],
      "execution_count": 142,
      "outputs": [
        {
          "output_type": "stream",
          "text": [
            "col1    0.544405\n",
            "col2    0.191551\n",
            "col3    0.085547\n",
            "dtype: float64\n",
            "col1    0.544405\n",
            "col2    0.191551\n",
            "col3    0.085547\n",
            "dtype: float64\n"
          ],
          "name": "stdout"
        }
      ]
    },
    {
      "cell_type": "code",
      "metadata": {
        "id": "0OApjda4MrVQ",
        "colab_type": "code",
        "colab": {
          "base_uri": "https://localhost:8080/",
          "height": 153
        },
        "outputId": "a616b24f-c2b5-4b39-ca64-e0de2a7bdd1d"
      },
      "source": [
        "print(df.apply(lambda x: x.max() - x.min()))\n",
        "print (df.apply(np.mean))"
      ],
      "execution_count": 141,
      "outputs": [
        {
          "output_type": "stream",
          "text": [
            "col1    2.124275\n",
            "col2    3.297513\n",
            "col3    1.015961\n",
            "dtype: float64\n",
            "col1    0.544405\n",
            "col2    0.191551\n",
            "col3    0.085547\n",
            "dtype: float64\n"
          ],
          "name": "stdout"
        }
      ]
    },
    {
      "cell_type": "markdown",
      "metadata": {
        "id": "OD3uavWkNMtY",
        "colab_type": "text"
      },
      "source": [
        "### Element Wise Function Application\n"
      ]
    },
    {
      "cell_type": "code",
      "metadata": {
        "id": "9xrT8TzVM2-G",
        "colab_type": "code",
        "colab": {
          "base_uri": "https://localhost:8080/",
          "height": 289
        },
        "outputId": "6052c1aa-ee92-4449-c206-c0396f29d33b"
      },
      "source": [
        "# My custom function\n",
        "print(df['col1'])\n",
        "print(df['col1'].map(lambda x:x*100))\n",
        "print (df.apply(np.mean))"
      ],
      "execution_count": 146,
      "outputs": [
        {
          "output_type": "stream",
          "text": [
            "0    0.226112\n",
            "1   -0.041094\n",
            "2    0.862342\n",
            "3   -0.224805\n",
            "4    1.899470\n",
            "Name: col1, dtype: float64\n",
            "0     22.611243\n",
            "1     -4.109373\n",
            "2     86.234156\n",
            "3    -22.480520\n",
            "4    189.947019\n",
            "Name: col1, dtype: float64\n",
            "col1    0.544405\n",
            "col2    0.191551\n",
            "col3    0.085547\n",
            "dtype: float64\n"
          ],
          "name": "stdout"
        }
      ]
    },
    {
      "cell_type": "code",
      "metadata": {
        "id": "pL9ERdVaNuYB",
        "colab_type": "code",
        "colab": {
          "base_uri": "https://localhost:8080/",
          "height": 187
        },
        "outputId": "1d2fa695-e0cc-40a7-bde6-bdd828fc56ab"
      },
      "source": [
        "print(df.applymap(lambda x:x*100))\n",
        "print (df.apply(np.mean))"
      ],
      "execution_count": 148,
      "outputs": [
        {
          "output_type": "stream",
          "text": [
            "         col1        col2       col3\n",
            "0   22.611243 -142.348512  62.448606\n",
            "1   -4.109373  -88.423290  -1.382885\n",
            "2   86.234156  187.402810 -39.147543\n",
            "3  -22.480520   15.989051  43.511774\n",
            "4  189.947019  123.155657 -22.656400\n",
            "col1    0.544405\n",
            "col2    0.191551\n",
            "col3    0.085547\n",
            "dtype: float64\n"
          ],
          "name": "stdout"
        }
      ]
    },
    {
      "cell_type": "markdown",
      "metadata": {
        "id": "tVFudg4VOe5Z",
        "colab_type": "text"
      },
      "source": [
        "## Python Pandas - Reindexing\n",
        "Reindexing changes the row labels and column labels of a DataFrame. "
      ]
    },
    {
      "cell_type": "code",
      "metadata": {
        "id": "O67ijQdtegJl",
        "colab_type": "code",
        "colab": {
          "base_uri": "https://localhost:8080/",
          "height": 442
        },
        "outputId": "226653e1-d9f5-4f86-9828-c0540dcf7e76"
      },
      "source": [
        "import pandas as pd\n",
        "import numpy as np\n",
        "\n",
        "N=20\n",
        "\n",
        "df = pd.DataFrame({\n",
        "   'A': pd.date_range(start='2016-01-01',periods=N,freq='D'),\n",
        "   'x': np.linspace(0,stop=N-1,num=N),\n",
        "   'y': np.random.rand(N),\n",
        "   'C': np.random.choice(['Low','Medium','High'],N).tolist(),\n",
        "   'D': np.random.normal(100, 10, size=(N)).tolist()\n",
        "})\n",
        "\n",
        "print(df)\n",
        "#reindex the DataFrame\n",
        "df_reindexed = df.reindex(index=[0,2,4], columns=['A', 'C', 'D'])\n",
        "\n",
        "print( df_reindexed)"
      ],
      "execution_count": 4,
      "outputs": [
        {
          "output_type": "stream",
          "text": [
            "            A     x         y       C           D\n",
            "0  2016-01-01   0.0  0.150771     Low  123.087393\n",
            "1  2016-01-02   1.0  0.939073  Medium   89.830870\n",
            "2  2016-01-03   2.0  0.438859  Medium  100.678094\n",
            "3  2016-01-04   3.0  0.843732    High   97.138937\n",
            "4  2016-01-05   4.0  0.636331     Low   97.135514\n",
            "5  2016-01-06   5.0  0.006361    High  110.464640\n",
            "6  2016-01-07   6.0  0.680660     Low  101.795384\n",
            "7  2016-01-08   7.0  0.023804     Low  106.345138\n",
            "8  2016-01-09   8.0  0.527520  Medium  100.251137\n",
            "9  2016-01-10   9.0  0.077870     Low  113.821712\n",
            "10 2016-01-11  10.0  0.147339    High   96.148071\n",
            "11 2016-01-12  11.0  0.210849  Medium  111.055961\n",
            "12 2016-01-13  12.0  0.822097  Medium   97.184068\n",
            "13 2016-01-14  13.0  0.060958     Low   96.628082\n",
            "14 2016-01-15  14.0  0.540835  Medium   83.808239\n",
            "15 2016-01-16  15.0  0.573662  Medium   86.161629\n",
            "16 2016-01-17  16.0  0.803830    High   88.134511\n",
            "17 2016-01-18  17.0  0.348288  Medium   97.755393\n",
            "18 2016-01-19  18.0  0.061286    High   96.835252\n",
            "19 2016-01-20  19.0  0.850612  Medium   91.760744\n",
            "           A       C           D\n",
            "0 2016-01-01     Low  123.087393\n",
            "2 2016-01-03  Medium  100.678094\n",
            "4 2016-01-05     Low   97.135514\n"
          ],
          "name": "stdout"
        }
      ]
    },
    {
      "cell_type": "code",
      "metadata": {
        "id": "KdBYOUZ0eqbs",
        "colab_type": "code",
        "colab": {
          "base_uri": "https://localhost:8080/",
          "height": 153
        },
        "outputId": "3e969a00-7e48-498b-de24-1c0269dae078"
      },
      "source": [
        "import pandas as pd\n",
        "import numpy as np\n",
        "\n",
        "df1 = pd.DataFrame(np.random.randn(10,3),columns=['col1','col2','col3'])\n",
        "df2 = pd.DataFrame(np.random.randn(7,3),columns=['col1','col2','col3'])\n",
        "\n",
        "df1 = df1.reindex_like(df2)\n",
        "print (df1)"
      ],
      "execution_count": 5,
      "outputs": [
        {
          "output_type": "stream",
          "text": [
            "       col1      col2      col3\n",
            "0  2.672726  0.924205 -0.785096\n",
            "1 -1.472226  0.205442  0.685392\n",
            "2 -1.903454 -0.736535  1.038072\n",
            "3 -0.342941 -0.070003 -1.212577\n",
            "4  2.418722  0.106859 -0.365743\n",
            "5  0.470687  0.770905 -0.438650\n",
            "6  0.089952 -1.315112  0.467611\n"
          ],
          "name": "stdout"
        }
      ]
    },
    {
      "cell_type": "code",
      "metadata": {
        "id": "H4itAWytfqHB",
        "colab_type": "code",
        "colab": {
          "base_uri": "https://localhost:8080/",
          "height": 272
        },
        "outputId": "2da69dc5-16ea-415c-abee-f787474d39a2"
      },
      "source": [
        "import pandas as pd\n",
        "import numpy as np\n",
        "\n",
        "df1 = pd.DataFrame(np.random.randn(6,3),columns=['col1','col2','col3'])\n",
        "df2 = pd.DataFrame(np.random.randn(2,3),columns=['col1','col2','col3'])\n",
        "\n",
        "# Padding NAN's\n",
        "print (df2.reindex_like(df1))\n",
        "\n",
        "# Now Fill the NAN's with preceding Values\n",
        "print (\"Data Frame with Forward Fill:\")\n",
        "print (df2.reindex_like(df1,method='ffill'))"
      ],
      "execution_count": 6,
      "outputs": [
        {
          "output_type": "stream",
          "text": [
            "       col1      col2      col3\n",
            "0  0.208705  0.559783  0.104621\n",
            "1  1.962928 -1.039741  0.348336\n",
            "2       NaN       NaN       NaN\n",
            "3       NaN       NaN       NaN\n",
            "4       NaN       NaN       NaN\n",
            "5       NaN       NaN       NaN\n",
            "Data Frame with Forward Fill:\n",
            "       col1      col2      col3\n",
            "0  0.208705  0.559783  0.104621\n",
            "1  1.962928 -1.039741  0.348336\n",
            "2  1.962928 -1.039741  0.348336\n",
            "3  1.962928 -1.039741  0.348336\n",
            "4  1.962928 -1.039741  0.348336\n",
            "5  1.962928 -1.039741  0.348336\n"
          ],
          "name": "stdout"
        }
      ]
    },
    {
      "cell_type": "code",
      "metadata": {
        "id": "OI41HU4Mf_L-",
        "colab_type": "code",
        "colab": {
          "base_uri": "https://localhost:8080/",
          "height": 272
        },
        "outputId": "9dea42a0-d778-44fe-8613-2c9201079caa"
      },
      "source": [
        "import pandas as pd\n",
        "import numpy as np\n",
        " \n",
        "df1 = pd.DataFrame(np.random.randn(6,3),columns=['col1','col2','col3'])\n",
        "df2 = pd.DataFrame(np.random.randn(2,3),columns=['col1','col2','col3'])\n",
        "\n",
        "# Padding NAN's\n",
        "print (df2.reindex_like(df1))\n",
        "\n",
        "# Now Fill the NAN's with preceding Values\n",
        "print (\"Data Frame with Forward Fill limiting to 1:\")\n",
        "print (df2.reindex_like(df1,method='ffill',limit=1))"
      ],
      "execution_count": 7,
      "outputs": [
        {
          "output_type": "stream",
          "text": [
            "       col1      col2      col3\n",
            "0 -0.583144  0.802433  2.213970\n",
            "1 -0.459285  0.188385 -2.452764\n",
            "2       NaN       NaN       NaN\n",
            "3       NaN       NaN       NaN\n",
            "4       NaN       NaN       NaN\n",
            "5       NaN       NaN       NaN\n",
            "Data Frame with Forward Fill limiting to 1:\n",
            "       col1      col2      col3\n",
            "0 -0.583144  0.802433  2.213970\n",
            "1 -0.459285  0.188385 -2.452764\n",
            "2 -0.459285  0.188385 -2.452764\n",
            "3       NaN       NaN       NaN\n",
            "4       NaN       NaN       NaN\n",
            "5       NaN       NaN       NaN\n"
          ],
          "name": "stdout"
        }
      ]
    },
    {
      "cell_type": "code",
      "metadata": {
        "id": "cvMrzO4kgOo_",
        "colab_type": "code",
        "colab": {
          "base_uri": "https://localhost:8080/",
          "height": 272
        },
        "outputId": "bb16dd3d-01c9-42a1-decc-3d77bf7b6d32"
      },
      "source": [
        "import pandas as pd\n",
        "import numpy as np\n",
        "\n",
        "df1 = pd.DataFrame(np.random.randn(6,3),columns=['col1','col2','col3'])\n",
        "print (df1)\n",
        "\n",
        "print (\"After renaming the rows and columns:\")\n",
        "print (df1.rename(columns={'col1' : 'c1', 'col2' : 'c2'},\n",
        "index = {0 : 'apple', 1 : 'banana', 2 : 'durian'}))"
      ],
      "execution_count": 8,
      "outputs": [
        {
          "output_type": "stream",
          "text": [
            "       col1      col2      col3\n",
            "0  0.208941  1.356587 -0.170012\n",
            "1 -0.157762 -0.890399 -1.195727\n",
            "2  0.187657  1.622212  1.794577\n",
            "3 -0.235196 -2.444616  1.153148\n",
            "4 -0.806245  0.486079  0.189120\n",
            "5  0.910469 -1.224506 -0.135558\n",
            "After renaming the rows and columns:\n",
            "              c1        c2      col3\n",
            "apple   0.208941  1.356587 -0.170012\n",
            "banana -0.157762 -0.890399 -1.195727\n",
            "durian  0.187657  1.622212  1.794577\n",
            "3      -0.235196 -2.444616  1.153148\n",
            "4      -0.806245  0.486079  0.189120\n",
            "5       0.910469 -1.224506 -0.135558\n"
          ],
          "name": "stdout"
        }
      ]
    },
    {
      "cell_type": "markdown",
      "metadata": {
        "id": "tZxU6_jEglsu",
        "colab_type": "text"
      },
      "source": [
        "## Python Pandas - Iteration"
      ]
    },
    {
      "cell_type": "code",
      "metadata": {
        "id": "dUs8eUH1gyFf",
        "colab_type": "code",
        "colab": {
          "base_uri": "https://localhost:8080/",
          "height": 102
        },
        "outputId": "855a7b53-3f9b-4594-d178-d67caa11d4d2"
      },
      "source": [
        "import pandas as pd\n",
        "import numpy as np\n",
        " \n",
        "N=20\n",
        "df = pd.DataFrame({\n",
        "   'A': pd.date_range(start='2016-01-01',periods=N,freq='D'),\n",
        "   'x': np.linspace(0,stop=N-1,num=N),\n",
        "   'y': np.random.rand(N),\n",
        "   'C': np.random.choice(['Low','Medium','High'],N).tolist(),\n",
        "   'D': np.random.normal(100, 10, size=(N)).tolist()\n",
        "   })\n",
        "\n",
        "for col in df:\n",
        "   print (col)"
      ],
      "execution_count": 9,
      "outputs": [
        {
          "output_type": "stream",
          "text": [
            "A\n",
            "x\n",
            "y\n",
            "C\n",
            "D\n"
          ],
          "name": "stdout"
        }
      ]
    },
    {
      "cell_type": "code",
      "metadata": {
        "id": "iPgif2Erg0Bd",
        "colab_type": "code",
        "colab": {
          "base_uri": "https://localhost:8080/",
          "height": 272
        },
        "outputId": "7885cbee-01d1-41df-a6fe-c0bc8404bb44"
      },
      "source": [
        "import pandas as pd\n",
        "import numpy as np\n",
        " \n",
        "df = pd.DataFrame(np.random.randn(4,3),columns=['col1','col2','col3'])\n",
        "for key,value in df.iteritems():\n",
        "   print (key,value)"
      ],
      "execution_count": 10,
      "outputs": [
        {
          "output_type": "stream",
          "text": [
            "col1 0    0.896333\n",
            "1   -0.036921\n",
            "2    0.915943\n",
            "3    0.315085\n",
            "Name: col1, dtype: float64\n",
            "col2 0    0.435344\n",
            "1    1.885005\n",
            "2   -1.722996\n",
            "3   -0.409514\n",
            "Name: col2, dtype: float64\n",
            "col3 0    1.433844\n",
            "1   -0.774650\n",
            "2   -1.531261\n",
            "3   -0.642967\n",
            "Name: col3, dtype: float64\n"
          ],
          "name": "stdout"
        }
      ]
    },
    {
      "cell_type": "code",
      "metadata": {
        "id": "86r80i6ig7oA",
        "colab_type": "code",
        "colab": {
          "base_uri": "https://localhost:8080/",
          "height": 289
        },
        "outputId": "839ad346-7e5e-48cb-8a54-650acfab0a3a"
      },
      "source": [
        "import pandas as pd\n",
        "import numpy as np\n",
        "\n",
        "df = pd.DataFrame(np.random.randn(4,3),columns = ['col1','col2','col3'])\n",
        "for row_index,row in df.iterrows():\n",
        "   print (row_index,row)"
      ],
      "execution_count": 11,
      "outputs": [
        {
          "output_type": "stream",
          "text": [
            "0 col1    0.992143\n",
            "col2    0.791813\n",
            "col3   -0.076184\n",
            "Name: 0, dtype: float64\n",
            "1 col1   -0.656419\n",
            "col2   -0.165850\n",
            "col3   -1.372502\n",
            "Name: 1, dtype: float64\n",
            "2 col1    0.081907\n",
            "col2    0.677195\n",
            "col3   -0.228873\n",
            "Name: 2, dtype: float64\n",
            "3 col1   -0.331195\n",
            "col2    1.072321\n",
            "col3    0.145961\n",
            "Name: 3, dtype: float64\n"
          ],
          "name": "stdout"
        }
      ]
    },
    {
      "cell_type": "code",
      "metadata": {
        "id": "IbYNqK4ZhOuP",
        "colab_type": "code",
        "colab": {
          "base_uri": "https://localhost:8080/",
          "height": 105
        },
        "outputId": "457c101a-f0b2-4e9e-dac4-358aa9e34823"
      },
      "source": [
        "import pandas as pd\n",
        "import numpy as np\n",
        "\n",
        "df = pd.DataFrame(np.random.randn(4,3),columns = ['col1','col2','col3'])\n",
        "for row in df.itertuples():\n",
        "    print (row)"
      ],
      "execution_count": 12,
      "outputs": [
        {
          "output_type": "stream",
          "text": [
            "Pandas(Index=0, col1=-0.4894135432445745, col2=-0.06273724385807866, col3=0.32943958166444937)\n",
            "Pandas(Index=1, col1=-0.6555120801613988, col2=-0.23119972534301275, col3=-0.571641901242691)\n",
            "Pandas(Index=2, col1=0.6566258878076404, col2=-2.2313438308420825, col3=-0.41397645296313346)\n",
            "Pandas(Index=3, col1=-0.492902350736651, col2=2.820777043559609, col3=2.4737333275194713)\n"
          ],
          "name": "stdout"
        }
      ]
    },
    {
      "cell_type": "code",
      "metadata": {
        "id": "ZRJ-_q12hUpN",
        "colab_type": "code",
        "colab": {
          "base_uri": "https://localhost:8080/",
          "height": 102
        },
        "outputId": "dd85ca00-a008-48d0-8a8e-e586e905f1fd"
      },
      "source": [
        "import pandas as pd\n",
        "import numpy as np\n",
        "\n",
        "df = pd.DataFrame(np.random.randn(4,3),columns = ['col1','col2','col3'])\n",
        "\n",
        "for index, row in df.iterrows():\n",
        "   row['a'] = 10\n",
        "print (df)"
      ],
      "execution_count": 13,
      "outputs": [
        {
          "output_type": "stream",
          "text": [
            "       col1      col2      col3\n",
            "0  0.522291  2.108534  0.215690\n",
            "1 -0.403050 -0.375791 -0.769073\n",
            "2  0.627789  0.735693  0.216440\n",
            "3 -0.106216 -1.375644  0.456307\n"
          ],
          "name": "stdout"
        }
      ]
    },
    {
      "cell_type": "markdown",
      "metadata": {
        "id": "xRhd8R4Chrev",
        "colab_type": "text"
      },
      "source": [
        "## Python Pandas - Sorting"
      ]
    },
    {
      "cell_type": "code",
      "metadata": {
        "id": "bMr3NsWrhwpS",
        "colab_type": "code",
        "colab": {
          "base_uri": "https://localhost:8080/",
          "height": 241
        },
        "outputId": "237e34eb-3977-4b1f-ddca-077fc74545eb"
      },
      "source": [
        "import pandas as pd\n",
        "import numpy as np\n",
        "\n",
        "unsorted_df=pd.DataFrame(np.random.randn(10,2),index=[1,4,6,2,3,5,9,8,0,7],columns=['col2','col1'])\n",
        "print (unsorted_df)"
      ],
      "execution_count": 14,
      "outputs": [
        {
          "output_type": "stream",
          "text": [
            "ERROR! Session/line number was not unique in database. History logging moved to new session 60\n",
            "       col2      col1\n",
            "1  1.065468 -1.348017\n",
            "4 -0.374011  0.377301\n",
            "6  0.289022 -0.681493\n",
            "2  0.368463  1.087000\n",
            "3 -1.611532 -0.492986\n",
            "5  0.246382 -1.422840\n",
            "9 -0.131962  1.182316\n",
            "8  0.142999  0.767016\n",
            "0  2.217176 -0.893923\n",
            "7  1.010927  0.969273\n"
          ],
          "name": "stdout"
        }
      ]
    },
    {
      "cell_type": "code",
      "metadata": {
        "id": "Uj3bF9TphxjV",
        "colab_type": "code",
        "colab": {
          "base_uri": "https://localhost:8080/",
          "height": 241
        },
        "outputId": "56e47a7a-7318-4662-8420-2eb6a22d7c1e"
      },
      "source": [
        "import pandas as pd\n",
        "import numpy as np\n",
        "\n",
        "unsorted_df = pd.DataFrame(np.random.randn(10,2),index=[1,4,6,2,3,5,9,8,0,7],columns = ['col2','col1'])\n",
        "\n",
        "sorted_df=unsorted_df.sort_index()\n",
        "print (sorted_df)"
      ],
      "execution_count": 15,
      "outputs": [
        {
          "output_type": "stream",
          "text": [
            "ERROR! Session/line number was not unique in database. History logging moved to new session 61\n",
            "       col2      col1\n",
            "0  0.575841  1.577283\n",
            "1  1.488000  0.369428\n",
            "2 -0.086844  1.611027\n",
            "3 -0.891990  0.461783\n",
            "4 -0.330047  0.892989\n",
            "5  0.410422  0.289371\n",
            "6  1.461096  0.864773\n",
            "7  0.635519  0.493854\n",
            "8 -0.292707  0.179052\n",
            "9  1.109642  1.624882\n"
          ],
          "name": "stdout"
        }
      ]
    },
    {
      "cell_type": "code",
      "metadata": {
        "id": "yQTNYAy-h_c-",
        "colab_type": "code",
        "colab": {
          "base_uri": "https://localhost:8080/",
          "height": 204
        },
        "outputId": "568b9649-4071-4096-b2a8-e365964cabc6"
      },
      "source": [
        "import pandas as pd\n",
        "import numpy as np\n",
        "\n",
        "unsorted_df = pd.DataFrame(np.random.randn(10,2),index=[1,4,6,2,3,5,9,8,0,7],columns = ['col2','col1'])\n",
        "\n",
        "sorted_df = unsorted_df.sort_index(ascending=False)\n",
        "print (sorted_df)"
      ],
      "execution_count": 16,
      "outputs": [
        {
          "output_type": "stream",
          "text": [
            "       col2      col1\n",
            "9  0.110776  0.511488\n",
            "8 -0.174287  1.059616\n",
            "7  0.457012  0.783820\n",
            "6 -0.469859 -1.255665\n",
            "5 -0.411706  0.733511\n",
            "4 -0.247830  1.339177\n",
            "3  1.526585  0.203259\n",
            "2 -0.556648 -1.062399\n",
            "1 -0.646098 -1.030005\n",
            "0  0.359739  1.351297\n"
          ],
          "name": "stdout"
        }
      ]
    },
    {
      "cell_type": "code",
      "metadata": {
        "id": "aOlj-xmDiIjC",
        "colab_type": "code",
        "colab": {
          "base_uri": "https://localhost:8080/",
          "height": 391
        },
        "outputId": "cb81e86f-66a0-417a-bcb4-cb33e0fdbe61"
      },
      "source": [
        "import pandas as pd\n",
        "import numpy as np\n",
        " \n",
        "unsorted_df = pd.DataFrame(np.random.randn(10,2),index=[1,4,6,2,3,5,9,8,0,7],columns = ['col2','col1'])\n",
        "print (unsorted_df)\n",
        "sorted_df=unsorted_df.sort_index(axis=1)\n",
        "\n",
        "print (sorted_df)"
      ],
      "execution_count": 18,
      "outputs": [
        {
          "output_type": "stream",
          "text": [
            "       col2      col1\n",
            "1  1.290017 -1.373659\n",
            "4 -1.551860 -0.003786\n",
            "6 -1.374856  0.405326\n",
            "2  0.878012 -1.949291\n",
            "3  0.101125 -1.728091\n",
            "5  0.534433 -0.584604\n",
            "9 -0.063045 -1.471844\n",
            "8  0.408603  0.537478\n",
            "0 -0.094549  1.527838\n",
            "7 -0.001657  0.407114\n",
            "       col1      col2\n",
            "1 -1.373659  1.290017\n",
            "4 -0.003786 -1.551860\n",
            "6  0.405326 -1.374856\n",
            "2 -1.949291  0.878012\n",
            "3 -1.728091  0.101125\n",
            "5 -0.584604  0.534433\n",
            "9 -1.471844 -0.063045\n",
            "8  0.537478  0.408603\n",
            "0  1.527838 -0.094549\n",
            "7  0.407114 -0.001657\n"
          ],
          "name": "stdout"
        }
      ]
    },
    {
      "cell_type": "code",
      "metadata": {
        "id": "oHuapZQ7nVCu",
        "colab_type": "code",
        "colab": {
          "base_uri": "https://localhost:8080/",
          "height": 139
        },
        "outputId": "8dfb719d-e119-420a-afa5-622d9c56e5eb"
      },
      "source": [
        "import pandas as pd\n",
        "import numpy as np\n",
        "\n",
        "unsorted_df = pd.DataFrame({'col1':[2,1,1,1],'col2':[1,3,2,4]})\n",
        "sorted_df = unsorted_df.sort_values(by='col1')\n",
        "\n",
        "print (sorted_df)"
      ],
      "execution_count": 19,
      "outputs": [
        {
          "output_type": "stream",
          "text": [
            "   col1  col2\n",
            "1     1     3\n",
            "2     1     2\n",
            "3     1     4\n",
            "0     2     1\n",
            "ERROR! Session/line number was not unique in database. History logging moved to new session 62\n"
          ],
          "name": "stdout"
        }
      ]
    },
    {
      "cell_type": "code",
      "metadata": {
        "id": "wmS0u-AgnkMu",
        "colab_type": "code",
        "colab": {
          "base_uri": "https://localhost:8080/",
          "height": 102
        },
        "outputId": "755ab496-cdde-4364-854a-cbda4d1f8ef9"
      },
      "source": [
        "import pandas as pd\n",
        "import numpy as np\n",
        "\n",
        "unsorted_df = pd.DataFrame({'col1':[2,1,1,1],'col2':[1,3,2,4]})\n",
        "sorted_df = unsorted_df.sort_values(by='col1' ,kind='mergesort')\n",
        "\n",
        "print (sorted_df)"
      ],
      "execution_count": 20,
      "outputs": [
        {
          "output_type": "stream",
          "text": [
            "   col1  col2\n",
            "1     1     3\n",
            "2     1     2\n",
            "3     1     4\n",
            "0     2     1\n"
          ],
          "name": "stdout"
        }
      ]
    },
    {
      "cell_type": "markdown",
      "metadata": {
        "id": "bqZLt0Arnz4D",
        "colab_type": "text"
      },
      "source": [
        "## Python Pandas - Working with Text Data\n"
      ]
    },
    {
      "cell_type": "code",
      "metadata": {
        "id": "Cg89dxqJoHT2",
        "colab_type": "code",
        "colab": {
          "base_uri": "https://localhost:8080/",
          "height": 153
        },
        "outputId": "50d165e3-d5ef-4216-e8a8-7e97d5454bd8"
      },
      "source": [
        "import pandas as pd\n",
        "import numpy as np\n",
        "\n",
        "s = pd.Series(['Tom', 'William Rick', 'John', 'Alber@t', np.nan, '1234','SteveSmith'])\n",
        "\n",
        "print (s)"
      ],
      "execution_count": 21,
      "outputs": [
        {
          "output_type": "stream",
          "text": [
            "0             Tom\n",
            "1    William Rick\n",
            "2            John\n",
            "3         Alber@t\n",
            "4             NaN\n",
            "5            1234\n",
            "6      SteveSmith\n",
            "dtype: object\n"
          ],
          "name": "stdout"
        }
      ]
    },
    {
      "cell_type": "code",
      "metadata": {
        "id": "U9w2Me8koIo1",
        "colab_type": "code",
        "colab": {
          "base_uri": "https://localhost:8080/",
          "height": 153
        },
        "outputId": "ce9e4213-cb3a-4ea1-f243-8051f2864e68"
      },
      "source": [
        "import pandas as pd\n",
        "import numpy as np\n",
        "\n",
        "s = pd.Series(['Tom', 'William Rick', 'John', 'Alber@t', np.nan, '1234','SteveSmith'])\n",
        "\n",
        "print (s.str.lower())"
      ],
      "execution_count": 22,
      "outputs": [
        {
          "output_type": "stream",
          "text": [
            "0             tom\n",
            "1    william rick\n",
            "2            john\n",
            "3         alber@t\n",
            "4             NaN\n",
            "5            1234\n",
            "6      stevesmith\n",
            "dtype: object\n"
          ],
          "name": "stdout"
        }
      ]
    },
    {
      "cell_type": "code",
      "metadata": {
        "id": "_4-PLhg9oRtT",
        "colab_type": "code",
        "colab": {
          "base_uri": "https://localhost:8080/",
          "height": 153
        },
        "outputId": "4cc465c3-e4de-49fb-93b0-8d1a5043eceb"
      },
      "source": [
        "import pandas as pd\n",
        "import numpy as np\n",
        "\n",
        "s = pd.Series(['Tom', 'William Rick', 'John', 'Alber@t', np.nan, '1234','SteveSmith'])\n",
        "\n",
        "print (s.str.upper())"
      ],
      "execution_count": 23,
      "outputs": [
        {
          "output_type": "stream",
          "text": [
            "0             TOM\n",
            "1    WILLIAM RICK\n",
            "2            JOHN\n",
            "3         ALBER@T\n",
            "4             NaN\n",
            "5            1234\n",
            "6      STEVESMITH\n",
            "dtype: object\n"
          ],
          "name": "stdout"
        }
      ]
    },
    {
      "cell_type": "code",
      "metadata": {
        "id": "VgHTtmkBoYfU",
        "colab_type": "code",
        "colab": {
          "base_uri": "https://localhost:8080/",
          "height": 153
        },
        "outputId": "6f967004-81ca-4d7d-f7b8-c301ef12c6d3"
      },
      "source": [
        "import pandas as pd\n",
        "import numpy as np\n",
        "\n",
        "s = pd.Series(['Tom', 'William Rick', 'John', 'Alber@t', np.nan, '1234','SteveSmith'])\n",
        "print (s.str.len())"
      ],
      "execution_count": 24,
      "outputs": [
        {
          "output_type": "stream",
          "text": [
            "0     3.0\n",
            "1    12.0\n",
            "2     4.0\n",
            "3     7.0\n",
            "4     NaN\n",
            "5     4.0\n",
            "6    10.0\n",
            "dtype: float64\n"
          ],
          "name": "stdout"
        }
      ]
    },
    {
      "cell_type": "code",
      "metadata": {
        "id": "N5EtiCkFoeCU",
        "colab_type": "code",
        "colab": {
          "base_uri": "https://localhost:8080/",
          "height": 241
        },
        "outputId": "a46fafd0-946d-49f4-ed64-b36528160275"
      },
      "source": [
        "import pandas as pd\n",
        "import numpy as np\n",
        "s = pd.Series(['Tom ', ' William Rick', 'John', 'Alber@t'])\n",
        "print (s)\n",
        "print (\"After Stripping:\")\n",
        "print (s.str.strip())"
      ],
      "execution_count": 25,
      "outputs": [
        {
          "output_type": "stream",
          "text": [
            "0             Tom \n",
            "1     William Rick\n",
            "2             John\n",
            "3          Alber@t\n",
            "dtype: object\n",
            "After Stripping:\n",
            "0             Tom\n",
            "1    William Rick\n",
            "2            John\n",
            "3         Alber@t\n",
            "dtype: object\n",
            "ERROR! Session/line number was not unique in database. History logging moved to new session 63\n"
          ],
          "name": "stdout"
        }
      ]
    },
    {
      "cell_type": "code",
      "metadata": {
        "id": "cf1O8jJFojcK",
        "colab_type": "code",
        "colab": {
          "base_uri": "https://localhost:8080/",
          "height": 204
        },
        "outputId": "61da3768-df66-475c-e6ba-bada3dadd106"
      },
      "source": [
        "import pandas as pd\n",
        "import numpy as np\n",
        "s = pd.Series(['Tom ', ' William Rick', 'John', 'Alber@t'])\n",
        "print (s)\n",
        "print (\"Split Pattern:\")\n",
        "print (s.str.split(' '))"
      ],
      "execution_count": 26,
      "outputs": [
        {
          "output_type": "stream",
          "text": [
            "0             Tom \n",
            "1     William Rick\n",
            "2             John\n",
            "3          Alber@t\n",
            "dtype: object\n",
            "Split Pattern:\n",
            "0              [Tom, ]\n",
            "1    [, William, Rick]\n",
            "2               [John]\n",
            "3            [Alber@t]\n",
            "dtype: object\n"
          ],
          "name": "stdout"
        }
      ]
    },
    {
      "cell_type": "code",
      "metadata": {
        "id": "l-wNbMY5otJI",
        "colab_type": "code",
        "colab": {
          "base_uri": "https://localhost:8080/",
          "height": 34
        },
        "outputId": "921f8ff1-c3a2-4ad2-f27f-0ccc1395a028"
      },
      "source": [
        "import pandas as pd\n",
        "import numpy as np\n",
        "\n",
        "s = pd.Series(['Tom ', ' William Rick', 'John', 'Alber@t'])\n",
        "\n",
        "print (s.str.cat(sep='_'))"
      ],
      "execution_count": 27,
      "outputs": [
        {
          "output_type": "stream",
          "text": [
            "Tom _ William Rick_John_Alber@t\n"
          ],
          "name": "stdout"
        }
      ]
    },
    {
      "cell_type": "code",
      "metadata": {
        "id": "hVanrRH0o7VJ",
        "colab_type": "code",
        "colab": {
          "base_uri": "https://localhost:8080/",
          "height": 102
        },
        "outputId": "4b174e18-81de-4000-fb02-73a1c92727fa"
      },
      "source": [
        "import pandas as pd\n",
        "import numpy as np\n",
        "\n",
        "s = pd.Series(['Tom ', ' William Rick', 'John', 'Alber@t'])\n",
        "\n",
        "print (s.str.get_dummies())"
      ],
      "execution_count": 28,
      "outputs": [
        {
          "output_type": "stream",
          "text": [
            "    William Rick  Alber@t  John  Tom \n",
            "0              0        0     0     1\n",
            "1              1        0     0     0\n",
            "2              0        0     1     0\n",
            "3              0        1     0     0\n"
          ],
          "name": "stdout"
        }
      ]
    },
    {
      "cell_type": "code",
      "metadata": {
        "id": "RpvvpSx1pBak",
        "colab_type": "code",
        "colab": {
          "base_uri": "https://localhost:8080/",
          "height": 102
        },
        "outputId": "b5070d64-59c8-4c4b-deaf-371fa8a80f1a"
      },
      "source": [
        "import pandas as pd\n",
        "\n",
        "s = pd.Series(['Tom ', ' William Rick', 'John', 'Alber@t'])\n",
        "\n",
        "print (s.str.contains(' '))"
      ],
      "execution_count": 29,
      "outputs": [
        {
          "output_type": "stream",
          "text": [
            "0     True\n",
            "1     True\n",
            "2    False\n",
            "3    False\n",
            "dtype: bool\n"
          ],
          "name": "stdout"
        }
      ]
    },
    {
      "cell_type": "code",
      "metadata": {
        "id": "1MFbrdQhpPQH",
        "colab_type": "code",
        "colab": {
          "base_uri": "https://localhost:8080/",
          "height": 204
        },
        "outputId": "542b8c4a-953a-4aaf-f170-d8fbb3fdee32"
      },
      "source": [
        "import pandas as pd\n",
        "s = pd.Series(['Tom ', ' William Rick', 'John', 'Alber@t'])\n",
        "print (s)\n",
        "print (\"After replacing @ with $:\")\n",
        "print (s.str.replace('@','$'))"
      ],
      "execution_count": 30,
      "outputs": [
        {
          "output_type": "stream",
          "text": [
            "0             Tom \n",
            "1     William Rick\n",
            "2             John\n",
            "3          Alber@t\n",
            "dtype: object\n",
            "After replacing @ with $:\n",
            "0             Tom \n",
            "1     William Rick\n",
            "2             John\n",
            "3          Alber$t\n",
            "dtype: object\n"
          ],
          "name": "stdout"
        }
      ]
    },
    {
      "cell_type": "code",
      "metadata": {
        "id": "PEtJXlHqpUnV",
        "colab_type": "code",
        "colab": {
          "base_uri": "https://localhost:8080/",
          "height": 102
        },
        "outputId": "32b998be-f96f-4b33-fae8-ab94c86636e3"
      },
      "source": [
        "import pandas as pd\n",
        "\n",
        "s = pd.Series(['Tom ', ' William Rick', 'John', 'Alber@t'])\n",
        "\n",
        "print( s.str.repeat(3))"
      ],
      "execution_count": 32,
      "outputs": [
        {
          "output_type": "stream",
          "text": [
            "0                               Tom Tom Tom \n",
            "1     William Rick William Rick William Rick\n",
            "2                               JohnJohnJohn\n",
            "3                      Alber@tAlber@tAlber@t\n",
            "dtype: object\n"
          ],
          "name": "stdout"
        }
      ]
    },
    {
      "cell_type": "code",
      "metadata": {
        "id": "FwwBY0SEpdOl",
        "colab_type": "code",
        "colab": {
          "base_uri": "https://localhost:8080/",
          "height": 156
        },
        "outputId": "209ebaed-1843-4b2f-edc8-36dfee255538"
      },
      "source": [
        "import pandas as pd\n",
        " \n",
        "s = pd.Series(['Tom ', ' William Rick', 'John', 'Alber@t'])\n",
        "\n",
        "print (\"The number of 'm's in each string:\")\n",
        "print (s.str.count('m'))"
      ],
      "execution_count": 33,
      "outputs": [
        {
          "output_type": "stream",
          "text": [
            "The number of 'm's in each string:\n",
            "0    1\n",
            "1    1\n",
            "2    0\n",
            "3    0\n",
            "dtype: int64\n",
            "ERROR! Session/line number was not unique in database. History logging moved to new session 64\n"
          ],
          "name": "stdout"
        }
      ]
    },
    {
      "cell_type": "code",
      "metadata": {
        "id": "29QbmYFcpkuD",
        "colab_type": "code",
        "colab": {
          "base_uri": "https://localhost:8080/",
          "height": 119
        },
        "outputId": "2fb53171-8882-42a3-a056-82503ea4ed53"
      },
      "source": [
        "import pandas as pd\n",
        "\n",
        "s = pd.Series(['Tom ', ' William Rick', 'John', 'Alber@t'])\n",
        "\n",
        "print (\"Strings that start with 'T':\")\n",
        "print (s.str. startswith ('T'))"
      ],
      "execution_count": 34,
      "outputs": [
        {
          "output_type": "stream",
          "text": [
            "Strings that start with 'T':\n",
            "0     True\n",
            "1    False\n",
            "2    False\n",
            "3    False\n",
            "dtype: bool\n"
          ],
          "name": "stdout"
        }
      ]
    },
    {
      "cell_type": "code",
      "metadata": {
        "id": "xxHM694Spq0H",
        "colab_type": "code",
        "colab": {
          "base_uri": "https://localhost:8080/",
          "height": 119
        },
        "outputId": "0ff04798-78ae-4ec8-acad-8a5a41406018"
      },
      "source": [
        "import pandas as pd\n",
        "s = pd.Series(['Tom ', ' William Rick', 'John', 'Alber@t'])\n",
        "print (\"Strings that end with 't':\")\n",
        "print (s.str.endswith('t'))"
      ],
      "execution_count": 35,
      "outputs": [
        {
          "output_type": "stream",
          "text": [
            "Strings that end with 't':\n",
            "0    False\n",
            "1    False\n",
            "2    False\n",
            "3     True\n",
            "dtype: bool\n"
          ],
          "name": "stdout"
        }
      ]
    },
    {
      "cell_type": "code",
      "metadata": {
        "id": "8Nl0c5Zbpv5-",
        "colab_type": "code",
        "colab": {
          "base_uri": "https://localhost:8080/",
          "height": 102
        },
        "outputId": "000a9a25-6013-4cf7-87b3-6637f323d923"
      },
      "source": [
        "import pandas as pd\n",
        "\n",
        "s = pd.Series(['Tom ', ' William Rick', 'John', 'Alber@t'])\n",
        "\n",
        "print (s.str.find('e'))"
      ],
      "execution_count": 36,
      "outputs": [
        {
          "output_type": "stream",
          "text": [
            "0   -1\n",
            "1   -1\n",
            "2   -1\n",
            "3    3\n",
            "dtype: int64\n"
          ],
          "name": "stdout"
        }
      ]
    },
    {
      "cell_type": "code",
      "metadata": {
        "id": "KEwBZFWBp0Ci",
        "colab_type": "code",
        "colab": {
          "base_uri": "https://localhost:8080/",
          "height": 102
        },
        "outputId": "6d036c80-f5f9-4db7-e911-f1fa71042159"
      },
      "source": [
        "import pandas as pd\n",
        "\n",
        "s = pd.Series(['Tom ', ' William Rick', 'John', 'Alber@t'])\n",
        "\n",
        "print (s.str.findall('e'))"
      ],
      "execution_count": 37,
      "outputs": [
        {
          "output_type": "stream",
          "text": [
            "0     []\n",
            "1     []\n",
            "2     []\n",
            "3    [e]\n",
            "dtype: object\n"
          ],
          "name": "stdout"
        }
      ]
    },
    {
      "cell_type": "code",
      "metadata": {
        "id": "x4Nw3uSxp5Hu",
        "colab_type": "code",
        "colab": {
          "base_uri": "https://localhost:8080/",
          "height": 102
        },
        "outputId": "bd6150af-e76b-4215-bca2-ebfa3f27eb71"
      },
      "source": [
        "import pandas as pd\n",
        "\n",
        "s = pd.Series(['Tom', 'William Rick', 'John', 'Alber@t'])\n",
        "print (s.str.swapcase())"
      ],
      "execution_count": 38,
      "outputs": [
        {
          "output_type": "stream",
          "text": [
            "0             tOM\n",
            "1    wILLIAM rICK\n",
            "2            jOHN\n",
            "3         aLBER@T\n",
            "dtype: object\n"
          ],
          "name": "stdout"
        }
      ]
    },
    {
      "cell_type": "code",
      "metadata": {
        "id": "J_6Lgvqhp9Ii",
        "colab_type": "code",
        "colab": {
          "base_uri": "https://localhost:8080/",
          "height": 102
        },
        "outputId": "28bfa86f-5292-44ba-bf24-3264052cb4e3"
      },
      "source": [
        "import pandas as pd\n",
        "\n",
        "s = pd.Series(['Tom', 'William Rick', 'John', 'Alber@t'])\n",
        "print (s.str.islower())"
      ],
      "execution_count": 39,
      "outputs": [
        {
          "output_type": "stream",
          "text": [
            "0    False\n",
            "1    False\n",
            "2    False\n",
            "3    False\n",
            "dtype: bool\n"
          ],
          "name": "stdout"
        }
      ]
    },
    {
      "cell_type": "code",
      "metadata": {
        "id": "xFwOLX6DqCRu",
        "colab_type": "code",
        "colab": {
          "base_uri": "https://localhost:8080/",
          "height": 102
        },
        "outputId": "c1f41877-a957-4b9a-e43d-8685c5b07704"
      },
      "source": [
        "import pandas as pd\n",
        "\n",
        "s = pd.Series(['Tom', 'William Rick', 'John', 'Alber@t'])\n",
        "\n",
        "print (s.str.isupper())"
      ],
      "execution_count": 40,
      "outputs": [
        {
          "output_type": "stream",
          "text": [
            "0    False\n",
            "1    False\n",
            "2    False\n",
            "3    False\n",
            "dtype: bool\n"
          ],
          "name": "stdout"
        }
      ]
    },
    {
      "cell_type": "code",
      "metadata": {
        "id": "Frj9YfR_qHHn",
        "colab_type": "code",
        "colab": {
          "base_uri": "https://localhost:8080/",
          "height": 102
        },
        "outputId": "c10a6195-bc44-4c23-eaca-451494a2f40f"
      },
      "source": [
        "import pandas as pd\n",
        "\n",
        "s = pd.Series(['Tom', 'William Rick', 'John', 'Alber@t'])\n",
        "\n",
        "print (s.str.isnumeric())"
      ],
      "execution_count": 41,
      "outputs": [
        {
          "output_type": "stream",
          "text": [
            "0    False\n",
            "1    False\n",
            "2    False\n",
            "3    False\n",
            "dtype: bool\n"
          ],
          "name": "stdout"
        }
      ]
    },
    {
      "cell_type": "markdown",
      "metadata": {
        "id": "M-V3MEI2Chm3",
        "colab_type": "text"
      },
      "source": [
        "## Python Pandas - Indexing and Selecting Data\n",
        "### .loc()\n",
        ".loc() has multiple access methods like −\n",
        "\n",
        "* A single scalar label\n",
        "* A list of labels\n",
        "* A slice object\n",
        "* A Boolean array"
      ]
    },
    {
      "cell_type": "code",
      "metadata": {
        "id": "N1CrKvQyqLr-",
        "colab_type": "code",
        "colab": {
          "base_uri": "https://localhost:8080/",
          "height": 323
        },
        "outputId": "d51b0861-c6ea-4658-fa02-84fa17d30af4"
      },
      "source": [
        "#import the pandas library and aliasing as pd\n",
        "import pandas as pd\n",
        "import numpy as np\n",
        "\n",
        "df = pd.DataFrame(np.random.randn(8, 4), index = ['a','b','c','d','e','f','g','h'], columns = ['A', 'B', 'C', 'D'])\n",
        "print(df)\n",
        "#select all rows for a specific column\n",
        "print (df.loc[:,'A'])"
      ],
      "execution_count": 2,
      "outputs": [
        {
          "output_type": "stream",
          "text": [
            "          A         B         C         D\n",
            "a  0.292399 -0.873413 -0.675785 -0.103260\n",
            "b -0.867710  0.241270  1.100251  0.507550\n",
            "c  0.544243  0.754359  0.201483  1.788713\n",
            "d -0.537503  0.247198 -0.250248  1.013950\n",
            "e -1.820789  0.658277 -0.521816 -1.389474\n",
            "f -0.907986  0.344934 -0.423069  0.440343\n",
            "g  0.574431 -1.712359  0.159761 -2.227243\n",
            "h  0.166164 -0.055181  0.109001 -1.126727\n",
            "a    0.292399\n",
            "b   -0.867710\n",
            "c    0.544243\n",
            "d   -0.537503\n",
            "e   -1.820789\n",
            "f   -0.907986\n",
            "g    0.574431\n",
            "h    0.166164\n",
            "Name: A, dtype: float64\n"
          ],
          "name": "stdout"
        }
      ]
    },
    {
      "cell_type": "code",
      "metadata": {
        "id": "kpOyBY4qDXk_",
        "colab_type": "code",
        "colab": {
          "base_uri": "https://localhost:8080/",
          "height": 207
        },
        "outputId": "a214acfd-0fcb-4571-f1c1-51ba29fd7cf2"
      },
      "source": [
        "# Select all rows for multiple columns, say list[]\n",
        "print (df.loc[:,['A','C']])"
      ],
      "execution_count": 3,
      "outputs": [
        {
          "output_type": "stream",
          "text": [
            "          A         C\n",
            "a  0.292399 -0.675785\n",
            "b -0.867710  1.100251\n",
            "c  0.544243  0.201483\n",
            "d -0.537503 -0.250248\n",
            "e -1.820789 -0.521816\n",
            "f -0.907986 -0.423069\n",
            "g  0.574431  0.159761\n",
            "h  0.166164  0.109001\n",
            "ERROR! Session/line number was not unique in database. History logging moved to new session 59\n"
          ],
          "name": "stdout"
        }
      ]
    },
    {
      "cell_type": "code",
      "metadata": {
        "id": "TpshM3CoEitu",
        "colab_type": "code",
        "colab": {
          "base_uri": "https://localhost:8080/",
          "height": 102
        },
        "outputId": "805e9a89-0d9c-47eb-d86d-50e7f59d61b1"
      },
      "source": [
        "# Select few rows for multiple columns, say list[]\n",
        "print (df.loc[['a','b','f','h'],['A','C']])"
      ],
      "execution_count": 4,
      "outputs": [
        {
          "output_type": "stream",
          "text": [
            "          A         C\n",
            "a  0.292399 -0.675785\n",
            "b -0.867710  1.100251\n",
            "f -0.907986 -0.423069\n",
            "h  0.166164  0.109001\n"
          ],
          "name": "stdout"
        }
      ]
    },
    {
      "cell_type": "code",
      "metadata": {
        "id": "uUrRHI9pE0OA",
        "colab_type": "code",
        "colab": {
          "base_uri": "https://localhost:8080/",
          "height": 170
        },
        "outputId": "9f9d338d-d41e-4b2c-c993-b62297a52050"
      },
      "source": [
        "# Select range of rows for all columns\n",
        "print (df.loc['a':'h'])"
      ],
      "execution_count": 5,
      "outputs": [
        {
          "output_type": "stream",
          "text": [
            "          A         B         C         D\n",
            "a  0.292399 -0.873413 -0.675785 -0.103260\n",
            "b -0.867710  0.241270  1.100251  0.507550\n",
            "c  0.544243  0.754359  0.201483  1.788713\n",
            "d -0.537503  0.247198 -0.250248  1.013950\n",
            "e -1.820789  0.658277 -0.521816 -1.389474\n",
            "f -0.907986  0.344934 -0.423069  0.440343\n",
            "g  0.574431 -1.712359  0.159761 -2.227243\n",
            "h  0.166164 -0.055181  0.109001 -1.126727\n"
          ],
          "name": "stdout"
        }
      ]
    },
    {
      "cell_type": "code",
      "metadata": {
        "id": "VofgOk_3E-3y",
        "colab_type": "code",
        "colab": {
          "base_uri": "https://localhost:8080/",
          "height": 139
        },
        "outputId": "643c57c3-904f-4a13-8b1a-aa912d598216"
      },
      "source": [
        "# for getting values with a boolean array\n",
        "print (df.loc['a']>0)"
      ],
      "execution_count": 7,
      "outputs": [
        {
          "output_type": "stream",
          "text": [
            "A     True\n",
            "B    False\n",
            "C    False\n",
            "D    False\n",
            "Name: a, dtype: bool\n",
            "ERROR! Session/line number was not unique in database. History logging moved to new session 61\n"
          ],
          "name": "stdout"
        }
      ]
    },
    {
      "cell_type": "code",
      "metadata": {
        "id": "RZhDBCd5FGa0",
        "colab_type": "code",
        "colab": {
          "base_uri": "https://localhost:8080/",
          "height": 102
        },
        "outputId": "b80ced85-73b6-444e-8b56-0e51b28a0425"
      },
      "source": [
        "# import the pandas library and aliasing as pd\n",
        "import pandas as pd\n",
        "import numpy as np\n",
        "\n",
        "df = pd.DataFrame(np.random.randn(8, 4), columns = ['A', 'B', 'C', 'D'])\n",
        "\n",
        "# select all rows for a specific column\n",
        "print (df.iloc[:4])"
      ],
      "execution_count": 8,
      "outputs": [
        {
          "output_type": "stream",
          "text": [
            "          A         B         C         D\n",
            "0 -1.660425 -0.125115 -0.728041 -1.475628\n",
            "1  0.093704  0.482131  0.048365 -0.017873\n",
            "2 -0.825425  0.493475  0.178465  1.637118\n",
            "3 -0.120000  1.253140 -0.103324 -0.046141\n"
          ],
          "name": "stdout"
        }
      ]
    },
    {
      "cell_type": "code",
      "metadata": {
        "id": "lly5b8W6Fcvx",
        "colab_type": "code",
        "colab": {
          "base_uri": "https://localhost:8080/",
          "height": 187
        },
        "outputId": "a52ea449-50f1-4a1c-be77-03f6e1b457b9"
      },
      "source": [
        "# Integer slicing\n",
        "print (df.iloc[:4])\n",
        "print (df.iloc[1:5, 2:4])"
      ],
      "execution_count": 9,
      "outputs": [
        {
          "output_type": "stream",
          "text": [
            "          A         B         C         D\n",
            "0 -1.660425 -0.125115 -0.728041 -1.475628\n",
            "1  0.093704  0.482131  0.048365 -0.017873\n",
            "2 -0.825425  0.493475  0.178465  1.637118\n",
            "3 -0.120000  1.253140 -0.103324 -0.046141\n",
            "          C         D\n",
            "1  0.048365 -0.017873\n",
            "2  0.178465  1.637118\n",
            "3 -0.103324 -0.046141\n",
            "4  0.692784 -0.572387\n"
          ],
          "name": "stdout"
        }
      ]
    },
    {
      "cell_type": "code",
      "metadata": {
        "id": "sfpnPAPkFjnx",
        "colab_type": "code",
        "colab": {
          "base_uri": "https://localhost:8080/",
          "height": 289
        },
        "outputId": "7b52bae2-8af3-4aa1-ad7b-ab4d7852819a"
      },
      "source": [
        "# Slicing through list of values\n",
        "print( df.iloc[[1, 3, 5], [1, 3]])\n",
        "print (df.iloc[1:3, :])\n",
        "print (df.iloc[:,1:3])"
      ],
      "execution_count": 10,
      "outputs": [
        {
          "output_type": "stream",
          "text": [
            "          B         D\n",
            "1  0.482131 -0.017873\n",
            "3  1.253140 -0.046141\n",
            "5  1.712571 -2.089108\n",
            "          A         B         C         D\n",
            "1  0.093704  0.482131  0.048365 -0.017873\n",
            "2 -0.825425  0.493475  0.178465  1.637118\n",
            "          B         C\n",
            "0 -0.125115 -0.728041\n",
            "1  0.482131  0.048365\n",
            "2  0.493475  0.178465\n",
            "3  1.253140 -0.103324\n",
            "4  1.120273  0.692784\n",
            "5  1.712571 -0.007433\n",
            "6  1.013500  0.459132\n",
            "7  2.132831 -1.394839\n"
          ],
          "name": "stdout"
        }
      ]
    },
    {
      "cell_type": "code",
      "metadata": {
        "id": "nU4sT2TiFunB",
        "colab_type": "code",
        "colab": {
          "base_uri": "https://localhost:8080/",
          "height": 354
        },
        "outputId": "79da043b-9d1e-414d-cff1-9b558ba37683"
      },
      "source": [
        "import pandas as pd\n",
        "import numpy as np\n",
        "\n",
        "df = pd.DataFrame(np.random.randn(8, 4), columns = ['A', 'B', 'C', 'D'])\n",
        "\n",
        "# Integer slicing\n",
        "print (df.ix[:4])"
      ],
      "execution_count": 12,
      "outputs": [
        {
          "output_type": "error",
          "ename": "AttributeError",
          "evalue": "ignored",
          "traceback": [
            "\u001b[0;31m---------------------------------------------------------------------------\u001b[0m",
            "\u001b[0;31mAttributeError\u001b[0m                            Traceback (most recent call last)",
            "\u001b[0;32m<ipython-input-12-9a45fc96b241>\u001b[0m in \u001b[0;36m<module>\u001b[0;34m()\u001b[0m\n\u001b[1;32m      5\u001b[0m \u001b[0;34m\u001b[0m\u001b[0m\n\u001b[1;32m      6\u001b[0m \u001b[0;31m# Integer slicing\u001b[0m\u001b[0;34m\u001b[0m\u001b[0;34m\u001b[0m\u001b[0;34m\u001b[0m\u001b[0m\n\u001b[0;32m----> 7\u001b[0;31m \u001b[0mprint\u001b[0m \u001b[0;34m(\u001b[0m\u001b[0mdf\u001b[0m\u001b[0;34m.\u001b[0m\u001b[0mix\u001b[0m\u001b[0;34m[\u001b[0m\u001b[0;34m:\u001b[0m\u001b[0;36m4\u001b[0m\u001b[0;34m]\u001b[0m\u001b[0;34m)\u001b[0m\u001b[0;34m\u001b[0m\u001b[0;34m\u001b[0m\u001b[0m\n\u001b[0m",
            "\u001b[0;32m/usr/local/lib/python3.6/dist-packages/pandas/core/generic.py\u001b[0m in \u001b[0;36m__getattr__\u001b[0;34m(self, name)\u001b[0m\n\u001b[1;32m   5272\u001b[0m             \u001b[0;32mif\u001b[0m \u001b[0mself\u001b[0m\u001b[0;34m.\u001b[0m\u001b[0m_info_axis\u001b[0m\u001b[0;34m.\u001b[0m\u001b[0m_can_hold_identifiers_and_holds_name\u001b[0m\u001b[0;34m(\u001b[0m\u001b[0mname\u001b[0m\u001b[0;34m)\u001b[0m\u001b[0;34m:\u001b[0m\u001b[0;34m\u001b[0m\u001b[0;34m\u001b[0m\u001b[0m\n\u001b[1;32m   5273\u001b[0m                 \u001b[0;32mreturn\u001b[0m \u001b[0mself\u001b[0m\u001b[0;34m[\u001b[0m\u001b[0mname\u001b[0m\u001b[0;34m]\u001b[0m\u001b[0;34m\u001b[0m\u001b[0;34m\u001b[0m\u001b[0m\n\u001b[0;32m-> 5274\u001b[0;31m             \u001b[0;32mreturn\u001b[0m \u001b[0mobject\u001b[0m\u001b[0;34m.\u001b[0m\u001b[0m__getattribute__\u001b[0m\u001b[0;34m(\u001b[0m\u001b[0mself\u001b[0m\u001b[0;34m,\u001b[0m \u001b[0mname\u001b[0m\u001b[0;34m)\u001b[0m\u001b[0;34m\u001b[0m\u001b[0;34m\u001b[0m\u001b[0m\n\u001b[0m\u001b[1;32m   5275\u001b[0m \u001b[0;34m\u001b[0m\u001b[0m\n\u001b[1;32m   5276\u001b[0m     \u001b[0;32mdef\u001b[0m \u001b[0m__setattr__\u001b[0m\u001b[0;34m(\u001b[0m\u001b[0mself\u001b[0m\u001b[0;34m,\u001b[0m \u001b[0mname\u001b[0m\u001b[0;34m:\u001b[0m \u001b[0mstr\u001b[0m\u001b[0;34m,\u001b[0m \u001b[0mvalue\u001b[0m\u001b[0;34m)\u001b[0m \u001b[0;34m->\u001b[0m \u001b[0;32mNone\u001b[0m\u001b[0;34m:\u001b[0m\u001b[0;34m\u001b[0m\u001b[0;34m\u001b[0m\u001b[0m\n",
            "\u001b[0;31mAttributeError\u001b[0m: 'DataFrame' object has no attribute 'ix'"
          ]
        },
        {
          "output_type": "stream",
          "text": [
            "ERROR! Session/line number was not unique in database. History logging moved to new session 65\n"
          ],
          "name": "stdout"
        }
      ]
    },
    {
      "cell_type": "code",
      "metadata": {
        "id": "lGL4F_gdF4DP",
        "colab_type": "code",
        "colab": {
          "base_uri": "https://localhost:8080/",
          "height": 320
        },
        "outputId": "59cb25fd-868a-424f-e687-fd85591a14db"
      },
      "source": [
        "# Index slicing\n",
        "print (df.ix[:,'A'])"
      ],
      "execution_count": 13,
      "outputs": [
        {
          "output_type": "error",
          "ename": "AttributeError",
          "evalue": "ignored",
          "traceback": [
            "\u001b[0;31m---------------------------------------------------------------------------\u001b[0m",
            "\u001b[0;31mAttributeError\u001b[0m                            Traceback (most recent call last)",
            "\u001b[0;32m<ipython-input-13-bec1f0c0cee8>\u001b[0m in \u001b[0;36m<module>\u001b[0;34m()\u001b[0m\n\u001b[0;32m----> 1\u001b[0;31m \u001b[0mprint\u001b[0m \u001b[0;34m(\u001b[0m\u001b[0mdf\u001b[0m\u001b[0;34m.\u001b[0m\u001b[0mix\u001b[0m\u001b[0;34m[\u001b[0m\u001b[0;34m:\u001b[0m\u001b[0;34m,\u001b[0m\u001b[0;34m'A'\u001b[0m\u001b[0;34m]\u001b[0m\u001b[0;34m)\u001b[0m\u001b[0;34m\u001b[0m\u001b[0;34m\u001b[0m\u001b[0m\n\u001b[0m",
            "\u001b[0;32m/usr/local/lib/python3.6/dist-packages/pandas/core/generic.py\u001b[0m in \u001b[0;36m__getattr__\u001b[0;34m(self, name)\u001b[0m\n\u001b[1;32m   5272\u001b[0m             \u001b[0;32mif\u001b[0m \u001b[0mself\u001b[0m\u001b[0;34m.\u001b[0m\u001b[0m_info_axis\u001b[0m\u001b[0;34m.\u001b[0m\u001b[0m_can_hold_identifiers_and_holds_name\u001b[0m\u001b[0;34m(\u001b[0m\u001b[0mname\u001b[0m\u001b[0;34m)\u001b[0m\u001b[0;34m:\u001b[0m\u001b[0;34m\u001b[0m\u001b[0;34m\u001b[0m\u001b[0m\n\u001b[1;32m   5273\u001b[0m                 \u001b[0;32mreturn\u001b[0m \u001b[0mself\u001b[0m\u001b[0;34m[\u001b[0m\u001b[0mname\u001b[0m\u001b[0;34m]\u001b[0m\u001b[0;34m\u001b[0m\u001b[0;34m\u001b[0m\u001b[0m\n\u001b[0;32m-> 5274\u001b[0;31m             \u001b[0;32mreturn\u001b[0m \u001b[0mobject\u001b[0m\u001b[0;34m.\u001b[0m\u001b[0m__getattribute__\u001b[0m\u001b[0;34m(\u001b[0m\u001b[0mself\u001b[0m\u001b[0;34m,\u001b[0m \u001b[0mname\u001b[0m\u001b[0;34m)\u001b[0m\u001b[0;34m\u001b[0m\u001b[0;34m\u001b[0m\u001b[0m\n\u001b[0m\u001b[1;32m   5275\u001b[0m \u001b[0;34m\u001b[0m\u001b[0m\n\u001b[1;32m   5276\u001b[0m     \u001b[0;32mdef\u001b[0m \u001b[0m__setattr__\u001b[0m\u001b[0;34m(\u001b[0m\u001b[0mself\u001b[0m\u001b[0;34m,\u001b[0m \u001b[0mname\u001b[0m\u001b[0;34m:\u001b[0m \u001b[0mstr\u001b[0m\u001b[0;34m,\u001b[0m \u001b[0mvalue\u001b[0m\u001b[0;34m)\u001b[0m \u001b[0;34m->\u001b[0m \u001b[0;32mNone\u001b[0m\u001b[0;34m:\u001b[0m\u001b[0;34m\u001b[0m\u001b[0;34m\u001b[0m\u001b[0m\n",
            "\u001b[0;31mAttributeError\u001b[0m: 'DataFrame' object has no attribute 'ix'"
          ]
        },
        {
          "output_type": "stream",
          "text": [
            "ERROR! Session/line number was not unique in database. History logging moved to new session 66\n"
          ],
          "name": "stdout"
        }
      ]
    },
    {
      "cell_type": "code",
      "metadata": {
        "id": "uTqttc2zGeZ3",
        "colab_type": "code",
        "colab": {}
      },
      "source": [
        ""
      ],
      "execution_count": 0,
      "outputs": []
    },
    {
      "cell_type": "markdown",
      "metadata": {
        "id": "pj0HYzdIGqPC",
        "colab_type": "text"
      },
      "source": [
        "## Python Pandas - Statistical Functions\n",
        "### Percent_change"
      ]
    },
    {
      "cell_type": "code",
      "metadata": {
        "id": "GI9bd4TpGvre",
        "colab_type": "code",
        "colab": {
          "base_uri": "https://localhost:8080/",
          "height": 238
        },
        "outputId": "9eb2d3dd-6501-4483-b0dc-909cbe2d4bd2"
      },
      "source": [
        "import pandas as pd\n",
        "import numpy as np\n",
        "s = pd.Series([1,2,3,4,5,4])\n",
        "print (s.pct_change())\n",
        "\n",
        "df = pd.DataFrame(np.random.randn(5, 2))\n",
        "print (df.pct_change())"
      ],
      "execution_count": 14,
      "outputs": [
        {
          "output_type": "stream",
          "text": [
            "0         NaN\n",
            "1    1.000000\n",
            "2    0.500000\n",
            "3    0.333333\n",
            "4    0.250000\n",
            "5   -0.200000\n",
            "dtype: float64\n",
            "          0          1\n",
            "0       NaN        NaN\n",
            "1 -0.248606  -0.985385\n",
            "2 -0.426813 -70.610779\n",
            "3 -3.485479  -1.002105\n",
            "4 -0.174853  47.456876\n"
          ],
          "name": "stdout"
        }
      ]
    },
    {
      "cell_type": "markdown",
      "metadata": {
        "id": "nbZvybmbHbYn",
        "colab_type": "text"
      },
      "source": [
        "### Covariance\n"
      ]
    },
    {
      "cell_type": "code",
      "metadata": {
        "id": "hxoCCVByGyqH",
        "colab_type": "code",
        "colab": {
          "base_uri": "https://localhost:8080/",
          "height": 34
        },
        "outputId": "d89de5bc-2d43-4e46-b3f9-573595407875"
      },
      "source": [
        "import pandas as pd\n",
        "import numpy as np\n",
        "s1 = pd.Series(np.random.randn(10))\n",
        "s2 = pd.Series(np.random.randn(10))\n",
        "print (s1.cov(s2))"
      ],
      "execution_count": 15,
      "outputs": [
        {
          "output_type": "stream",
          "text": [
            "-0.1427828051325423\n"
          ],
          "name": "stdout"
        }
      ]
    },
    {
      "cell_type": "code",
      "metadata": {
        "id": "OVXSXKYbHqF5",
        "colab_type": "code",
        "colab": {
          "base_uri": "https://localhost:8080/",
          "height": 136
        },
        "outputId": "48b2ee11-bafc-44dc-f426-e1a262916468"
      },
      "source": [
        "import pandas as pd\n",
        "import numpy as np\n",
        "frame = pd.DataFrame(np.random.randn(10, 5), columns=['a', 'b', 'c', 'd', 'e'])\n",
        "print (frame['a'].cov(frame['b']))\n",
        "print (frame.cov())"
      ],
      "execution_count": 16,
      "outputs": [
        {
          "output_type": "stream",
          "text": [
            "-0.4525755202282566\n",
            "          a         b         c         d         e\n",
            "a  1.379122 -0.452576 -0.832057 -0.577428  0.489850\n",
            "b -0.452576  0.850656 -0.023330  0.203096 -0.305175\n",
            "c -0.832057 -0.023330  1.320715  0.539941 -0.304415\n",
            "d -0.577428  0.203096  0.539941  0.965619 -0.427920\n",
            "e  0.489850 -0.305175 -0.304415 -0.427920  0.829774\n"
          ],
          "name": "stdout"
        }
      ]
    },
    {
      "cell_type": "markdown",
      "metadata": {
        "id": "0CdrrHjxISfi",
        "colab_type": "text"
      },
      "source": [
        "### Correlation"
      ]
    },
    {
      "cell_type": "code",
      "metadata": {
        "id": "3L4y1POVH5MH",
        "colab_type": "code",
        "colab": {
          "base_uri": "https://localhost:8080/",
          "height": 136
        },
        "outputId": "1dfd8a78-953c-434a-c20f-0e428cfd5d43"
      },
      "source": [
        "import pandas as pd\n",
        "import numpy as np\n",
        "frame = pd.DataFrame(np.random.randn(10, 5), columns=['a', 'b', 'c', 'd', 'e'])\n",
        "\n",
        "print (frame['a'].corr(frame['b']))\n",
        "print (frame.corr())"
      ],
      "execution_count": 17,
      "outputs": [
        {
          "output_type": "stream",
          "text": [
            "0.18994116901781463\n",
            "          a         b         c         d         e\n",
            "a  1.000000  0.189941  0.017356 -0.138407 -0.585428\n",
            "b  0.189941  1.000000  0.133364 -0.282908 -0.075919\n",
            "c  0.017356  0.133364  1.000000  0.128001  0.491140\n",
            "d -0.138407 -0.282908  0.128001  1.000000  0.519603\n",
            "e -0.585428 -0.075919  0.491140  0.519603  1.000000\n"
          ],
          "name": "stdout"
        }
      ]
    },
    {
      "cell_type": "markdown",
      "metadata": {
        "id": "m1EYTGTuIugg",
        "colab_type": "text"
      },
      "source": [
        "### Data Ranking"
      ]
    },
    {
      "cell_type": "code",
      "metadata": {
        "id": "x9TXlWPRIbcM",
        "colab_type": "code",
        "colab": {
          "base_uri": "https://localhost:8080/",
          "height": 119
        },
        "outputId": "8ff826f9-736b-451e-ab67-51a0619869d7"
      },
      "source": [
        "import pandas as pd\n",
        "import numpy as np\n",
        "\n",
        "s = pd.Series(np.random.randn(5), index=list('abcde'))\n",
        "s['d'] = s['b'] # so there's a tie\n",
        "print (s.rank())"
      ],
      "execution_count": 19,
      "outputs": [
        {
          "output_type": "stream",
          "text": [
            "a    3.0\n",
            "b    1.5\n",
            "c    4.0\n",
            "d    1.5\n",
            "e    5.0\n",
            "dtype: float64\n"
          ],
          "name": "stdout"
        }
      ]
    },
    {
      "cell_type": "code",
      "metadata": {
        "id": "ZHRXD-u9I6QC",
        "colab_type": "code",
        "colab": {
          "base_uri": "https://localhost:8080/",
          "height": 221
        },
        "outputId": "7104ad18-91c3-4b64-d78f-939d6308da61"
      },
      "source": [
        "import pandas as pd\n",
        "import numpy as np\n",
        "\n",
        "df = pd.DataFrame(np.random.randn(10, 4),\n",
        "   index = pd.date_range('1/1/2000', periods=10),\n",
        "   columns = ['A', 'B', 'C', 'D'])\n",
        "\n",
        "print (df)\n",
        "r = df.rolling(window=3,min_periods=1)\n",
        "print (r)"
      ],
      "execution_count": 24,
      "outputs": [
        {
          "output_type": "stream",
          "text": [
            "                   A         B         C         D\n",
            "2000-01-01 -1.177709  0.947964 -1.915674  1.157970\n",
            "2000-01-02  0.490878  0.262352 -0.047431 -0.267056\n",
            "2000-01-03  0.918634 -0.363984 -1.290670  2.136125\n",
            "2000-01-04  0.720559  0.187495  1.320380  0.284934\n",
            "2000-01-05 -1.432212  0.528231  0.209106  0.168246\n",
            "2000-01-06 -0.138645 -0.968037  0.839464 -0.911596\n",
            "2000-01-07  0.036066  1.956249  1.523068  0.279423\n",
            "2000-01-08 -1.629677 -0.589466  0.540511  0.701523\n",
            "2000-01-09  1.473552  0.214170  0.549205  0.466400\n",
            "2000-01-10 -0.223261  1.467960 -1.511474 -0.263666\n",
            "Rolling [window=3,min_periods=1,center=False,axis=0]\n"
          ],
          "name": "stdout"
        }
      ]
    },
    {
      "cell_type": "code",
      "metadata": {
        "id": "J-ZJTqprKHQZ",
        "colab_type": "code",
        "colab": {
          "base_uri": "https://localhost:8080/",
          "height": 391
        },
        "outputId": "bfbd64cb-e1f4-4781-9a63-87aa3341236b"
      },
      "source": [
        "import pandas as pd\n",
        "import numpy as np\n",
        "\n",
        "df = pd.DataFrame(np.random.randn(10, 4),\n",
        "   index = pd.date_range('1/1/2000', periods=10),\n",
        "   columns = ['A', 'B', 'C', 'D'])\n",
        "print (df)\n",
        "r = df.rolling(window=3,min_periods=1)\n",
        "#Apply Aggregation on a Whole Dataframe\n",
        "print (r.aggregate(np.sum))"
      ],
      "execution_count": 25,
      "outputs": [
        {
          "output_type": "stream",
          "text": [
            "                   A         B         C         D\n",
            "2000-01-01 -1.786955 -0.983495  0.197259 -0.782944\n",
            "2000-01-02  0.259458 -0.210485  0.904655 -1.498768\n",
            "2000-01-03  0.125532 -0.744372  1.085292  1.281102\n",
            "2000-01-04 -0.734370 -0.572014  0.675431  1.581461\n",
            "2000-01-05 -1.656233 -0.757574 -1.100183 -0.318386\n",
            "2000-01-06  0.618036 -1.129251  0.932558  0.159785\n",
            "2000-01-07  0.408997  0.962876 -0.982522  0.628355\n",
            "2000-01-08  0.314486  0.356304 -1.192111 -1.283922\n",
            "2000-01-09  1.841314 -0.195397  1.589569 -0.811255\n",
            "2000-01-10 -1.272892 -0.790231 -0.374101 -0.109256\n",
            "                   A         B         C         D\n",
            "2000-01-01 -1.786955 -0.983495  0.197259 -0.782944\n",
            "2000-01-02 -1.527497 -1.193980  1.101914 -2.281713\n",
            "2000-01-03 -1.401965 -1.938352  2.187206 -1.000611\n",
            "2000-01-04 -0.349380 -1.526872  2.665378  1.363795\n",
            "2000-01-05 -2.265071 -2.073961  0.660540  2.544178\n",
            "2000-01-06 -1.772567 -2.458840  0.507805  1.422860\n",
            "2000-01-07 -0.629199 -0.923950 -1.150147  0.469754\n",
            "2000-01-08  1.341520  0.189929 -1.242076 -0.495782\n",
            "2000-01-09  2.564798  1.123783 -0.585065 -1.466822\n",
            "2000-01-10  0.882909 -0.629324  0.023356 -2.204433\n"
          ],
          "name": "stdout"
        }
      ]
    },
    {
      "cell_type": "code",
      "metadata": {
        "id": "X8691AG8KxU6",
        "colab_type": "code",
        "colab": {
          "base_uri": "https://localhost:8080/",
          "height": 391
        },
        "outputId": "dbc7f71f-72f1-466b-8805-76991f01d2d4"
      },
      "source": [
        "import pandas as pd\n",
        "import numpy as np\n",
        "\n",
        "df = pd.DataFrame(np.random.randn(10, 4),\n",
        "   index = pd.date_range('1/1/2000', periods=10),\n",
        "   columns = ['A', 'B', 'C', 'D'])\n",
        "print (df)\n",
        "r = df.rolling(window=3,min_periods=1)\n",
        "#Apply Aggregation on a Single Column of a Dataframe\n",
        "print (r['A'].aggregate(np.sum))"
      ],
      "execution_count": 26,
      "outputs": [
        {
          "output_type": "stream",
          "text": [
            "                   A         B         C         D\n",
            "2000-01-01  1.906799  1.239127  0.191606  1.501727\n",
            "2000-01-02 -0.094722  0.417794  1.066898 -0.210725\n",
            "2000-01-03 -0.394554 -0.390028  0.002810  1.485387\n",
            "2000-01-04 -0.419024  0.739268  0.620975  1.247623\n",
            "2000-01-05 -1.521356 -0.999904  0.189796  0.256113\n",
            "2000-01-06 -1.521856  0.073244  2.090196  0.440381\n",
            "2000-01-07  0.172376 -0.585668 -0.460591 -0.199570\n",
            "2000-01-08  0.477274  0.611307  0.263959 -2.752503\n",
            "2000-01-09 -0.494558  0.438161  0.772826  0.004317\n",
            "2000-01-10 -0.258112 -0.276165 -0.326939 -1.473800\n",
            "2000-01-01    1.906799\n",
            "2000-01-02    1.812077\n",
            "2000-01-03    1.417523\n",
            "2000-01-04   -0.908300\n",
            "2000-01-05   -2.334934\n",
            "2000-01-06   -3.462237\n",
            "2000-01-07   -2.870837\n",
            "2000-01-08   -0.872207\n",
            "2000-01-09    0.155091\n",
            "2000-01-10   -0.275396\n",
            "Freq: D, Name: A, dtype: float64\n"
          ],
          "name": "stdout"
        }
      ]
    },
    {
      "cell_type": "code",
      "metadata": {
        "id": "1OTnT-jfK6mk",
        "colab_type": "code",
        "colab": {
          "base_uri": "https://localhost:8080/",
          "height": 391
        },
        "outputId": "c384d0f3-c612-4328-ab1a-878652f6a701"
      },
      "source": [
        "import pandas as pd\n",
        "import numpy as np\n",
        "\n",
        "df = pd.DataFrame(np.random.randn(10, 4),\n",
        "   index = pd.date_range('1/1/2000', periods=10),\n",
        "   columns = ['A', 'B', 'C', 'D'])\n",
        "print (df)\n",
        "r = df.rolling(window=3,min_periods=1)\n",
        "#Apply Aggregation on Multiple Columns of a DataFrame\n",
        "print (r[['A','B']].aggregate(np.sum))"
      ],
      "execution_count": 27,
      "outputs": [
        {
          "output_type": "stream",
          "text": [
            "                   A         B         C         D\n",
            "2000-01-01  1.463900  0.427414 -1.739221  1.540769\n",
            "2000-01-02 -0.644625 -1.048233  0.862224  0.591757\n",
            "2000-01-03 -1.925620  0.968034  0.449763 -1.328873\n",
            "2000-01-04 -0.481351 -0.497835  0.844274  0.267036\n",
            "2000-01-05  0.317633 -0.911876 -0.081206  0.483308\n",
            "2000-01-06 -1.096264  1.038905 -0.021314  1.036904\n",
            "2000-01-07  1.308458 -0.014836  0.580794  2.043913\n",
            "2000-01-08  0.676740  0.048138  0.533454  1.548548\n",
            "2000-01-09  1.106980  1.949660 -0.777793 -0.453711\n",
            "2000-01-10 -1.618077 -1.170948  0.538727  0.412916\n",
            "                   A         B\n",
            "2000-01-01  1.463900  0.427414\n",
            "2000-01-02  0.819275 -0.620819\n",
            "2000-01-03 -1.106345  0.347215\n",
            "2000-01-04 -3.051596 -0.578034\n",
            "2000-01-05 -2.089337 -0.441678\n",
            "2000-01-06 -1.259982 -0.370806\n",
            "2000-01-07  0.529828  0.112193\n",
            "2000-01-08  0.888934  1.072208\n",
            "2000-01-09  3.092178  1.982963\n",
            "2000-01-10  0.165642  0.826850\n"
          ],
          "name": "stdout"
        }
      ]
    },
    {
      "cell_type": "code",
      "metadata": {
        "id": "YY9QgR_ALV74",
        "colab_type": "code",
        "colab": {
          "base_uri": "https://localhost:8080/",
          "height": 428
        },
        "outputId": "935b27b3-abf9-40d6-c7d8-4f515e323e28"
      },
      "source": [
        "import pandas as pd\n",
        "import numpy as np\n",
        "\n",
        "df = pd.DataFrame(np.random.randn(10, 4),\n",
        "   index = pd.date_range('1/1/2000', periods=10),\n",
        "   columns = ['A', 'B', 'C', 'D'])\n",
        "print (df)\n",
        "r = df.rolling(window=3,min_periods=1)\n",
        "#Apply Multiple Functions on a Single Column of a DataFrame\n",
        "print (r['A'].aggregate([np.sum,np.mean]))"
      ],
      "execution_count": 30,
      "outputs": [
        {
          "output_type": "stream",
          "text": [
            "ERROR! Session/line number was not unique in database. History logging moved to new session 67\n",
            "                   A         B         C         D\n",
            "2000-01-01 -0.397991 -0.990476 -1.234097  0.114659\n",
            "2000-01-02  0.603886 -0.990469 -0.346350 -1.439146\n",
            "2000-01-03 -0.401738 -0.240121  0.130634  0.186031\n",
            "2000-01-04  0.393605  1.697642  1.027076 -0.134269\n",
            "2000-01-05  0.693342 -1.463085 -2.406769 -2.041613\n",
            "2000-01-06  0.218227  1.229333  1.471921  0.552397\n",
            "2000-01-07 -0.258073 -2.396670 -1.477010  0.044581\n",
            "2000-01-08  0.562726  1.334403  1.103410  1.091433\n",
            "2000-01-09  0.053234  0.096834 -0.142818  1.507816\n",
            "2000-01-10  1.158007  0.644787  0.548569  2.474784\n",
            "                 sum      mean\n",
            "2000-01-01 -0.397991 -0.397991\n",
            "2000-01-02  0.205896  0.102948\n",
            "2000-01-03 -0.195842 -0.065281\n",
            "2000-01-04  0.595753  0.198584\n",
            "2000-01-05  0.685209  0.228403\n",
            "2000-01-06  1.305173  0.435058\n",
            "2000-01-07  0.653496  0.217832\n",
            "2000-01-08  0.522880  0.174293\n",
            "2000-01-09  0.357887  0.119296\n",
            "2000-01-10  1.773967  0.591322\n"
          ],
          "name": "stdout"
        }
      ]
    },
    {
      "cell_type": "code",
      "metadata": {
        "id": "g_-MJE1QLCnh",
        "colab_type": "code",
        "colab": {
          "base_uri": "https://localhost:8080/",
          "height": 408
        },
        "outputId": "19ce9087-1b95-4700-a270-ccffb9881ed3"
      },
      "source": [
        "import pandas as pd\n",
        "import numpy as np\n",
        "\n",
        "df = pd.DataFrame(np.random.randn(10, 4),\n",
        "   index = pd.date_range('1/1/2000', periods=10),\n",
        "   columns = ['A', 'B', 'C', 'D'])\n",
        "print (df)\n",
        "r = df.rolling(window=3,min_periods=1)\n",
        "#Apply Multiple Functions on Multiple Columns of a DataFrame\n",
        "print (r['A','B'].aggregate([np.sum,np.mean]))"
      ],
      "execution_count": 29,
      "outputs": [
        {
          "output_type": "stream",
          "text": [
            "                   A         B         C         D\n",
            "2000-01-01  1.066705  1.573854  1.353902  0.399913\n",
            "2000-01-02  1.777293  1.639335 -0.106751 -0.836782\n",
            "2000-01-03 -1.709802  0.649977  0.125021 -0.283893\n",
            "2000-01-04 -0.802071  1.318019 -0.853065 -0.148225\n",
            "2000-01-05 -0.758695 -0.858948  0.034218 -0.014119\n",
            "2000-01-06 -1.009077  0.304555 -0.371703 -1.488653\n",
            "2000-01-07 -0.777553  0.363379 -0.083145 -1.726993\n",
            "2000-01-08  0.706926 -0.300866  0.716523  0.827239\n",
            "2000-01-09 -0.947488 -1.581791 -1.832857 -0.322685\n",
            "2000-01-10 -0.591068 -0.570170  0.654484  1.687207\n",
            "                   A                   B          \n",
            "                 sum      mean       sum      mean\n",
            "2000-01-01  1.066705  1.066705  1.573854  1.573854\n",
            "2000-01-02  2.843998  1.421999  3.213189  1.606594\n",
            "2000-01-03  1.134197  0.378066  3.863166  1.287722\n",
            "2000-01-04 -0.734579 -0.244860  3.607331  1.202444\n",
            "2000-01-05 -3.270567 -1.090189  1.109048  0.369683\n",
            "2000-01-06 -2.569843 -0.856614  0.763627  0.254542\n",
            "2000-01-07 -2.545325 -0.848442 -0.191014 -0.063671\n",
            "2000-01-08 -1.079704 -0.359901  0.367068  0.122356\n",
            "2000-01-09 -1.018115 -0.339372 -1.519278 -0.506426\n",
            "2000-01-10 -0.831630 -0.277210 -2.452826 -0.817609\n"
          ],
          "name": "stdout"
        }
      ]
    },
    {
      "cell_type": "code",
      "metadata": {
        "id": "aXUFe88QLKif",
        "colab_type": "code",
        "colab": {
          "base_uri": "https://localhost:8080/",
          "height": 153
        },
        "outputId": "3542f3af-3d4b-4781-d524-ae838bd14faa"
      },
      "source": [
        "import pandas as pd\n",
        "import numpy as np\n",
        " \n",
        "df = pd.DataFrame(np.random.randn(3, 4),\n",
        "   index = pd.date_range('1/1/2000', periods=3),\n",
        "   columns = ['A', 'B', 'C', 'D'])\n",
        "print (df)\n",
        "r = df.rolling(window=3,min_periods=1)\n",
        "#Apply Different Functions to Different Columns of a Dataframe\n",
        "print (r.aggregate({'A' : np.sum,'B' : np.mean}))"
      ],
      "execution_count": 31,
      "outputs": [
        {
          "output_type": "stream",
          "text": [
            "                   A         B         C         D\n",
            "2000-01-01 -0.809166  1.350583  0.701657 -0.089375\n",
            "2000-01-02  1.275951 -1.321435 -0.693635 -1.583858\n",
            "2000-01-03 -0.736416  0.045501 -1.892606 -0.103847\n",
            "                   A         B\n",
            "2000-01-01 -0.809166  1.350583\n",
            "2000-01-02  0.466786  0.014574\n",
            "2000-01-03 -0.269631  0.024883\n"
          ],
          "name": "stdout"
        }
      ]
    },
    {
      "cell_type": "code",
      "metadata": {
        "id": "Nkx1ioNSLlXq",
        "colab_type": "code",
        "colab": {}
      },
      "source": [
        ""
      ],
      "execution_count": 0,
      "outputs": []
    },
    {
      "cell_type": "markdown",
      "metadata": {
        "id": "8Lr-nnuYMPTc",
        "colab_type": "text"
      },
      "source": [
        "## Python Pandas - Missing Data\n"
      ]
    }
  ]
}